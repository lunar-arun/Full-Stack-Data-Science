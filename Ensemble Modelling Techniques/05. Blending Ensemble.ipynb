{
 "cells": [
  {
   "cell_type": "markdown",
   "id": "039ad15c",
   "metadata": {},
   "source": [
    "# Blending\n",
    "\n",
    "    An ensemble machine learning technique that uses a machine learning model to learn how to best combine the predictions from multiple contributing ensemble member models."
   ]
  },
  {
   "cell_type": "markdown",
   "id": "8b1b096b",
   "metadata": {},
   "source": []
  },
  {
   "cell_type": "markdown",
   "id": "c6799283",
   "metadata": {},
   "source": []
  },
  {
   "cell_type": "markdown",
   "id": "4c35b396",
   "metadata": {},
   "source": []
  },
  {
   "cell_type": "markdown",
   "id": "e6beb69e",
   "metadata": {},
   "source": []
  },
  {
   "cell_type": "markdown",
   "id": "7f8b1a75",
   "metadata": {},
   "source": []
  },
  {
   "cell_type": "markdown",
   "id": "fa0f76f1",
   "metadata": {},
   "source": []
  },
  {
   "cell_type": "markdown",
   "id": "c3567b86",
   "metadata": {},
   "source": [
    "https://github.com/FernandoLpz/Stacking-Blending-Voting-Ensembles"
   ]
  },
  {
   "cell_type": "markdown",
   "id": "a8940027",
   "metadata": {},
   "source": [
    "https://machinelearningmastery.com/blending-ensemble-machine-learning-with-python/"
   ]
  },
  {
   "cell_type": "code",
   "execution_count": 1,
   "id": "d59a14ef",
   "metadata": {
    "ExecuteTime": {
     "end_time": "2023-12-21T09:16:48.954706Z",
     "start_time": "2023-12-21T09:16:46.674750Z"
    }
   },
   "outputs": [
    {
     "name": "stdout",
     "output_type": "stream",
     "text": [
      "Train accuracy: 0.9448275862068966\n",
      "Test accuracy: 0.9534883720930233\n"
     ]
    }
   ],
   "source": [
    "import numpy as np\n",
    "from sklearn.datasets import load_breast_cancer\n",
    "from sklearn.model_selection import train_test_split\n",
    "\n",
    "from sklearn.tree import DecisionTreeClassifier\n",
    "from sklearn.ensemble import RandomForestClassifier\n",
    "from sklearn.neighbors import KNeighborsClassifier\n",
    "from sklearn.ensemble import GradientBoostingClassifier\n",
    "from sklearn.naive_bayes import GaussianNB\n",
    "from sklearn.linear_model import LogisticRegression\n",
    "\n",
    "\n",
    "class Ensemble:\n",
    "    def __init__(self):\n",
    "        self.x_train = None\n",
    "        self.x_test = None\n",
    "        self.y_train = None\n",
    "        self.y_test = None\n",
    "\n",
    "    def load_data(self):\n",
    "        x, y = load_breast_cancer(return_X_y=True)\n",
    "        self.x_train, self.x_test, self.y_train, self.y_test = train_test_split(x, y, test_size=0.15, random_state=23)\n",
    "        self.x_train, self.x_val, self.y_train, self.y_val = train_test_split(self.x_train, self.y_train, test_size=0.3,\n",
    "                                                                              random_state=23)\n",
    "\n",
    "    def BlendingClassifier(self):\n",
    "\n",
    "        # Define weak learners\n",
    "        weak_learners = [('dt', DecisionTreeClassifier()),\n",
    "                         ('knn', KNeighborsClassifier()),\n",
    "                         ('rf', RandomForestClassifier()),\n",
    "                         ('gb', GradientBoostingClassifier()),\n",
    "                         ('gn', GaussianNB())]\n",
    "\n",
    "        # Final learner or meta model\n",
    "        final_learner = LogisticRegression()\n",
    "\n",
    "        train_meta_model = None\n",
    "        test_meta_model = None\n",
    "\n",
    "        # Start stacking\n",
    "        for clf_id, clf in weak_learners:\n",
    "\n",
    "            # Predictions for each classifier based on k-fold\n",
    "            val_predictions, test_predictions = self.train_level_0(clf)\n",
    "\n",
    "            # Stack predictions which will form \n",
    "            # the input data for the data model\n",
    "            if isinstance(train_meta_model, np.ndarray):\n",
    "                train_meta_model = np.vstack((train_meta_model, val_predictions))\n",
    "            else:\n",
    "                train_meta_model = val_predictions\n",
    "\n",
    "            # Stack predictions from test set\n",
    "            # which will form test data for meta model\n",
    "            if isinstance(test_meta_model, np.ndarray):\n",
    "                test_meta_model = np.vstack((test_meta_model, test_predictions))\n",
    "            else:\n",
    "                test_meta_model = test_predictions\n",
    "\n",
    "        # Transpose train_meta_model\n",
    "        train_meta_model = train_meta_model.T\n",
    "\n",
    "        # Transpose test_meta_model\n",
    "        test_meta_model = test_meta_model.T\n",
    "\n",
    "        # Training level 1\n",
    "        self.train_level_1(final_learner, train_meta_model, test_meta_model)\n",
    "\n",
    "    def train_level_0(self, clf):\n",
    "        # Train with base x_train\n",
    "        clf.fit(self.x_train, self.y_train)\n",
    "\n",
    "        # Generate predictions for the holdout set (validation)\n",
    "        # These predictions will build the input for the meta model\n",
    "        val_predictions = clf.predict(self.x_val)\n",
    "\n",
    "        # Generate predictions for original test set\n",
    "        # These predictions will be used to test the meta model\n",
    "        test_predictions = clf.predict(self.x_test)\n",
    "\n",
    "        return val_predictions, test_predictions\n",
    "\n",
    "    def train_level_1(self, final_learner, train_meta_model, test_meta_model):\n",
    "        # Train is carried out with final learner or meta model\n",
    "        final_learner.fit(train_meta_model, self.y_val)\n",
    "\n",
    "        # Getting train and test accuracies from meta_model\n",
    "        print(f\"Train accuracy: {final_learner.score(train_meta_model, self.y_val)}\")\n",
    "        print(f\"Test accuracy: {final_learner.score(test_meta_model, self.y_test)}\")\n",
    "\n",
    "\n",
    "if __name__ == \"__main__\":\n",
    "    ensemble = Ensemble()\n",
    "    ensemble.load_data()\n",
    "    ensemble.BlendingClassifier()"
   ]
  },
  {
   "cell_type": "code",
   "execution_count": null,
   "id": "481697ff",
   "metadata": {},
   "outputs": [],
   "source": []
  }
 ],
 "metadata": {
  "kernelspec": {
   "display_name": "Python 3 (ipykernel)",
   "language": "python",
   "name": "python3"
  },
  "language_info": {
   "codemirror_mode": {
    "name": "ipython",
    "version": 3
   },
   "file_extension": ".py",
   "mimetype": "text/x-python",
   "name": "python",
   "nbconvert_exporter": "python",
   "pygments_lexer": "ipython3",
   "version": "3.11.5"
  },
  "toc": {
   "base_numbering": 1,
   "nav_menu": {},
   "number_sections": true,
   "sideBar": true,
   "skip_h1_title": false,
   "title_cell": "Table of Contents",
   "title_sidebar": "Contents",
   "toc_cell": false,
   "toc_position": {},
   "toc_section_display": true,
   "toc_window_display": false
  }
 },
 "nbformat": 4,
 "nbformat_minor": 5
}
