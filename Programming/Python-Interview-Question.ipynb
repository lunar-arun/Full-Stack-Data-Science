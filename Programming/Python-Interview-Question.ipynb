{
 "cells": [
  {
   "cell_type": "markdown",
   "id": "c6f67b23",
   "metadata": {},
   "source": [
    "    what is python progamming language?\n",
    "        A high-level, general-purpose interperted programming language."
   ]
  },
  {
   "cell_type": "markdown",
   "id": "07ec9c33",
   "metadata": {},
   "source": [
    "    what are the data types in python?\n",
    "        Interger\n",
    "        Float\n",
    "        String\n",
    "        Bool\n",
    "        List\n",
    "        Tuple\n",
    "        Set\n",
    "        Dictionary\n",
    "        None\n",
    "        Complex"
   ]
  },
  {
   "cell_type": "markdown",
   "id": "ad6f5a81",
   "metadata": {},
   "source": [
    "    Similarity and Difference\n",
    "    \n",
    "    list()  : ordered collection   | mutable   | []\n",
    "    tuple() : ordered collection   | immutable | ()\n",
    "    set()   : unordered collection | mutable   | {}\n",
    "    dict()  : unordered collection | mutable   | {} with :"
   ]
  },
  {
   "cell_type": "markdown",
   "id": "adc8f97b",
   "metadata": {},
   "source": [
    "    what is dictionary?\n",
    "        It's a collection of key-value pair.\n",
    "        Keys are unique and immutable.\n",
    "        Commonly used for tasks that involve mapping keys to values."
   ]
  },
  {
   "cell_type": "markdown",
   "id": "66f8c049",
   "metadata": {},
   "source": [
    "    what are function and classes in python?\n",
    "        Function : \n",
    "            A block of code tha performs a specific task.\n",
    "        Classes : \n",
    "            A blueprint for creating objects or instances."
   ]
  },
  {
   "cell_type": "markdown",
   "id": "8f0a76b8",
   "metadata": {},
   "source": [
    "    what are objects and instances?\n",
    "        Objects are variables that contain data and functions that can be used to manipulate the data.\n",
    "        Instances is an individual object of a certain class."
   ]
  },
  {
   "cell_type": "markdown",
   "id": "d78ebec8",
   "metadata": {},
   "source": [
    "    What is the difference between a module and a package?\n",
    "        Module : single Python file that contains variables, functions, and classes.\n",
    "            Modules are imported into other Python scripts using the \"import\" statement.\n",
    "            \n",
    "        Package :  A collection of Python modules organized in a directory hierarchy.\n",
    "            Packages are imported just like modules, and you can access modules within a package using dot notation."
   ]
  },
  {
   "cell_type": "markdown",
   "id": "ab3a5a09",
   "metadata": {},
   "source": [
    "    What is the Global Interpreter Lock (GIL)?\n",
    "        The GIL is a critical aspect of CPython's memory management and multi-threading model."
   ]
  },
  {
   "cell_type": "markdown",
   "id": "70e2b9a8",
   "metadata": {},
   "source": [
    "    What is PEP 8?\n",
    "        Python Enhancement Proposal 8 : Guidelines for writing clean and readable Python code."
   ]
  },
  {
   "cell_type": "markdown",
   "id": "7150351a",
   "metadata": {},
   "source": [
    "    What is object-oriented programming?\n",
    "         It's fundamental building blocks of software development.\n",
    "         \n",
    "         Concept of organizing code into self-contained, reusable units called objects, \n",
    "         which represent real-world entities or concepts and encapsulate both data (attributes) and behavior (methods)."
   ]
  },
  {
   "cell_type": "markdown",
   "id": "f8b61738",
   "metadata": {},
   "source": [
    "    Objects: Objects are instances of classes. \n",
    "        They represent real-world entities, concepts, or things and encapsulate their data and behavior."
   ]
  },
  {
   "cell_type": "markdown",
   "id": "aab4b1a6",
   "metadata": {},
   "source": [
    "    Classes: Classes are blueprint templates for creating objects. \n",
    "        They define the structure and behavior that objects of that class will have."
   ]
  },
  {
   "cell_type": "markdown",
   "id": "5d172830",
   "metadata": {},
   "source": [
    "    Attributes: Attributes are data members or properties associated with an object or a class. \n",
    "        They represent the object's state."
   ]
  },
  {
   "cell_type": "markdown",
   "id": "37a5bddf",
   "metadata": {},
   "source": [
    "    Methods: Methods are functions defined within a class that operate on the object's data or provide functionality associated with the object. "
   ]
  },
  {
   "cell_type": "markdown",
   "id": "b8965bc9",
   "metadata": {},
   "source": [
    "    What are the four pillars of object-oriented programming?\n",
    "        \n",
    "        Encapsulation:\n",
    "            a way to restrict the direct access to some components of an object\n",
    "        Inheritance:\n",
    "            a mechanism that allows a class to inherit properties and behaviors from another class.\n",
    "        Abstraction:\n",
    "            Used to hide any unnecessary implementation about the data so that users only see the required information.\n",
    "        Polymorphism: \n",
    "            the ability of objects to take on different forms "
   ]
  },
  {
   "cell_type": "markdown",
   "id": "96c8930f",
   "metadata": {},
   "source": [
    "    What is garbage collection?\n",
    "        A memory management technique to automatically reclaim unused memory.\n",
    "        \n",
    "        The primary goal is to free up memory occupied by objects that are no longer reachable or accessible, \n",
    "        preventing memory leaks and improving the overall efficiency and reliability of a program."
   ]
  },
  {
   "cell_type": "markdown",
   "id": "2a6d45b6",
   "metadata": {},
   "source": [
    "    What are decorators?\n",
    "        A powerful and flexible feature that allow you to modify or extend the behavior of functions \n",
    "        or methods without changing their source code."
   ]
  },
  {
   "cell_type": "markdown",
   "id": "01ad8f9d",
   "metadata": {},
   "source": []
  },
  {
   "cell_type": "markdown",
   "id": "6422e7f9",
   "metadata": {},
   "source": []
  },
  {
   "cell_type": "markdown",
   "id": "2457d9fe",
   "metadata": {},
   "source": []
  }
 ],
 "metadata": {
  "kernelspec": {
   "display_name": "Python 3 (ipykernel)",
   "language": "python",
   "name": "python3"
  },
  "language_info": {
   "codemirror_mode": {
    "name": "ipython",
    "version": 3
   },
   "file_extension": ".py",
   "mimetype": "text/x-python",
   "name": "python",
   "nbconvert_exporter": "python",
   "pygments_lexer": "ipython3",
   "version": "3.10.9"
  }
 },
 "nbformat": 4,
 "nbformat_minor": 5
}
