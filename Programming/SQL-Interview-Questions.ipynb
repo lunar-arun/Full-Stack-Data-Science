{
 "cells": [
  {
   "cell_type": "markdown",
   "id": "0c92daf3",
   "metadata": {},
   "source": [
    "    Data : Collection of information which is used for analysis and decision making."
   ]
  },
  {
   "cell_type": "markdown",
   "id": "05f7cdb0",
   "metadata": {},
   "source": [
    "    What are types of data?\n",
    "        Structured data, Semi-structured data, and Unstructured data."
   ]
  },
  {
   "cell_type": "markdown",
   "id": "c54caef2",
   "metadata": {},
   "source": [
    "    Table : It's collection of data stored in the form of rows and columns.\n",
    "\n",
    "     what is Database?\n",
    "         Its a collection of tables with organized data.\n",
    "         \n",
    "     Collection of database is called Data WareHouse"
   ]
  },
  {
   "cell_type": "markdown",
   "id": "19d289a2",
   "metadata": {},
   "source": [
    "    DBMS : Database Management System\n",
    "        It's a software system which allow the user to Creation, Retrieval, Updation, Deletion and managment of the database.\n",
    "        \n",
    "    Types:\n",
    "        DBMS : single file structured data.\n",
    "        RDBMS : Relational Database Management System\n",
    "            Multi-file (collection of tables with relation defined between tables on common fields)            \n",
    "        NoSQL : Unstructured data, uses graph theory to store, manage, and query data.\n",
    "        Hierarchical : Organized data in tree-like structure.\n",
    "        Network : Coomplex data relationships"
   ]
  },
  {
   "cell_type": "markdown",
   "id": "d94319e2",
   "metadata": {},
   "source": [
    "    SQL : Structured Query Language\n",
    "        Used for retrieving and manipulating structured databases.\n",
    "    MySQL : It's RDBMS used to manage SQL databases."
   ]
  },
  {
   "cell_type": "markdown",
   "id": "7ea95fc6",
   "metadata": {},
   "source": [
    "    Different types of SQL command?\n",
    "    \n",
    "        DDL - Data Definition Language\n",
    "            define the database schema.[CREATE|DROP|ALTER|TRUNCATE|RENAME]\n",
    "            \n",
    "        DQL - Data Query Language\n",
    "            performing queries on the data within schema objects.[SELECT]\n",
    "            \n",
    "        DML - Data Manipulation Language\n",
    "            used to make changes to the database.[INSERT|UPDATE|DELETE]"
   ]
  },
  {
   "cell_type": "markdown",
   "id": "71a3262b",
   "metadata": {},
   "source": [
    "    Difference between DELETE, TRUNCATE and DROP command?\n",
    "        DELETE command :\n",
    "            used to remove specific rows from a table.\n",
    "            operation is slower\n",
    "            \n",
    "        TRUNCARE command :\n",
    "            used to remove all rows from a table and leaving the row with the column names.\n",
    "            operation is faster\n",
    "            \n",
    "        DROP command : \n",
    "            removes the table complete from the database."
   ]
  },
  {
   "cell_type": "markdown",
   "id": "f9ca4e24",
   "metadata": {},
   "source": [
    "    what are Fields and Records?\n",
    "        The columns in the table represent Field (Attribute) and \n",
    "        rows represent Record (Tuple)."
   ]
  },
  {
   "cell_type": "markdown",
   "id": "f2a4b150",
   "metadata": {},
   "source": [
    "    what are different type of keys in SQL?\n",
    "        \n",
    "        CANDIDATE KEY : One or more columns that uniquely identify a record in a table.\n",
    "        \n",
    "        PRIMARY KEY : A attribute that unique identifier for a record.\n",
    "        \n",
    "        ALTERNATE KEY : The CANDIDATE KEY other than the primary key.\n",
    "        \n",
    "        SUPER KEY : Set of attribute that uniquely identify a tuple.\n",
    "        \n",
    "        FOREIGN KEY : A attribute which is PRIMARY KEY in another table."
   ]
  },
  {
   "cell_type": "markdown",
   "id": "521ee72d",
   "metadata": {},
   "source": [
    "    what is query?\n",
    "        A request for data from a database table or combination of tables.\n",
    "        \n",
    "    Subquery : A query within another query.\n",
    "        It's used to restrict or enhance the data to be queried by the main query, hence limiting or enhancing the output of the main query respectively.\n",
    "        \n",
    "     Types of subquery :\n",
    "         Correlated subquery : The outer query is dependent on the inner query.\n",
    "         Non-Correlated subquery : The outer query is independent on inner query."
   ]
  },
  {
   "cell_type": "markdown",
   "id": "00628f07",
   "metadata": {},
   "source": [
    "    What is Normalization?\n",
    "        Normalization represents the way of organizing structured data in the database efficiently.\n",
    "        It includes the creation of tables, establishing relationships between them, and defining rules for those relationships.\n",
    "        Inconsistency and redundancy can be kept in check based on these rules, hence, adding flexibility to the database.\n",
    "        \n",
    "     forms of Normalization : \n",
    "         First Normal Form : A relation is in first normal form if every attribute in that relation is a single-valued attribute.\n",
    "         \n",
    "         Second Normal Form :  It satisfies the conditions for the first normal form and does not contain any partial dependency.\n",
    "         \n",
    "         Third Normal Form : It satisfies the conditions for the second normal form and there is no transitive dependency."
   ]
  },
  {
   "cell_type": "markdown",
   "id": "ee1d1fa3",
   "metadata": {},
   "source": [
    "    What is Denormalization?\n",
    "        The inverse process of normalization, where the normalized schema is converted into a schema that has redundant information."
   ]
  },
  {
   "cell_type": "markdown",
   "id": "3735b728",
   "metadata": {},
   "source": [
    "    What are Aggregate and Scalar functions?\n",
    "        Aggregate function :\n",
    "            performs operations on a collection of values to return a single scalar value.\n",
    "            [AVG()| COUNT() | MIN() | MAX() | SUM()]\n",
    "        \n",
    "        Scalar function : \n",
    "            returns a single value based on the input value.\n",
    "            [LEN()| ROUND()]"
   ]
  },
  {
   "cell_type": "markdown",
   "id": "ed3f32b9",
   "metadata": {},
   "source": [
    "    What is a trigger?\n",
    "        A statement that a system executes automatically when there is any modification to the database."
   ]
  },
  {
   "cell_type": "markdown",
   "id": "2d5e17e4",
   "metadata": {},
   "source": [
    "    What is Data Integrity?\n",
    "        Defined as the data contained in the database being both correct and consistent."
   ]
  },
  {
   "cell_type": "markdown",
   "id": "523a1838",
   "metadata": {},
   "source": [
    "    What is a constraint?\n",
    "        It's set of rules that we can apply to the type of data in a table. \n",
    "        That is, we can specify the limit on the type of data that can be stored in a particular column in a table using constraints."
   ]
  }
 ],
 "metadata": {
  "kernelspec": {
   "display_name": "Python 3 (ipykernel)",
   "language": "python",
   "name": "python3"
  },
  "language_info": {
   "codemirror_mode": {
    "name": "ipython",
    "version": 3
   },
   "file_extension": ".py",
   "mimetype": "text/x-python",
   "name": "python",
   "nbconvert_exporter": "python",
   "pygments_lexer": "ipython3",
   "version": "3.10.9"
  }
 },
 "nbformat": 4,
 "nbformat_minor": 5
}
