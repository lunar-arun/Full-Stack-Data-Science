{
 "cells": [
  {
   "cell_type": "markdown",
   "id": "e8776bb1",
   "metadata": {},
   "source": [
    "    Python Classes/Objects\n",
    "        Python is an object oriented programming language.\n",
    "\n",
    "        Almost everything in Python is an object, with its properties and methods.\n",
    "\n",
    "        A Class is like an object constructor, or a \"blueprint\" for creating objects."
   ]
  },
  {
   "cell_type": "code",
   "execution_count": 1,
   "id": "b61bcb4c",
   "metadata": {
    "ExecuteTime": {
     "end_time": "2024-05-10T01:18:27.825393Z",
     "start_time": "2024-05-10T01:18:27.821021Z"
    }
   },
   "outputs": [],
   "source": [
    "# Example\n",
    "\n",
    "class MyClassExample:\n",
    "    myName = \"Lunar\""
   ]
  },
  {
   "cell_type": "code",
   "execution_count": null,
   "id": "ae0b5e1a",
   "metadata": {},
   "outputs": [],
   "source": []
  }
 ],
 "metadata": {
  "kernelspec": {
   "display_name": "Python 3 (ipykernel)",
   "language": "python",
   "name": "python3"
  },
  "language_info": {
   "codemirror_mode": {
    "name": "ipython",
    "version": 3
   },
   "file_extension": ".py",
   "mimetype": "text/x-python",
   "name": "python",
   "nbconvert_exporter": "python",
   "pygments_lexer": "ipython3",
   "version": "3.11.5"
  },
  "toc": {
   "base_numbering": 1,
   "nav_menu": {},
   "number_sections": true,
   "sideBar": true,
   "skip_h1_title": false,
   "title_cell": "Table of Contents",
   "title_sidebar": "Contents",
   "toc_cell": false,
   "toc_position": {},
   "toc_section_display": true,
   "toc_window_display": false
  }
 },
 "nbformat": 4,
 "nbformat_minor": 5
}
