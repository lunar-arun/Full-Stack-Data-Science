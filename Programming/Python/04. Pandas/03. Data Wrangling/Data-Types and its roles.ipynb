{
 "cells": [
  {
   "cell_type": "code",
   "execution_count": 1,
   "id": "c35ade0d",
   "metadata": {},
   "outputs": [],
   "source": [
    "import pandas as pd"
   ]
  },
  {
   "cell_type": "markdown",
   "id": "fda22335",
   "metadata": {},
   "source": [
    "    In a dataset we have different data types, like : int64, float64, object...\n",
    "    \n",
    "    Here object are none other than string (categorical variable).\n",
    "    \n",
    "    We need to be aware of what data types are stored in columns so we get an idea of which function and calculations can be performed on the data."
   ]
  },
  {
   "cell_type": "code",
   "execution_count": 16,
   "id": "2af18b0f",
   "metadata": {},
   "outputs": [],
   "source": [
    "df = pd.read_csv('data/shopping_trends.csv')"
   ]
  },
  {
   "cell_type": "markdown",
   "id": "00a22c4b",
   "metadata": {},
   "source": [
    "    .dtypes gives the info columns datatypes!"
   ]
  },
  {
   "cell_type": "code",
   "execution_count": 17,
   "id": "03c1d7fe",
   "metadata": {},
   "outputs": [
    {
     "data": {
      "text/plain": [
       "Customer ID                   int64\n",
       "Age                           int64\n",
       "Gender                       object\n",
       "Item Purchased               object\n",
       "Category                     object\n",
       "Purchase Amount (USD)         int64\n",
       "Location                     object\n",
       "Size                         object\n",
       "Color                        object\n",
       "Season                       object\n",
       "Review Rating               float64\n",
       "Subscription Status          object\n",
       "Payment Method               object\n",
       "Shipping Type                object\n",
       "Discount Applied             object\n",
       "Promo Code Used              object\n",
       "Previous Purchases            int64\n",
       "Preferred Payment Method     object\n",
       "Frequency of Purchases       object\n",
       "dtype: object"
      ]
     },
     "execution_count": 17,
     "metadata": {},
     "output_type": "execute_result"
    }
   ],
   "source": [
    "df.dtypes"
   ]
  },
  {
   "cell_type": "markdown",
   "id": "e9bfe052",
   "metadata": {},
   "source": [
    "    It’s much easier to work with string object types when the variable is not a numeric number."
   ]
  },
  {
   "cell_type": "markdown",
   "id": "1cc47adf",
   "metadata": {},
   "source": [
    "    The astype() method in pandas is used to cast a pandas object to a specified data type."
   ]
  },
  {
   "cell_type": "code",
   "execution_count": 18,
   "id": "0ecb9407",
   "metadata": {},
   "outputs": [
    {
     "data": {
      "text/plain": [
       "dtype('int64')"
      ]
     },
     "execution_count": 18,
     "metadata": {},
     "output_type": "execute_result"
    }
   ],
   "source": [
    "df['Age'].dtypes"
   ]
  },
  {
   "cell_type": "code",
   "execution_count": 23,
   "id": "3064fc2c",
   "metadata": {},
   "outputs": [
    {
     "data": {
      "text/plain": [
       "dtype('O')"
      ]
     },
     "execution_count": 23,
     "metadata": {},
     "output_type": "execute_result"
    }
   ],
   "source": [
    "df['Age'] = df['Age'].astype(str)\n",
    "df['Age'].dtypes"
   ]
  },
  {
   "cell_type": "code",
   "execution_count": 22,
   "id": "8fe8bf15",
   "metadata": {},
   "outputs": [
    {
     "data": {
      "text/plain": [
       "dtype('int32')"
      ]
     },
     "execution_count": 22,
     "metadata": {},
     "output_type": "execute_result"
    }
   ],
   "source": [
    "df['Age'] = df['Age'].astype(int)\n",
    "df['Age'].dtypes"
   ]
  },
  {
   "cell_type": "markdown",
   "id": "6ec4759e",
   "metadata": {},
   "source": [
    "    Another way to convert dtypes to numeric types are...\n",
    "    \n",
    "    pd.to_numeric(df[cols])"
   ]
  },
  {
   "cell_type": "code",
   "execution_count": 25,
   "id": "4300bb4b",
   "metadata": {},
   "outputs": [],
   "source": [
    "df['Age'] = pd.to_numeric(df['Age'])"
   ]
  },
  {
   "cell_type": "markdown",
   "id": "19db2e53",
   "metadata": {},
   "source": [
    "    If we have missing value, then we can add arguments like error to rectify it.\n",
    "    pd.to_numeric(df[cols], errors='ignore')\n",
    "    \n",
    "    ignore :-> missing\n",
    "    coerce :-> NaN"
   ]
  },
  {
   "cell_type": "markdown",
   "id": "38a344e7",
   "metadata": {},
   "source": [
    "    to_numeric function has another parameter called downcast,\n",
    "        which allows you to change the numeric dtype to the smallest possible numeric dtype"
   ]
  },
  {
   "cell_type": "code",
   "execution_count": 27,
   "id": "34c70f93",
   "metadata": {},
   "outputs": [
    {
     "data": {
      "text/plain": [
       "0       55.0\n",
       "1       19.0\n",
       "2       50.0\n",
       "3       21.0\n",
       "4       45.0\n",
       "        ... \n",
       "3895    40.0\n",
       "3896    52.0\n",
       "3897    46.0\n",
       "3898    44.0\n",
       "3899    52.0\n",
       "Name: Age, Length: 3900, dtype: float32"
      ]
     },
     "execution_count": 27,
     "metadata": {},
     "output_type": "execute_result"
    }
   ],
   "source": [
    "df['Age'] = pd.to_numeric(df['Age'], downcast='float')\n",
    "df['Age']"
   ]
  },
  {
   "cell_type": "code",
   "execution_count": null,
   "id": "41c697eb",
   "metadata": {},
   "outputs": [],
   "source": []
  }
 ],
 "metadata": {
  "kernelspec": {
   "display_name": "Python 3 (ipykernel)",
   "language": "python",
   "name": "python3"
  },
  "language_info": {
   "codemirror_mode": {
    "name": "ipython",
    "version": 3
   },
   "file_extension": ".py",
   "mimetype": "text/x-python",
   "name": "python",
   "nbconvert_exporter": "python",
   "pygments_lexer": "ipython3",
   "version": "3.10.9"
  }
 },
 "nbformat": 4,
 "nbformat_minor": 5
}
