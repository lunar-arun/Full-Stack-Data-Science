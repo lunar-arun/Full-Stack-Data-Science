{
 "cells": [
  {
   "cell_type": "code",
   "execution_count": 15,
   "id": "1504a4a7",
   "metadata": {
    "ExecuteTime": {
     "end_time": "2024-05-13T08:26:31.183778Z",
     "start_time": "2024-05-13T08:26:31.178794Z"
    }
   },
   "outputs": [],
   "source": [
    "from datetime import datetime"
   ]
  },
  {
   "cell_type": "code",
   "execution_count": 16,
   "id": "83e96f1d",
   "metadata": {
    "ExecuteTime": {
     "end_time": "2024-05-13T08:26:49.015918Z",
     "start_time": "2024-05-13T08:26:49.008858Z"
    }
   },
   "outputs": [
    {
     "data": {
      "text/plain": [
       "datetime.datetime(2024, 5, 13, 13, 56, 49, 10813)"
      ]
     },
     "execution_count": 16,
     "metadata": {},
     "output_type": "execute_result"
    }
   ],
   "source": [
    "datetime.now()"
   ]
  },
  {
   "cell_type": "code",
   "execution_count": 17,
   "id": "dedb9981",
   "metadata": {
    "ExecuteTime": {
     "end_time": "2024-05-13T08:26:58.401826Z",
     "start_time": "2024-05-13T08:26:58.397149Z"
    }
   },
   "outputs": [],
   "source": [
    "var =   datetime.now()"
   ]
  },
  {
   "cell_type": "code",
   "execution_count": 24,
   "id": "40494f04",
   "metadata": {
    "ExecuteTime": {
     "end_time": "2024-05-13T08:28:27.319604Z",
     "start_time": "2024-05-13T08:28:27.316234Z"
    }
   },
   "outputs": [
    {
     "name": "stdout",
     "output_type": "stream",
     "text": [
      "2024-05-13 13:56:58.399129\n"
     ]
    }
   ],
   "source": [
    "print(var)"
   ]
  },
  {
   "cell_type": "code",
   "execution_count": 19,
   "id": "ce7bfc48",
   "metadata": {
    "ExecuteTime": {
     "end_time": "2024-05-13T08:27:12.609340Z",
     "start_time": "2024-05-13T08:27:12.603688Z"
    }
   },
   "outputs": [
    {
     "data": {
      "text/plain": [
       "datetime.date(2024, 5, 13)"
      ]
     },
     "execution_count": 19,
     "metadata": {},
     "output_type": "execute_result"
    }
   ],
   "source": [
    "var.date()"
   ]
  },
  {
   "cell_type": "code",
   "execution_count": 21,
   "id": "947e192c",
   "metadata": {
    "ExecuteTime": {
     "end_time": "2024-05-13T08:27:30.826620Z",
     "start_time": "2024-05-13T08:27:30.821402Z"
    }
   },
   "outputs": [
    {
     "data": {
      "text/plain": [
       "13"
      ]
     },
     "execution_count": 21,
     "metadata": {},
     "output_type": "execute_result"
    }
   ],
   "source": [
    "var.day"
   ]
  },
  {
   "cell_type": "code",
   "execution_count": 22,
   "id": "0218e3eb",
   "metadata": {
    "ExecuteTime": {
     "end_time": "2024-05-13T08:27:41.890895Z",
     "start_time": "2024-05-13T08:27:41.883449Z"
    }
   },
   "outputs": [
    {
     "data": {
      "text/plain": [
       "5"
      ]
     },
     "execution_count": 22,
     "metadata": {},
     "output_type": "execute_result"
    }
   ],
   "source": [
    "var.month"
   ]
  },
  {
   "cell_type": "code",
   "execution_count": 23,
   "id": "9e09c024",
   "metadata": {
    "ExecuteTime": {
     "end_time": "2024-05-13T08:27:49.196649Z",
     "start_time": "2024-05-13T08:27:49.189975Z"
    }
   },
   "outputs": [
    {
     "data": {
      "text/plain": [
       "2024"
      ]
     },
     "execution_count": 23,
     "metadata": {},
     "output_type": "execute_result"
    }
   ],
   "source": [
    "var.year"
   ]
  },
  {
   "cell_type": "code",
   "execution_count": 26,
   "id": "442ce060",
   "metadata": {
    "ExecuteTime": {
     "end_time": "2024-05-13T08:29:39.267020Z",
     "start_time": "2024-05-13T08:29:39.259241Z"
    }
   },
   "outputs": [
    {
     "data": {
      "text/plain": [
       "0"
      ]
     },
     "execution_count": 26,
     "metadata": {},
     "output_type": "execute_result"
    }
   ],
   "source": []
  },
  {
   "cell_type": "code",
   "execution_count": 1,
   "id": "5041a2f6",
   "metadata": {
    "ExecuteTime": {
     "end_time": "2024-05-13T09:35:53.443700Z",
     "start_time": "2024-05-13T09:35:53.438768Z"
    }
   },
   "outputs": [],
   "source": [
    "import datetime as dt"
   ]
  },
  {
   "cell_type": "code",
   "execution_count": 5,
   "id": "3ec46668",
   "metadata": {
    "ExecuteTime": {
     "end_time": "2024-05-13T09:36:45.840576Z",
     "start_time": "2024-05-13T09:36:45.832102Z"
    }
   },
   "outputs": [
    {
     "data": {
      "text/plain": [
       "datetime.datetime(2024, 5, 13, 15, 6, 45, 836101)"
      ]
     },
     "execution_count": 5,
     "metadata": {},
     "output_type": "execute_result"
    }
   ],
   "source": [
    "dt.datetime.now()"
   ]
  },
  {
   "cell_type": "code",
   "execution_count": 6,
   "id": "995f68d1",
   "metadata": {
    "ExecuteTime": {
     "end_time": "2024-05-13T09:39:36.418984Z",
     "start_time": "2024-05-13T09:39:34.476759Z"
    }
   },
   "outputs": [],
   "source": [
    "import pandas as pd"
   ]
  },
  {
   "cell_type": "code",
   "execution_count": 7,
   "id": "fdb713f8",
   "metadata": {
    "ExecuteTime": {
     "end_time": "2024-05-13T09:39:56.938218Z",
     "start_time": "2024-05-13T09:39:56.813147Z"
    }
   },
   "outputs": [],
   "source": [
    "df = pd.read_csv('data/country_timeseries.csv')"
   ]
  },
  {
   "cell_type": "code",
   "execution_count": 8,
   "id": "726dd18b",
   "metadata": {
    "ExecuteTime": {
     "end_time": "2024-05-13T09:40:08.572795Z",
     "start_time": "2024-05-13T09:40:08.567746Z"
    }
   },
   "outputs": [
    {
     "data": {
      "text/plain": [
       "Index(['Date', 'Day', 'Cases_Guinea', 'Cases_Liberia', 'Cases_SierraLeone',\n",
       "       'Cases_Nigeria', 'Cases_Senegal', 'Cases_UnitedStates', 'Cases_Spain',\n",
       "       'Cases_Mali', 'Deaths_Guinea', 'Deaths_Liberia', 'Deaths_SierraLeone',\n",
       "       'Deaths_Nigeria', 'Deaths_Senegal', 'Deaths_UnitedStates',\n",
       "       'Deaths_Spain', 'Deaths_Mali'],\n",
       "      dtype='object')"
      ]
     },
     "execution_count": 8,
     "metadata": {},
     "output_type": "execute_result"
    }
   ],
   "source": [
    "df.columns"
   ]
  },
  {
   "cell_type": "code",
   "execution_count": 9,
   "id": "50039573",
   "metadata": {
    "ExecuteTime": {
     "end_time": "2024-05-13T09:41:21.770222Z",
     "start_time": "2024-05-13T09:41:21.761065Z"
    }
   },
   "outputs": [
    {
     "data": {
      "text/plain": [
       "0      1/5/2015\n",
       "1      1/4/2015\n",
       "2      1/3/2015\n",
       "3      1/2/2015\n",
       "4    12/31/2014\n",
       "Name: Date, dtype: object"
      ]
     },
     "execution_count": 9,
     "metadata": {},
     "output_type": "execute_result"
    }
   ],
   "source": [
    "df['Date'].head()"
   ]
  },
  {
   "cell_type": "code",
   "execution_count": 10,
   "id": "d7b1a125",
   "metadata": {
    "ExecuteTime": {
     "end_time": "2024-05-13T09:41:46.102456Z",
     "start_time": "2024-05-13T09:41:46.097574Z"
    }
   },
   "outputs": [
    {
     "data": {
      "text/plain": [
       "str"
      ]
     },
     "execution_count": 10,
     "metadata": {},
     "output_type": "execute_result"
    }
   ],
   "source": [
    "type(df['Date'][0])"
   ]
  },
  {
   "cell_type": "code",
   "execution_count": 11,
   "id": "42435337",
   "metadata": {
    "ExecuteTime": {
     "end_time": "2024-05-13T09:42:09.269034Z",
     "start_time": "2024-05-13T09:42:09.259512Z"
    }
   },
   "outputs": [
    {
     "data": {
      "text/plain": [
       "['1', '5', '2015']"
      ]
     },
     "execution_count": 11,
     "metadata": {},
     "output_type": "execute_result"
    }
   ],
   "source": [
    "df['Date'][0].split('/')"
   ]
  },
  {
   "cell_type": "code",
   "execution_count": 14,
   "id": "e58ae63b",
   "metadata": {
    "ExecuteTime": {
     "end_time": "2024-05-13T09:45:07.834040Z",
     "start_time": "2024-05-13T09:45:07.802847Z"
    }
   },
   "outputs": [
    {
     "ename": "AttributeError",
     "evalue": "'str' object has no attribute 'dt'",
     "output_type": "error",
     "traceback": [
      "\u001b[1;31m---------------------------------------------------------------------------\u001b[0m",
      "\u001b[1;31mAttributeError\u001b[0m                            Traceback (most recent call last)",
      "Cell \u001b[1;32mIn[14], line 1\u001b[0m\n\u001b[1;32m----> 1\u001b[0m df[\u001b[38;5;124m'\u001b[39m\u001b[38;5;124mDate\u001b[39m\u001b[38;5;124m'\u001b[39m][\u001b[38;5;241m0\u001b[39m]\u001b[38;5;241m.\u001b[39mdt\u001b[38;5;241m.\u001b[39mdatetime\u001b[38;5;241m.\u001b[39mday\n",
      "\u001b[1;31mAttributeError\u001b[0m: 'str' object has no attribute 'dt'"
     ]
    }
   ],
   "source": [
    "df['Date'][0].dt.datetime.day"
   ]
  },
  {
   "cell_type": "code",
   "execution_count": 1,
   "id": "c3f4c207",
   "metadata": {
    "ExecuteTime": {
     "end_time": "2024-05-13T14:45:43.641111Z",
     "start_time": "2024-05-13T14:45:32.977995Z"
    }
   },
   "outputs": [
    {
     "name": "stdout",
     "output_type": "stream",
     "text": [
      "Collecting faker\n",
      "  Downloading Faker-25.1.0-py3-none-any.whl.metadata (15 kB)\n",
      "Collecting python-dateutil>=2.4 (from faker)\n",
      "  Using cached python_dateutil-2.9.0.post0-py2.py3-none-any.whl.metadata (8.4 kB)\n",
      "Collecting six>=1.5 (from python-dateutil>=2.4->faker)\n",
      "  Using cached six-1.16.0-py2.py3-none-any.whl.metadata (1.8 kB)\n",
      "Downloading Faker-25.1.0-py3-none-any.whl (1.8 MB)\n",
      "   ---------------------------------------- 0.0/1.8 MB ? eta -:--:--\n",
      "   ---------------------------------------- 0.0/1.8 MB ? eta -:--:--\n",
      "   - -------------------------------------- 0.1/1.8 MB ? eta -:--:--\n",
      "   ------------ --------------------------- 0.6/1.8 MB 12.0 MB/s eta 0:00:01\n",
      "   --------------------------------- ------ 1.5/1.8 MB 15.9 MB/s eta 0:00:01\n",
      "   ---------------------------------------- 1.8/1.8 MB 14.3 MB/s eta 0:00:00\n",
      "Using cached python_dateutil-2.9.0.post0-py2.py3-none-any.whl (229 kB)\n",
      "Using cached six-1.16.0-py2.py3-none-any.whl (11 kB)\n",
      "Installing collected packages: six, python-dateutil, faker\n"
     ]
    },
    {
     "name": "stderr",
     "output_type": "stream",
     "text": [
      "  WARNING: Failed to write executable - trying to use .deleteme logic\n",
      "ERROR: Could not install packages due to an OSError: [WinError 2] The system cannot find the file specified: 'C:\\\\Python312\\\\Scripts\\\\faker.exe' -> 'C:\\\\Python312\\\\Scripts\\\\faker.exe.deleteme'\n",
      "\n"
     ]
    }
   ],
   "source": [
    "!pip install faker"
   ]
  },
  {
   "cell_type": "code",
   "execution_count": 2,
   "id": "48500fab",
   "metadata": {
    "ExecuteTime": {
     "end_time": "2024-05-13T14:45:56.335784Z",
     "start_time": "2024-05-13T14:45:55.715491Z"
    }
   },
   "outputs": [
    {
     "ename": "ModuleNotFoundError",
     "evalue": "No module named 'faker'",
     "output_type": "error",
     "traceback": [
      "\u001b[1;31m---------------------------------------------------------------------------\u001b[0m",
      "\u001b[1;31mModuleNotFoundError\u001b[0m                       Traceback (most recent call last)",
      "Cell \u001b[1;32mIn[2], line 1\u001b[0m\n\u001b[1;32m----> 1\u001b[0m \u001b[38;5;28;01mimport\u001b[39;00m \u001b[38;5;21;01mfaker\u001b[39;00m \u001b[38;5;28;01mas\u001b[39;00m \u001b[38;5;21;01mfk\u001b[39;00m\n",
      "\u001b[1;31mModuleNotFoundError\u001b[0m: No module named 'faker'"
     ]
    }
   ],
   "source": [
    "import faker as fk"
   ]
  },
  {
   "cell_type": "code",
   "execution_count": 3,
   "id": "3e254237",
   "metadata": {
    "ExecuteTime": {
     "end_time": "2024-05-13T14:46:21.844196Z",
     "start_time": "2024-05-13T14:46:20.804285Z"
    }
   },
   "outputs": [
    {
     "name": "stdout",
     "output_type": "stream",
     "text": [
      "Requirement already satisfied: Faker in c:\\python312\\lib\\site-packages (25.1.0)\n",
      "Requirement already satisfied: python-dateutil>=2.4 in c:\\python312\\lib\\site-packages (from Faker) (2.9.0.post0)\n",
      "Requirement already satisfied: six>=1.5 in c:\\python312\\lib\\site-packages (from python-dateutil>=2.4->Faker) (1.16.0)\n"
     ]
    }
   ],
   "source": [
    "!pip install Faker"
   ]
  },
  {
   "cell_type": "code",
   "execution_count": 4,
   "id": "713e5ca7",
   "metadata": {
    "ExecuteTime": {
     "end_time": "2024-05-13T14:46:41.604696Z",
     "start_time": "2024-05-13T14:46:41.580790Z"
    }
   },
   "outputs": [
    {
     "ename": "ModuleNotFoundError",
     "evalue": "No module named 'faker'",
     "output_type": "error",
     "traceback": [
      "\u001b[1;31m---------------------------------------------------------------------------\u001b[0m",
      "\u001b[1;31mModuleNotFoundError\u001b[0m                       Traceback (most recent call last)",
      "Cell \u001b[1;32mIn[4], line 1\u001b[0m\n\u001b[1;32m----> 1\u001b[0m \u001b[38;5;28;01mfrom\u001b[39;00m \u001b[38;5;21;01mfaker\u001b[39;00m \u001b[38;5;28;01mimport\u001b[39;00m Faker\n",
      "\u001b[1;31mModuleNotFoundError\u001b[0m: No module named 'faker'"
     ]
    }
   ],
   "source": [
    "from faker import Faker"
   ]
  },
  {
   "cell_type": "code",
   "execution_count": null,
   "id": "0eaf8440",
   "metadata": {},
   "outputs": [],
   "source": []
  }
 ],
 "metadata": {
  "kernelspec": {
   "display_name": "Python 3 (ipykernel)",
   "language": "python",
   "name": "python3"
  },
  "language_info": {
   "codemirror_mode": {
    "name": "ipython",
    "version": 3
   },
   "file_extension": ".py",
   "mimetype": "text/x-python",
   "name": "python",
   "nbconvert_exporter": "python",
   "pygments_lexer": "ipython3",
   "version": "3.11.5"
  },
  "toc": {
   "base_numbering": 1,
   "nav_menu": {},
   "number_sections": true,
   "sideBar": true,
   "skip_h1_title": false,
   "title_cell": "Table of Contents",
   "title_sidebar": "Contents",
   "toc_cell": false,
   "toc_position": {},
   "toc_section_display": true,
   "toc_window_display": false
  }
 },
 "nbformat": 4,
 "nbformat_minor": 5
}
