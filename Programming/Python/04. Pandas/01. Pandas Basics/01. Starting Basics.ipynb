{
 "cells": [
  {
   "cell_type": "markdown",
   "id": "144a556b",
   "metadata": {},
   "source": [
    "## Pandas\n",
    "\n",
    "    This library gives the python the ability to work with spreadsheet-like data.\n",
    "    \n",
    "    \"Pandas\" has a reference to both \"Panel Data\", and \"Python Data Analysis\"\n",
    "    \n",
    "    This introduced two new data types to deal with in python:\n",
    "    \n",
    "    DataFrame :\n",
    "        represents your entire spreadsheet or rectangular data.\n",
    "        \n",
    "    Series :\n",
    "        represents a single column of the DataFrame.\n",
    "    \n",
    "    Python to load (import) the library.\n",
    "    \n",
    "```python\n",
    "import pandas\n",
    "```"
   ]
  },
  {
   "cell_type": "code",
   "execution_count": 3,
   "id": "e47d987c",
   "metadata": {
    "ExecuteTime": {
     "end_time": "2024-02-06T08:16:25.806863Z",
     "start_time": "2024-02-06T08:16:25.802466Z"
    }
   },
   "outputs": [],
   "source": [
    "# common practice to give pandas the alias pd\n",
    "import pandas as pd"
   ]
  },
  {
   "cell_type": "code",
   "execution_count": 4,
   "id": "39e51a9d",
   "metadata": {
    "ExecuteTime": {
     "end_time": "2024-02-06T08:16:25.819720Z",
     "start_time": "2024-02-06T08:16:25.809856Z"
    }
   },
   "outputs": [],
   "source": [
    "# with read_csv function to load a CSV data file\n",
    "df = pd.read_csv('../dataset/example_1.csv')"
   ]
  },
  {
   "cell_type": "code",
   "execution_count": 5,
   "id": "23358840",
   "metadata": {
    "ExecuteTime": {
     "end_time": "2024-02-06T08:16:25.831760Z",
     "start_time": "2024-02-06T08:16:25.821737Z"
    }
   },
   "outputs": [
    {
     "data": {
      "text/plain": [
       "(15, 6)"
      ]
     },
     "execution_count": 5,
     "metadata": {},
     "output_type": "execute_result"
    }
   ],
   "source": [
    "# this gives us the number of rows and columns of the DataFrame.\n",
    "df.shape # shape attribute"
   ]
  },
  {
   "cell_type": "code",
   "execution_count": 6,
   "id": "18a612fc",
   "metadata": {
    "ExecuteTime": {
     "end_time": "2024-02-06T08:16:25.840655Z",
     "start_time": "2024-02-06T08:16:25.833749Z"
    }
   },
   "outputs": [
    {
     "data": {
      "text/plain": [
       "pandas.core.frame.DataFrame"
      ]
     },
     "execution_count": 6,
     "metadata": {},
     "output_type": "execute_result"
    }
   ],
   "source": [
    "# built-in type function\n",
    "type(df)"
   ]
  },
  {
   "cell_type": "markdown",
   "id": "d966c972",
   "metadata": {},
   "source": [
    "    Now we know the data type of Pandas is\n",
    "\n",
    "```python\n",
    "<class 'pandas.core.frame.DataFrame'>\n",
    "```\n",
    "    \n",
    "    but when we load the csv file or any other file, we need to know the type that it contains."
   ]
  },
  {
   "cell_type": "code",
   "execution_count": 7,
   "id": "e591a123",
   "metadata": {
    "ExecuteTime": {
     "end_time": "2024-02-06T08:16:25.850402Z",
     "start_time": "2024-02-06T08:16:25.842650Z"
    }
   },
   "outputs": [
    {
     "data": {
      "text/plain": [
       "Unnamed: 0        int64\n",
       "college_name     object\n",
       "region           object\n",
       "year              int64\n",
       "population        int64\n",
       "success_rate    float64\n",
       "dtype: object"
      ]
     },
     "execution_count": 7,
     "metadata": {},
     "output_type": "execute_result"
    }
   ],
   "source": [
    "# What is the type of the column names?\n",
    "df.dtypes # dtype attribute (this is one way)"
   ]
  },
  {
   "cell_type": "code",
   "execution_count": 8,
   "id": "9ebf3d51",
   "metadata": {
    "ExecuteTime": {
     "end_time": "2024-02-06T08:16:25.863647Z",
     "start_time": "2024-02-06T08:16:25.852396Z"
    }
   },
   "outputs": [
    {
     "name": "stdout",
     "output_type": "stream",
     "text": [
      "<class 'pandas.core.frame.DataFrame'>\n",
      "RangeIndex: 15 entries, 0 to 14\n",
      "Data columns (total 6 columns):\n",
      " #   Column        Non-Null Count  Dtype  \n",
      "---  ------        --------------  -----  \n",
      " 0   Unnamed: 0    15 non-null     int64  \n",
      " 1   college_name  15 non-null     object \n",
      " 2   region        15 non-null     object \n",
      " 3   year          15 non-null     int64  \n",
      " 4   population    15 non-null     int64  \n",
      " 5   success_rate  15 non-null     float64\n",
      "dtypes: float64(1), int64(3), object(2)\n",
      "memory usage: 852.0+ bytes\n"
     ]
    }
   ],
   "source": [
    "# another way\n",
    "df.info() # info method"
   ]
  },
  {
   "cell_type": "markdown",
   "id": "c0737235",
   "metadata": {},
   "source": [
    "    Types of Data in Pandas\n",
    "    \n",
    "    object\n",
    "    int\n",
    "    float\n",
    "    datatime"
   ]
  },
  {
   "cell_type": "code",
   "execution_count": 9,
   "id": "8308e321",
   "metadata": {
    "ExecuteTime": {
     "end_time": "2024-02-06T08:16:43.469619Z",
     "start_time": "2024-02-06T08:16:43.458889Z"
    }
   },
   "outputs": [
    {
     "data": {
      "text/html": [
       "<div>\n",
       "<style scoped>\n",
       "    .dataframe tbody tr th:only-of-type {\n",
       "        vertical-align: middle;\n",
       "    }\n",
       "\n",
       "    .dataframe tbody tr th {\n",
       "        vertical-align: top;\n",
       "    }\n",
       "\n",
       "    .dataframe thead th {\n",
       "        text-align: right;\n",
       "    }\n",
       "</style>\n",
       "<table border=\"1\" class=\"dataframe\">\n",
       "  <thead>\n",
       "    <tr style=\"text-align: right;\">\n",
       "      <th></th>\n",
       "      <th>Unnamed: 0</th>\n",
       "      <th>college_name</th>\n",
       "      <th>region</th>\n",
       "      <th>year</th>\n",
       "      <th>population</th>\n",
       "      <th>success_rate</th>\n",
       "    </tr>\n",
       "  </thead>\n",
       "  <tbody>\n",
       "    <tr>\n",
       "      <th>0</th>\n",
       "      <td>0</td>\n",
       "      <td>ABC University</td>\n",
       "      <td>East</td>\n",
       "      <td>2020</td>\n",
       "      <td>1500</td>\n",
       "      <td>0.85</td>\n",
       "    </tr>\n",
       "    <tr>\n",
       "      <th>1</th>\n",
       "      <td>1</td>\n",
       "      <td>XYZ College</td>\n",
       "      <td>West</td>\n",
       "      <td>2019</td>\n",
       "      <td>1200</td>\n",
       "      <td>0.78</td>\n",
       "    </tr>\n",
       "    <tr>\n",
       "      <th>2</th>\n",
       "      <td>2</td>\n",
       "      <td>123 Institute</td>\n",
       "      <td>South</td>\n",
       "      <td>2021</td>\n",
       "      <td>2000</td>\n",
       "      <td>0.92</td>\n",
       "    </tr>\n",
       "    <tr>\n",
       "      <th>3</th>\n",
       "      <td>3</td>\n",
       "      <td>EFG University</td>\n",
       "      <td>North</td>\n",
       "      <td>2022</td>\n",
       "      <td>1800</td>\n",
       "      <td>0.89</td>\n",
       "    </tr>\n",
       "    <tr>\n",
       "      <th>4</th>\n",
       "      <td>4</td>\n",
       "      <td>LMN College</td>\n",
       "      <td>East</td>\n",
       "      <td>2020</td>\n",
       "      <td>1300</td>\n",
       "      <td>0.75</td>\n",
       "    </tr>\n",
       "    <tr>\n",
       "      <th>5</th>\n",
       "      <td>5</td>\n",
       "      <td>UVW Institute</td>\n",
       "      <td>West</td>\n",
       "      <td>2018</td>\n",
       "      <td>1600</td>\n",
       "      <td>0.80</td>\n",
       "    </tr>\n",
       "    <tr>\n",
       "      <th>6</th>\n",
       "      <td>6</td>\n",
       "      <td>PQR University</td>\n",
       "      <td>South</td>\n",
       "      <td>2019</td>\n",
       "      <td>1700</td>\n",
       "      <td>0.88</td>\n",
       "    </tr>\n",
       "    <tr>\n",
       "      <th>7</th>\n",
       "      <td>7</td>\n",
       "      <td>IJK College</td>\n",
       "      <td>North</td>\n",
       "      <td>2022</td>\n",
       "      <td>1900</td>\n",
       "      <td>0.91</td>\n",
       "    </tr>\n",
       "    <tr>\n",
       "      <th>8</th>\n",
       "      <td>8</td>\n",
       "      <td>DEF Institute</td>\n",
       "      <td>East</td>\n",
       "      <td>2021</td>\n",
       "      <td>1400</td>\n",
       "      <td>0.82</td>\n",
       "    </tr>\n",
       "    <tr>\n",
       "      <th>9</th>\n",
       "      <td>9</td>\n",
       "      <td>OPQ University</td>\n",
       "      <td>West</td>\n",
       "      <td>2020</td>\n",
       "      <td>1100</td>\n",
       "      <td>0.79</td>\n",
       "    </tr>\n",
       "    <tr>\n",
       "      <th>10</th>\n",
       "      <td>10</td>\n",
       "      <td>RST College</td>\n",
       "      <td>South</td>\n",
       "      <td>2018</td>\n",
       "      <td>2200</td>\n",
       "      <td>0.94</td>\n",
       "    </tr>\n",
       "    <tr>\n",
       "      <th>11</th>\n",
       "      <td>11</td>\n",
       "      <td>GHI Institute</td>\n",
       "      <td>North</td>\n",
       "      <td>2019</td>\n",
       "      <td>1600</td>\n",
       "      <td>0.87</td>\n",
       "    </tr>\n",
       "    <tr>\n",
       "      <th>12</th>\n",
       "      <td>12</td>\n",
       "      <td>JKL University</td>\n",
       "      <td>East</td>\n",
       "      <td>2021</td>\n",
       "      <td>2000</td>\n",
       "      <td>0.86</td>\n",
       "    </tr>\n",
       "    <tr>\n",
       "      <th>13</th>\n",
       "      <td>13</td>\n",
       "      <td>MNO College</td>\n",
       "      <td>West</td>\n",
       "      <td>2018</td>\n",
       "      <td>1500</td>\n",
       "      <td>0.81</td>\n",
       "    </tr>\n",
       "    <tr>\n",
       "      <th>14</th>\n",
       "      <td>14</td>\n",
       "      <td>XYZ Institute</td>\n",
       "      <td>South</td>\n",
       "      <td>2022</td>\n",
       "      <td>1800</td>\n",
       "      <td>0.90</td>\n",
       "    </tr>\n",
       "  </tbody>\n",
       "</table>\n",
       "</div>"
      ],
      "text/plain": [
       "    Unnamed: 0    college_name region  year  population  success_rate\n",
       "0            0  ABC University   East  2020        1500          0.85\n",
       "1            1     XYZ College   West  2019        1200          0.78\n",
       "2            2   123 Institute  South  2021        2000          0.92\n",
       "3            3  EFG University  North  2022        1800          0.89\n",
       "4            4     LMN College   East  2020        1300          0.75\n",
       "5            5   UVW Institute   West  2018        1600          0.80\n",
       "6            6  PQR University  South  2019        1700          0.88\n",
       "7            7     IJK College  North  2022        1900          0.91\n",
       "8            8   DEF Institute   East  2021        1400          0.82\n",
       "9            9  OPQ University   West  2020        1100          0.79\n",
       "10          10     RST College  South  2018        2200          0.94\n",
       "11          11   GHI Institute  North  2019        1600          0.87\n",
       "12          12  JKL University   East  2021        2000          0.86\n",
       "13          13     MNO College   West  2018        1500          0.81\n",
       "14          14   XYZ Institute  South  2022        1800          0.90"
      ]
     },
     "execution_count": 9,
     "metadata": {},
     "output_type": "execute_result"
    }
   ],
   "source": [
    "df"
   ]
  },
  {
   "cell_type": "code",
   "execution_count": null,
   "id": "5a754cc8",
   "metadata": {},
   "outputs": [],
   "source": []
  }
 ],
 "metadata": {
  "kernelspec": {
   "display_name": "Python 3 (ipykernel)",
   "language": "python",
   "name": "python3"
  },
  "language_info": {
   "codemirror_mode": {
    "name": "ipython",
    "version": 3
   },
   "file_extension": ".py",
   "mimetype": "text/x-python",
   "name": "python",
   "nbconvert_exporter": "python",
   "pygments_lexer": "ipython3",
   "version": "3.11.5"
  },
  "toc": {
   "base_numbering": 1,
   "nav_menu": {},
   "number_sections": true,
   "sideBar": true,
   "skip_h1_title": false,
   "title_cell": "Table of Contents",
   "title_sidebar": "Contents",
   "toc_cell": false,
   "toc_position": {},
   "toc_section_display": true,
   "toc_window_display": false
  }
 },
 "nbformat": 4,
 "nbformat_minor": 5
}
