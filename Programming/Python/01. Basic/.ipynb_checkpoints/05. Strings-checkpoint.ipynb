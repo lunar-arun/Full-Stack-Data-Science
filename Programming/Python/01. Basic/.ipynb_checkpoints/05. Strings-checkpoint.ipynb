{
 "cells": [
  {
   "cell_type": "markdown",
   "id": "00ede1bf",
   "metadata": {},
   "source": [
    "# Python Strings\n",
    "\n",
    "    Strings are surrounded by either single quotation marks, or double quotation marks."
   ]
  },
  {
   "cell_type": "code",
   "execution_count": 2,
   "id": "7e339695",
   "metadata": {},
   "outputs": [
    {
     "name": "stdout",
     "output_type": "stream",
     "text": [
      "basic python\n"
     ]
    }
   ],
   "source": [
    "print('basic', \"python\")# its same!"
   ]
  },
  {
   "cell_type": "markdown",
   "id": "2b95d728",
   "metadata": {},
   "source": [
    "### Multiline Strings"
   ]
  },
  {
   "cell_type": "code",
   "execution_count": 3,
   "id": "e5d9d70f",
   "metadata": {},
   "outputs": [
    {
     "name": "stdout",
     "output_type": "stream",
     "text": [
      "Python is a high-level, general-purpose programming language. Its design philosophy emphasizes code readability with the use of significant indentation.\n"
     ]
    }
   ],
   "source": [
    "a = '''Python is a high-level, general-purpose programming language. Its design philosophy emphasizes code readability with the use of significant indentation.'''\n",
    "print(a)"
   ]
  },
  {
   "cell_type": "markdown",
   "id": "c4f0e15e",
   "metadata": {},
   "source": [
    "    Strings are Arrays \n",
    "    \n",
    "    1st letter is at index 0 and increase by 1 byte"
   ]
  },
  {
   "cell_type": "code",
   "execution_count": 6,
   "id": "d94a6ba7",
   "metadata": {},
   "outputs": [
    {
     "data": {
      "text/plain": [
       "('P', 'y', 't', 'h', 'o', 'n')"
      ]
     },
     "execution_count": 6,
     "metadata": {},
     "output_type": "execute_result"
    }
   ],
   "source": [
    "a[0],a[1],a[2],a[3],a[4],a[5]"
   ]
  },
  {
   "cell_type": "markdown",
   "id": "252f73e1",
   "metadata": {},
   "source": [
    "### String Length"
   ]
  },
  {
   "cell_type": "code",
   "execution_count": 8,
   "id": "21d6cedf",
   "metadata": {},
   "outputs": [
    {
     "name": "stdout",
     "output_type": "stream",
     "text": [
      "Length of a : 152\n"
     ]
    }
   ],
   "source": [
    "print(f'Length of a : {len(a)}')"
   ]
  },
  {
   "cell_type": "markdown",
   "id": "85d0cc59",
   "metadata": {},
   "source": [
    "### Slicing Strings\n",
    "\n",
    "    You can return a range of characters by using the slice syntax.\n",
    "    \n",
    "    Syntax : var[start, stop, step]\n",
    "        \n",
    "        start -> starting index (inclusive)\n",
    "        stop  -> ending index(exclusive)\n",
    "        step  -> how many value to skip (default is 1)"
   ]
  },
  {
   "cell_type": "code",
   "execution_count": 13,
   "id": "3736509b",
   "metadata": {},
   "outputs": [
    {
     "data": {
      "text/plain": [
       "'Python'"
      ]
     },
     "execution_count": 13,
     "metadata": {},
     "output_type": "execute_result"
    }
   ],
   "source": [
    "a[0:6]"
   ]
  },
  {
   "cell_type": "code",
   "execution_count": 14,
   "id": "98a1e493",
   "metadata": {},
   "outputs": [
    {
     "data": {
      "text/plain": [
       "'Python'"
      ]
     },
     "execution_count": 14,
     "metadata": {},
     "output_type": "execute_result"
    }
   ],
   "source": [
    "a[:6]"
   ]
  },
  {
   "cell_type": "code",
   "execution_count": 18,
   "id": "4f3df690",
   "metadata": {},
   "outputs": [
    {
     "data": {
      "text/plain": [
       "'indentation.'"
      ]
     },
     "execution_count": 18,
     "metadata": {},
     "output_type": "execute_result"
    }
   ],
   "source": [
    "a[140:]"
   ]
  },
  {
   "cell_type": "code",
   "execution_count": 19,
   "id": "8b17b972",
   "metadata": {},
   "outputs": [
    {
     "data": {
      "text/plain": [
       "('Python is a', 'Pto sa')"
      ]
     },
     "execution_count": 19,
     "metadata": {},
     "output_type": "execute_result"
    }
   ],
   "source": [
    "a[:11],a[:11:2]"
   ]
  },
  {
   "cell_type": "markdown",
   "id": "b593c077",
   "metadata": {},
   "source": [
    "#### Negative Indexing"
   ]
  },
  {
   "cell_type": "code",
   "execution_count": 20,
   "id": "0999422a",
   "metadata": {},
   "outputs": [
    {
     "data": {
      "text/plain": [
       "'indentation.'"
      ]
     },
     "execution_count": 20,
     "metadata": {},
     "output_type": "execute_result"
    }
   ],
   "source": [
    "a[-12:]"
   ]
  },
  {
   "cell_type": "code",
   "execution_count": 21,
   "id": "c072fb62",
   "metadata": {},
   "outputs": [
    {
     "data": {
      "text/plain": [
       "'dent'"
      ]
     },
     "execution_count": 21,
     "metadata": {},
     "output_type": "execute_result"
    }
   ],
   "source": [
    "# print 'dent'\n",
    "a[-10:-6]"
   ]
  },
  {
   "cell_type": "markdown",
   "id": "fb9ce9cb",
   "metadata": {},
   "source": [
    "### split method\n",
    "\n",
    "    Syntax : str.split(separator, maxsplit)\n",
    "        \n",
    "        separator is called the delimiter.\n",
    "        maxsplit is a number, which tells us to split the string into maximum of provided number of times. (default is -1)"
   ]
  },
  {
   "cell_type": "code",
   "execution_count": 23,
   "id": "4a14c2ab",
   "metadata": {},
   "outputs": [
    {
     "data": {
      "text/plain": [
       "['Python',\n",
       " 'is',\n",
       " 'a',\n",
       " 'high-level,',\n",
       " 'general-purpose',\n",
       " 'programming',\n",
       " 'language.',\n",
       " 'Its',\n",
       " 'design',\n",
       " 'philosophy',\n",
       " 'emphasizes',\n",
       " 'code',\n",
       " 'readability',\n",
       " 'with',\n",
       " 'the',\n",
       " 'use',\n",
       " 'of',\n",
       " 'significant',\n",
       " 'indentation.']"
      ]
     },
     "execution_count": 23,
     "metadata": {},
     "output_type": "execute_result"
    }
   ],
   "source": [
    "a.split(' ')# return a list of words"
   ]
  },
  {
   "cell_type": "code",
   "execution_count": 25,
   "id": "beab57f7",
   "metadata": {},
   "outputs": [
    {
     "data": {
      "text/plain": [
       "['Python is a high-level, general-purpose programming language',\n",
       " ' Its design philosophy emphasizes code readability with the use of significant indentation',\n",
       " '']"
      ]
     },
     "execution_count": 25,
     "metadata": {},
     "output_type": "execute_result"
    }
   ],
   "source": [
    "# separate the string on bases on each line in the paragraph.\n",
    "a.split('.')"
   ]
  },
  {
   "cell_type": "code",
   "execution_count": 26,
   "id": "0f0db6a4",
   "metadata": {},
   "outputs": [
    {
     "data": {
      "text/plain": [
       "['Python is a high-level, general-purpose programming language. Its design philosophy emphasizes code readability with the use of significant indentation.']"
      ]
     },
     "execution_count": 26,
     "metadata": {},
     "output_type": "execute_result"
    }
   ],
   "source": [
    "a.split('.',0)"
   ]
  },
  {
   "cell_type": "code",
   "execution_count": 28,
   "id": "8dd11287",
   "metadata": {},
   "outputs": [
    {
     "data": {
      "text/plain": [
       "['Python',\n",
       " 'is a high-level, general-purpose programming language. Its design philosophy emphasizes code readability with the use of significant indentation.']"
      ]
     },
     "execution_count": 28,
     "metadata": {},
     "output_type": "execute_result"
    }
   ],
   "source": [
    "a.split(' ',1)"
   ]
  },
  {
   "cell_type": "markdown",
   "id": "d4343030",
   "metadata": {},
   "source": [
    "# String Concatenation"
   ]
  },
  {
   "cell_type": "code",
   "execution_count": null,
   "id": "ddb4566c",
   "metadata": {},
   "outputs": [],
   "source": []
  }
 ],
 "metadata": {
  "kernelspec": {
   "display_name": "Python 3 (ipykernel)",
   "language": "python",
   "name": "python3"
  },
  "language_info": {
   "codemirror_mode": {
    "name": "ipython",
    "version": 3
   },
   "file_extension": ".py",
   "mimetype": "text/x-python",
   "name": "python",
   "nbconvert_exporter": "python",
   "pygments_lexer": "ipython3",
   "version": "3.11.5"
  },
  "toc": {
   "base_numbering": 1,
   "nav_menu": {},
   "number_sections": true,
   "sideBar": true,
   "skip_h1_title": false,
   "title_cell": "Table of Contents",
   "title_sidebar": "Contents",
   "toc_cell": false,
   "toc_position": {},
   "toc_section_display": true,
   "toc_window_display": false
  }
 },
 "nbformat": 4,
 "nbformat_minor": 5
}
