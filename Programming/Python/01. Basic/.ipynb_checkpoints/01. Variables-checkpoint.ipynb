{
 "cells": [
  {
   "cell_type": "markdown",
   "id": "db321348",
   "metadata": {},
   "source": [
    "# Variables \n",
    "    These are containers for storing data values."
   ]
  },
  {
   "cell_type": "code",
   "execution_count": 1,
   "id": "80e7452b",
   "metadata": {
    "ExecuteTime": {
     "end_time": "2024-05-14T04:56:46.328094Z",
     "start_time": "2024-05-14T04:56:46.320456Z"
    }
   },
   "outputs": [
    {
     "name": "stdout",
     "output_type": "stream",
     "text": [
      "python\n"
     ]
    }
   ],
   "source": [
    "# Declaring 'var'-> variable and assigning 'python'\n",
    "var = 'python'\n",
    "print(var)"
   ]
  },
  {
   "cell_type": "markdown",
   "id": "d38adbee",
   "metadata": {},
   "source": [
    "    No data type declaration\n",
    "    \n",
    "    It explicitly understand what data type.\n",
    "    \n",
    "    Note : In Python3 we can declare an empty variable where data type is declared."
   ]
  },
  {
   "cell_type": "markdown",
   "id": "9cacdf4f",
   "metadata": {},
   "source": [
    "    So to identify a variable we have some naming convention. \n",
    "    \n",
    "    Before naming, we need to have rules for how to name a variable."
   ]
  },
  {
   "cell_type": "markdown",
   "id": "430b52f5",
   "metadata": {},
   "source": [
    "# Variable Names"
   ]
  },
  {
   "cell_type": "markdown",
   "id": "822219af",
   "metadata": {},
   "source": [
    "    A variable name must start with a letter or the underscore character\n",
    "    \n",
    "    A variable name cannot start with a number\n",
    "    \n",
    "    A variable name can only contain alpha-numeric characters and underscores (A-z, 0-9, and _ )\n",
    "    \n",
    "    Variable names are case-sensitive (age, Age and AGE are three different variables)\n",
    "    \n",
    "    A variable name cannot be any of the Python keywords.\n",
    "    \n",
    "       ['False', 'None', 'True', 'and', 'as', 'assert', 'async', 'await', 'break', 'class', 'continue', 'def', 'del', 'elif', 'else', 'except', 'finally', 'for', 'from', 'global', 'if', 'import', 'in', 'is', 'lambda', 'nonlocal', 'not', 'or', 'pass', 'raise', 'return', 'try', 'while', 'with', 'yield']"
   ]
  },
  {
   "cell_type": "code",
   "execution_count": 2,
   "id": "ca0282ab",
   "metadata": {
    "ExecuteTime": {
     "end_time": "2024-05-14T04:56:49.491151Z",
     "start_time": "2024-05-14T04:56:49.486308Z"
    }
   },
   "outputs": [],
   "source": [
    "# Variable name can start with underscore\n",
    "\n",
    "_var = 'basic python'"
   ]
  },
  {
   "cell_type": "code",
   "execution_count": 3,
   "id": "ffa13682",
   "metadata": {
    "ExecuteTime": {
     "end_time": "2024-05-14T04:56:50.786518Z",
     "start_time": "2024-05-14T04:56:50.780950Z"
    }
   },
   "outputs": [
    {
     "ename": "SyntaxError",
     "evalue": "invalid decimal literal (2550739148.py, line 3)",
     "output_type": "error",
     "traceback": [
      "\u001b[1;36m  Cell \u001b[1;32mIn[3], line 3\u001b[1;36m\u001b[0m\n\u001b[1;33m    2var = 4\u001b[0m\n\u001b[1;37m    ^\u001b[0m\n\u001b[1;31mSyntaxError\u001b[0m\u001b[1;31m:\u001b[0m invalid decimal literal\n"
     ]
    }
   ],
   "source": [
    "# Illegal variable names:\n",
    "\n",
    "2var = 4"
   ]
  },
  {
   "cell_type": "code",
   "execution_count": 4,
   "id": "065e6fc7",
   "metadata": {
    "ExecuteTime": {
     "end_time": "2024-05-14T04:56:52.159475Z",
     "start_time": "2024-05-14T04:56:52.152832Z"
    }
   },
   "outputs": [
    {
     "name": "stdout",
     "output_type": "stream",
     "text": [
      "var = python\n",
      "Var = python is easy\n"
     ]
    }
   ],
   "source": [
    "# Variable names are case-sensitive.\n",
    "\n",
    "Var = 'python is easy'\n",
    "print(f'var = {var}')\n",
    "print(f'Var = {Var}')"
   ]
  },
  {
   "cell_type": "markdown",
   "id": "bcf95d02",
   "metadata": {},
   "source": [
    "    Types of naming convention"
   ]
  },
  {
   "cell_type": "code",
   "execution_count": 5,
   "id": "3989d2e6",
   "metadata": {
    "ExecuteTime": {
     "end_time": "2024-05-14T04:56:53.448194Z",
     "start_time": "2024-05-14T04:56:53.442680Z"
    }
   },
   "outputs": [],
   "source": [
    "# Multi Words Variable Names\n",
    "\n",
    "# Camel Case - used in url\n",
    "productSalesTotal = 1234\n",
    "\n",
    "# Pascal Case - used in Class names, \n",
    "ProductSalesTotal = 1234\n",
    "\n",
    "# Snake Case - used in class variable names, constructor name.\n",
    "product_sales_total = 1234\n"
   ]
  },
  {
   "cell_type": "markdown",
   "id": "5cf9dec3",
   "metadata": {},
   "source": [
    "    Snake case is designed to have underscores as a replacement for spaces. CamelCase is literally designed to stick letters onto each other. It's counter-intuitive when trying to read someone's code or your own code when snake case was designed for this specific purpose to be easily readable."
   ]
  },
  {
   "cell_type": "markdown",
   "id": "fd2cd158",
   "metadata": {},
   "source": [
    "# Variables Scope\n",
    "\n",
    "    Local Scope and Global Scope"
   ]
  },
  {
   "cell_type": "markdown",
   "id": "985e1246",
   "metadata": {},
   "source": [
    "    A local variable is defined to exist with defined block of code. \n",
    "    \n",
    "    This means that it can only be accessed and used within that specific portion of the code where it was created."
   ]
  },
  {
   "cell_type": "markdown",
   "id": "3f1bb64f",
   "metadata": {},
   "source": [
    "    A global variable is defined at the top level of your script or module and can be accessed from anywhere within that script/module."
   ]
  },
  {
   "cell_type": "code",
   "execution_count": 6,
   "id": "f8935524",
   "metadata": {
    "ExecuteTime": {
     "end_time": "2024-05-14T04:56:55.976253Z",
     "start_time": "2024-05-14T04:56:55.971594Z"
    }
   },
   "outputs": [
    {
     "name": "stdout",
     "output_type": "stream",
     "text": [
      "10\n",
      "20\n"
     ]
    }
   ],
   "source": [
    "# Global variable\n",
    "global_var = 10\n",
    "\n",
    "# Accessing a global variable\n",
    "print(global_var)  # Output: 10\n",
    "\n",
    "# Modifying a global variable\n",
    "global_var = 20\n",
    "print(global_var)  # Output: 20"
   ]
  },
  {
   "cell_type": "code",
   "execution_count": 7,
   "id": "a752bb60",
   "metadata": {
    "ExecuteTime": {
     "end_time": "2024-05-14T04:56:57.182134Z",
     "start_time": "2024-05-14T04:56:56.643702Z"
    }
   },
   "outputs": [
    {
     "ename": "NameError",
     "evalue": "name 'var_1' is not defined",
     "output_type": "error",
     "traceback": [
      "\u001b[1;31m---------------------------------------------------------------------------\u001b[0m",
      "\u001b[1;31mNameError\u001b[0m                                 Traceback (most recent call last)",
      "Cell \u001b[1;32mIn[7], line 6\u001b[0m\n\u001b[0;32m      3\u001b[0m \u001b[38;5;28;01mdef\u001b[39;00m \u001b[38;5;21mfunction\u001b[39m():\n\u001b[0;32m      4\u001b[0m     var_1 \u001b[38;5;241m=\u001b[39m \u001b[38;5;241m123\u001b[39m\n\u001b[1;32m----> 6\u001b[0m \u001b[38;5;28mprint\u001b[39m(var_1)\n",
      "\u001b[1;31mNameError\u001b[0m: name 'var_1' is not defined"
     ]
    }
   ],
   "source": [
    "# Local Variable\n",
    "\n",
    "def function():\n",
    "    var_1 = 123\n",
    "\n",
    "print(var_1)"
   ]
  }
 ],
 "metadata": {
  "kernelspec": {
   "display_name": "Python 3 (ipykernel)",
   "language": "python",
   "name": "python3"
  },
  "language_info": {
   "codemirror_mode": {
    "name": "ipython",
    "version": 3
   },
   "file_extension": ".py",
   "mimetype": "text/x-python",
   "name": "python",
   "nbconvert_exporter": "python",
   "pygments_lexer": "ipython3",
   "version": "3.11.5"
  },
  "toc": {
   "base_numbering": 1,
   "nav_menu": {},
   "number_sections": true,
   "sideBar": true,
   "skip_h1_title": false,
   "title_cell": "Table of Contents",
   "title_sidebar": "Contents",
   "toc_cell": false,
   "toc_position": {},
   "toc_section_display": true,
   "toc_window_display": false
  },
  "varInspector": {
   "cols": {
    "lenName": 16,
    "lenType": 16,
    "lenVar": 40
   },
   "kernels_config": {
    "python": {
     "delete_cmd_postfix": "",
     "delete_cmd_prefix": "del ",
     "library": "var_list.py",
     "varRefreshCmd": "print(var_dic_list())"
    },
    "r": {
     "delete_cmd_postfix": ") ",
     "delete_cmd_prefix": "rm(",
     "library": "var_list.r",
     "varRefreshCmd": "cat(var_dic_list()) "
    }
   },
   "types_to_exclude": [
    "module",
    "function",
    "builtin_function_or_method",
    "instance",
    "_Feature"
   ],
   "window_display": false
  }
 },
 "nbformat": 4,
 "nbformat_minor": 5
}
