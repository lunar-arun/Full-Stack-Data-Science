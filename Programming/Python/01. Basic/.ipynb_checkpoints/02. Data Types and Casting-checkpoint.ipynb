{
 "cells": [
  {
   "cell_type": "markdown",
   "id": "ae5a5acc",
   "metadata": {},
   "source": [
    "# Data Types"
   ]
  },
  {
   "cell_type": "markdown",
   "id": "e64a9bef",
   "metadata": {},
   "source": [
    "    Numeric Types:\n",
    "        int : Represents whole numbers \n",
    "        float : Represents decimal numbers \n",
    "        \n",
    "    Text Type:\n",
    "        str : Represents sequences of characters.\n",
    "        \n",
    "    Sequence Types:\n",
    "        list : Represents ordered, mutable sequences\n",
    "        tuple : Represents ordered, immutable sequences.\n",
    "        \n",
    "    Mapping Type:\n",
    "        dict : Represents unordered collections of key-value pairs.\n",
    "        \n",
    "    Set Types:\n",
    "        set : Represents an unordered collection of unique elements.\n",
    "        frozenset : Similar to a set but immutable.\n",
    "        \n",
    "    Boolean Type:\n",
    "        bool : Represents either True or False.\n",
    "        \n",
    "    Binary Types:\n",
    "        bytes : Represents a sequence of bytes (immutable).\n",
    "        bytearray : Represents a mutable sequence of bytes.\n",
    "        \n",
    "    None Type:\n",
    "        NoneType : Represents the absence of a value."
   ]
  },
  {
   "cell_type": "markdown",
   "id": "9d05b060",
   "metadata": {},
   "source": [
    "# Type Casting\n",
    "     The process of converting a value from one data type to another."
   ]
  },
  {
   "cell_type": "code",
   "execution_count": 1,
   "id": "9bf034e6",
   "metadata": {
    "ExecuteTime": {
     "end_time": "2024-05-14T05:34:49.831465Z",
     "start_time": "2024-05-14T05:34:49.826687Z"
    }
   },
   "outputs": [],
   "source": [
    "x = 10\n",
    "y = float(x)  # Casting integer to float"
   ]
  },
  {
   "cell_type": "markdown",
   "id": "46cbe71f",
   "metadata": {},
   "source": [
    "# Type Conversion:\n",
    "    Type conversion is a broader term that encompasses both implicit and explicit conversions.\n",
    "    \n",
    "    It refers to the process of converting a value from one data type to another.\n",
    "    \n",
    "    Type conversion can be implicit or explicit."
   ]
  },
  {
   "cell_type": "code",
   "execution_count": 2,
   "id": "ebaaa6e9",
   "metadata": {
    "ExecuteTime": {
     "end_time": "2024-05-14T05:34:49.844488Z",
     "start_time": "2024-05-14T05:34:49.833469Z"
    }
   },
   "outputs": [],
   "source": [
    "x = 10\n",
    "y = \"20\"\n",
    "z = x + int(y)  # Converting string to integer before addition"
   ]
  },
  {
   "cell_type": "markdown",
   "id": "44d4915b",
   "metadata": {},
   "source": [
    "## Implicit Conversion:\n",
    "    Implicit conversion, also known as coercion, is performed automatically by the interpreter without any programmer intervention."
   ]
  },
  {
   "cell_type": "code",
   "execution_count": 3,
   "id": "af6ce2d1",
   "metadata": {
    "ExecuteTime": {
     "end_time": "2024-05-14T05:34:49.856026Z",
     "start_time": "2024-05-14T05:34:49.848484Z"
    }
   },
   "outputs": [
    {
     "name": "stdout",
     "output_type": "stream",
     "text": [
      "13.14\n"
     ]
    }
   ],
   "source": [
    "x = 10\n",
    "y = 3.14\n",
    "z = x + y  # Integer x is implicitly converted to float before addition\n",
    "print(z)"
   ]
  },
  {
   "cell_type": "markdown",
   "id": "3b3ceb18",
   "metadata": {},
   "source": [
    "## Explicit Conversion:\n",
    "    Explicit conversion, as discussed earlier, involves the programmer explicitly specifying the conversion using language-provided functions or constructors.\n",
    "    \n",
    "    It's done when the programmer wants to control the conversion process or when implicit conversion is not possible."
   ]
  },
  {
   "cell_type": "code",
   "execution_count": 4,
   "id": "fca87174",
   "metadata": {
    "ExecuteTime": {
     "end_time": "2024-05-14T05:34:49.865803Z",
     "start_time": "2024-05-14T05:34:49.858024Z"
    }
   },
   "outputs": [
    {
     "name": "stdout",
     "output_type": "stream",
     "text": [
      "10\n"
     ]
    }
   ],
   "source": [
    "x = 10.5\n",
    "y = int(x)  # Explicitly converting float to integer\n",
    "print(y)"
   ]
  },
  {
   "cell_type": "markdown",
   "id": "b92e15d2",
   "metadata": {},
   "source": [
    "    In summary, type casting is a specific form of type conversion where the programmer explicitly changes the type of a variable or value, while type conversion can be either implicit or explicit, depending on whether the conversion is performed automatically by the interpreter or explicitly specified by the programmer."
   ]
  }
 ],
 "metadata": {
  "kernelspec": {
   "display_name": "Python 3 (ipykernel)",
   "language": "python",
   "name": "python3"
  },
  "language_info": {
   "codemirror_mode": {
    "name": "ipython",
    "version": 3
   },
   "file_extension": ".py",
   "mimetype": "text/x-python",
   "name": "python",
   "nbconvert_exporter": "python",
   "pygments_lexer": "ipython3",
   "version": "3.11.5"
  },
  "toc": {
   "base_numbering": 1,
   "nav_menu": {},
   "number_sections": true,
   "sideBar": true,
   "skip_h1_title": false,
   "title_cell": "Table of Contents",
   "title_sidebar": "Contents",
   "toc_cell": false,
   "toc_position": {},
   "toc_section_display": true,
   "toc_window_display": false
  },
  "varInspector": {
   "cols": {
    "lenName": 16,
    "lenType": 16,
    "lenVar": 40
   },
   "kernels_config": {
    "python": {
     "delete_cmd_postfix": "",
     "delete_cmd_prefix": "del ",
     "library": "var_list.py",
     "varRefreshCmd": "print(var_dic_list())"
    },
    "r": {
     "delete_cmd_postfix": ") ",
     "delete_cmd_prefix": "rm(",
     "library": "var_list.r",
     "varRefreshCmd": "cat(var_dic_list()) "
    }
   },
   "types_to_exclude": [
    "module",
    "function",
    "builtin_function_or_method",
    "instance",
    "_Feature"
   ],
   "window_display": false
  }
 },
 "nbformat": 4,
 "nbformat_minor": 5
}
