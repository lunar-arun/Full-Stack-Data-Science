{
 "cells": [
  {
   "cell_type": "markdown",
   "id": "b03005a4",
   "metadata": {},
   "source": [
    "# NumPy \n",
    "     It's important for numerical computations in Python is because it is designed for efficiency on large arrays of data.\n",
    "     \n",
    "     There are a number of reasons for this:\n",
    "     \n",
    "        • NumPy internally stores data in a contiguous block of memory, independent of other built-in Python objects. \n",
    "        \n",
    "        • NumPy operations perform complex computations on entire arrays without the need for Python for loops."
   ]
  },
  {
   "cell_type": "code",
   "execution_count": 1,
   "id": "3a216767",
   "metadata": {
    "ExecuteTime": {
     "end_time": "2024-05-14T10:54:57.385290Z",
     "start_time": "2024-05-14T10:54:57.243320Z"
    }
   },
   "outputs": [],
   "source": [
    "import numpy as np"
   ]
  },
  {
   "cell_type": "markdown",
   "id": "abf1eb58",
   "metadata": {},
   "source": [
    "# Array creation\n",
    "\n",
    "## Conversion from other Python structures"
   ]
  },
  {
   "cell_type": "markdown",
   "id": "b6247a2b",
   "metadata": {},
   "source": [
    "    Lists and tuples are defined using [...] and (...), respectively.\n",
    "    \n",
    "    Can define ndarry creation."
   ]
  },
  {
   "cell_type": "code",
   "execution_count": 2,
   "id": "20230c81",
   "metadata": {
    "ExecuteTime": {
     "end_time": "2024-05-14T10:54:57.392914Z",
     "start_time": "2024-05-14T10:54:57.387309Z"
    }
   },
   "outputs": [
    {
     "name": "stdout",
     "output_type": "stream",
     "text": [
      "[1 2 3 4]\n"
     ]
    }
   ],
   "source": [
    "array_1D = np.array([1, 2, 3, 4])\n",
    "\n",
    "print(array_1D)"
   ]
  },
  {
   "cell_type": "code",
   "execution_count": 3,
   "id": "87c5a3ba",
   "metadata": {
    "ExecuteTime": {
     "end_time": "2024-05-14T10:54:57.400924Z",
     "start_time": "2024-05-14T10:54:57.395913Z"
    }
   },
   "outputs": [
    {
     "name": "stdout",
     "output_type": "stream",
     "text": [
      "[[1 2]\n",
      " [3 4]]\n"
     ]
    }
   ],
   "source": [
    "array_2D = np.array([[1, 2], [3, 4]])\n",
    "\n",
    "print(array_2D)"
   ]
  },
  {
   "cell_type": "code",
   "execution_count": 4,
   "id": "3454a453",
   "metadata": {
    "ExecuteTime": {
     "end_time": "2024-05-14T10:54:57.410326Z",
     "start_time": "2024-05-14T10:54:57.401930Z"
    }
   },
   "outputs": [
    {
     "name": "stdout",
     "output_type": "stream",
     "text": [
      "[[[1 2]\n",
      "  [3 4]]\n",
      "\n",
      " [[5 6]\n",
      "  [7 8]]]\n"
     ]
    }
   ],
   "source": [
    "array_3D = np.array([[[1, 2], [3, 4]], [[5, 6], [7, 8]]])\n",
    "\n",
    "print(array_3D)"
   ]
  },
  {
   "cell_type": "markdown",
   "id": "fce42803",
   "metadata": {},
   "source": [
    "    When you use 'numpy.array' to define a new array, you should consider the dtype of the elements in the array, which can be specified explicitly. "
   ]
  },
  {
   "cell_type": "markdown",
   "id": "c4af05b1",
   "metadata": {},
   "source": [
    "## In-Built NumPy array creation functions"
   ]
  },
  {
   "cell_type": "markdown",
   "id": "488eba19",
   "metadata": {},
   "source": [
    "    numpy.arange([start, ]stop, [step, ]dtype=None, *, device=None, like=None)"
   ]
  },
  {
   "cell_type": "code",
   "execution_count": 5,
   "id": "fcc5007c",
   "metadata": {
    "ExecuteTime": {
     "end_time": "2024-05-14T10:54:57.421993Z",
     "start_time": "2024-05-14T10:54:57.412349Z"
    }
   },
   "outputs": [
    {
     "data": {
      "text/plain": [
       "array([0, 1, 2, 3, 4, 5, 6, 7, 8, 9])"
      ]
     },
     "execution_count": 5,
     "metadata": {},
     "output_type": "execute_result"
    }
   ],
   "source": [
    "# 1D arrays\n",
    "np.arange(10)"
   ]
  },
  {
   "cell_type": "code",
   "execution_count": 6,
   "id": "9ea499dc",
   "metadata": {
    "ExecuteTime": {
     "end_time": "2024-05-14T10:54:57.430977Z",
     "start_time": "2024-05-14T10:54:57.423056Z"
    }
   },
   "outputs": [
    {
     "data": {
      "text/plain": [
       "array([0, 2, 4, 6, 8])"
      ]
     },
     "execution_count": 6,
     "metadata": {},
     "output_type": "execute_result"
    }
   ],
   "source": [
    "np.arange(0, 10, 2)"
   ]
  },
  {
   "cell_type": "code",
   "execution_count": 7,
   "id": "2e7ab9d6",
   "metadata": {
    "ExecuteTime": {
     "end_time": "2024-05-14T10:54:57.440595Z",
     "start_time": "2024-05-14T10:54:57.432989Z"
    }
   },
   "outputs": [
    {
     "data": {
      "text/plain": [
       "array([0., 3., 6., 9.])"
      ]
     },
     "execution_count": 7,
     "metadata": {},
     "output_type": "execute_result"
    }
   ],
   "source": [
    "np.arange(0, 10, 3, dtype = float)"
   ]
  },
  {
   "cell_type": "markdown",
   "id": "19862074",
   "metadata": {},
   "source": [
    "    numpy.linspace(start, stop, num=50, endpoint=True, retstep=False, dtype=None, axis=0, *, device=None)"
   ]
  },
  {
   "cell_type": "code",
   "execution_count": 8,
   "id": "bf08f624",
   "metadata": {
    "ExecuteTime": {
     "end_time": "2024-05-14T10:54:57.450023Z",
     "start_time": "2024-05-14T10:54:57.442595Z"
    }
   },
   "outputs": [
    {
     "data": {
      "text/plain": [
       "array([ 1,  4,  7, 10])"
      ]
     },
     "execution_count": 8,
     "metadata": {},
     "output_type": "execute_result"
    }
   ],
   "source": [
    "np.linspace(1,10,4, dtype=int)"
   ]
  },
  {
   "cell_type": "markdown",
   "id": "de86afca",
   "metadata": {},
   "source": [
    "    numpy.eye(rows, columns=None, k(diagonal)=0, dtype=<class 'float'>, order='C', *, device=None, like=None)\n",
    "    \n",
    "    Return a 2-D array with ones on the diagonal and zeros elsewhere."
   ]
  },
  {
   "cell_type": "code",
   "execution_count": 9,
   "id": "fb37a5c9",
   "metadata": {
    "ExecuteTime": {
     "end_time": "2024-05-14T10:54:57.460474Z",
     "start_time": "2024-05-14T10:54:57.454066Z"
    }
   },
   "outputs": [
    {
     "data": {
      "text/plain": [
       "array([[1., 0., 0., 0.],\n",
       "       [0., 1., 0., 0.],\n",
       "       [0., 0., 1., 0.],\n",
       "       [0., 0., 0., 1.]])"
      ]
     },
     "execution_count": 9,
     "metadata": {},
     "output_type": "execute_result"
    }
   ],
   "source": [
    "# 2D arrays\n",
    "np.eye(4)"
   ]
  },
  {
   "cell_type": "code",
   "execution_count": 10,
   "id": "5d0eed7d",
   "metadata": {
    "ExecuteTime": {
     "end_time": "2024-05-14T10:54:57.470647Z",
     "start_time": "2024-05-14T10:54:57.462480Z"
    }
   },
   "outputs": [
    {
     "data": {
      "text/plain": [
       "array([[1., 0.],\n",
       "       [0., 1.],\n",
       "       [0., 0.]])"
      ]
     },
     "execution_count": 10,
     "metadata": {},
     "output_type": "execute_result"
    }
   ],
   "source": [
    "np.eye(3,2)"
   ]
  },
  {
   "cell_type": "markdown",
   "id": "a7c94d94",
   "metadata": {},
   "source": [
    "    numpy.diag(v, k=0)"
   ]
  },
  {
   "cell_type": "code",
   "execution_count": 11,
   "id": "87515461",
   "metadata": {
    "ExecuteTime": {
     "end_time": "2024-05-14T10:54:57.480733Z",
     "start_time": "2024-05-14T10:54:57.472667Z"
    }
   },
   "outputs": [
    {
     "data": {
      "text/plain": [
       "array([[ 1.,  0.,  0.,  0.],\n",
       "       [ 0.,  4.,  0.,  0.],\n",
       "       [ 0.,  0.,  7.,  0.],\n",
       "       [ 0.,  0.,  0., 10.]])"
      ]
     },
     "execution_count": 11,
     "metadata": {},
     "output_type": "execute_result"
    }
   ],
   "source": [
    "np.diag(np.linspace(1,10,4))"
   ]
  },
  {
   "cell_type": "code",
   "execution_count": 12,
   "id": "4218983b",
   "metadata": {
    "ExecuteTime": {
     "end_time": "2024-05-14T10:54:57.489929Z",
     "start_time": "2024-05-14T10:54:57.482731Z"
    }
   },
   "outputs": [
    {
     "data": {
      "text/plain": [
       "array([[ 0. ,  1. ,  0. ,  0. ],\n",
       "       [ 0. ,  0. ,  5.5,  0. ],\n",
       "       [ 0. ,  0. ,  0. , 10. ],\n",
       "       [ 0. ,  0. ,  0. ,  0. ]])"
      ]
     },
     "execution_count": 12,
     "metadata": {},
     "output_type": "execute_result"
    }
   ],
   "source": [
    "np.diag(np.linspace(1,10,3), k=1)"
   ]
  },
  {
   "cell_type": "code",
   "execution_count": 13,
   "id": "8fb5684d",
   "metadata": {
    "ExecuteTime": {
     "end_time": "2024-05-14T10:54:57.499367Z",
     "start_time": "2024-05-14T10:54:57.491985Z"
    }
   },
   "outputs": [
    {
     "data": {
      "text/plain": [
       "array([[0. , 1. ],\n",
       "       [0.5, 1. ],\n",
       "       [1. , 1. ],\n",
       "       [1.5, 1. ],\n",
       "       [2. , 1. ]])"
      ]
     },
     "execution_count": 13,
     "metadata": {},
     "output_type": "execute_result"
    }
   ],
   "source": [
    "np.vander(np.linspace(0, 2, 5), 2)"
   ]
  },
  {
   "cell_type": "code",
   "execution_count": 14,
   "id": "50eed3f6",
   "metadata": {
    "ExecuteTime": {
     "end_time": "2024-05-14T10:54:57.506891Z",
     "start_time": "2024-05-14T10:54:57.501369Z"
    }
   },
   "outputs": [],
   "source": [
    "# ndarrays"
   ]
  },
  {
   "cell_type": "markdown",
   "id": "c067bd5a",
   "metadata": {},
   "source": [
    "    numpy.ones(shape, dtype=None, order='C', *, device=None, like=None)"
   ]
  },
  {
   "cell_type": "code",
   "execution_count": 15,
   "id": "20121bcb",
   "metadata": {
    "ExecuteTime": {
     "end_time": "2024-05-14T10:54:57.516733Z",
     "start_time": "2024-05-14T10:54:57.508889Z"
    }
   },
   "outputs": [
    {
     "data": {
      "text/plain": [
       "array([[1., 1., 1., 1.],\n",
       "       [1., 1., 1., 1.]])"
      ]
     },
     "execution_count": 15,
     "metadata": {},
     "output_type": "execute_result"
    }
   ],
   "source": [
    "np.ones((2,4))"
   ]
  },
  {
   "cell_type": "markdown",
   "id": "41d12532",
   "metadata": {},
   "source": [
    "    numpy.zeros(shape, dtype=float, order='C', *, like=None)"
   ]
  },
  {
   "cell_type": "code",
   "execution_count": 16,
   "id": "615ba444",
   "metadata": {
    "ExecuteTime": {
     "end_time": "2024-05-14T10:54:57.526250Z",
     "start_time": "2024-05-14T10:54:57.517732Z"
    }
   },
   "outputs": [
    {
     "data": {
      "text/plain": [
       "array([[0., 0.],\n",
       "       [0., 0.],\n",
       "       [0., 0.],\n",
       "       [0., 0.]])"
      ]
     },
     "execution_count": 16,
     "metadata": {},
     "output_type": "execute_result"
    }
   ],
   "source": [
    "np.zeros((4,2))"
   ]
  },
  {
   "cell_type": "markdown",
   "id": "3c3b7388",
   "metadata": {},
   "source": [
    "## Replicating, joining, or mutating existing arrays"
   ]
  },
  {
   "cell_type": "markdown",
   "id": "37ee651a",
   "metadata": {},
   "source": [
    "    numpy.vstack(tup, *, dtype=None, casting='same_kind')\n",
    "    \n",
    "    Stack arrays in sequence vertically (row wise)"
   ]
  },
  {
   "cell_type": "code",
   "execution_count": 17,
   "id": "7e5a6fe6",
   "metadata": {
    "ExecuteTime": {
     "end_time": "2024-05-14T10:54:57.535249Z",
     "start_time": "2024-05-14T10:54:57.527249Z"
    }
   },
   "outputs": [
    {
     "data": {
      "text/plain": [
       "array([[1],\n",
       "       [2],\n",
       "       [3],\n",
       "       [4],\n",
       "       [5]])"
      ]
     },
     "execution_count": 17,
     "metadata": {},
     "output_type": "execute_result"
    }
   ],
   "source": [
    "np.vstack((1,2,3,4,5), dtype= int)"
   ]
  },
  {
   "cell_type": "code",
   "execution_count": 18,
   "id": "c6bc7fbb",
   "metadata": {
    "ExecuteTime": {
     "end_time": "2024-05-14T10:54:57.545762Z",
     "start_time": "2024-05-14T10:54:57.536256Z"
    }
   },
   "outputs": [
    {
     "data": {
      "text/plain": [
       "array([[1, 2, 3],\n",
       "       [4, 5, 6]])"
      ]
     },
     "execution_count": 18,
     "metadata": {},
     "output_type": "execute_result"
    }
   ],
   "source": [
    "a = np.array([1, 2, 3])\n",
    "b = np.array([4, 5, 6])\n",
    "np.vstack((a,b))"
   ]
  },
  {
   "cell_type": "markdown",
   "id": "7f3817d4",
   "metadata": {},
   "source": [
    "    numpy.hstack(tup, *, dtype=None, casting='same_kind')"
   ]
  },
  {
   "cell_type": "code",
   "execution_count": 19,
   "id": "13ec80dd",
   "metadata": {
    "ExecuteTime": {
     "end_time": "2024-05-14T10:54:57.555761Z",
     "start_time": "2024-05-14T10:54:57.547761Z"
    }
   },
   "outputs": [
    {
     "data": {
      "text/plain": [
       "array([1, 2, 3, 4, 5, 6])"
      ]
     },
     "execution_count": 19,
     "metadata": {},
     "output_type": "execute_result"
    }
   ],
   "source": [
    "a = np.array((1,2,3))\n",
    "b = np.array((4,5,6))\n",
    "np.hstack((a,b))"
   ]
  },
  {
   "cell_type": "code",
   "execution_count": 20,
   "id": "7dc6e824",
   "metadata": {
    "ExecuteTime": {
     "end_time": "2024-05-14T10:54:57.565762Z",
     "start_time": "2024-05-14T10:54:57.557763Z"
    }
   },
   "outputs": [
    {
     "data": {
      "text/plain": [
       "array([[1, 4],\n",
       "       [2, 5],\n",
       "       [3, 6]])"
      ]
     },
     "execution_count": 20,
     "metadata": {},
     "output_type": "execute_result"
    }
   ],
   "source": [
    "a = np.array([[1],[2],[3]])\n",
    "b = np.array([[4],[5],[6]])\n",
    "np.hstack((a,b))"
   ]
  },
  {
   "cell_type": "markdown",
   "id": "1b53532f",
   "metadata": {
    "ExecuteTime": {
     "end_time": "2024-05-14T10:49:12.372387Z",
     "start_time": "2024-05-14T10:49:12.349830Z"
    }
   },
   "source": [
    "    numpy.block(arrays)\n",
    "\n",
    "    Assemble an nd-array from nested lists of blocks."
   ]
  },
  {
   "cell_type": "code",
   "execution_count": 21,
   "id": "892d51d1",
   "metadata": {
    "ExecuteTime": {
     "end_time": "2024-05-14T10:54:57.573761Z",
     "start_time": "2024-05-14T10:54:57.566761Z"
    }
   },
   "outputs": [
    {
     "data": {
      "text/plain": [
       "array([[2., 0., 0., 0., 0.],\n",
       "       [0., 2., 0., 0., 0.],\n",
       "       [0., 0., 3., 0., 0.],\n",
       "       [0., 0., 0., 3., 0.],\n",
       "       [0., 0., 0., 0., 3.]])"
      ]
     },
     "execution_count": 21,
     "metadata": {},
     "output_type": "execute_result"
    }
   ],
   "source": [
    "A = np.eye(2) * 2\n",
    "B = np.eye(3) * 3\n",
    "\n",
    "np.block([\n",
    "    [A, np.zeros((2, 3))], \n",
    "    [np.zeros((3, 2)), B]\n",
    "])"
   ]
  }
 ],
 "metadata": {
  "kernelspec": {
   "display_name": "Python 3 (ipykernel)",
   "language": "python",
   "name": "python3"
  },
  "language_info": {
   "codemirror_mode": {
    "name": "ipython",
    "version": 3
   },
   "file_extension": ".py",
   "mimetype": "text/x-python",
   "name": "python",
   "nbconvert_exporter": "python",
   "pygments_lexer": "ipython3",
   "version": "3.11.5"
  },
  "toc": {
   "base_numbering": 1,
   "nav_menu": {},
   "number_sections": true,
   "sideBar": true,
   "skip_h1_title": false,
   "title_cell": "Table of Contents",
   "title_sidebar": "Contents",
   "toc_cell": false,
   "toc_position": {},
   "toc_section_display": true,
   "toc_window_display": false
  }
 },
 "nbformat": 4,
 "nbformat_minor": 5
}
