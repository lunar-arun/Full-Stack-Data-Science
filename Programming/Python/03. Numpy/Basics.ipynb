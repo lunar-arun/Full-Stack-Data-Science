{
 "cells": [
  {
   "cell_type": "markdown",
   "id": "b03005a4",
   "metadata": {},
   "source": [
    "# NumPy \n",
    "     It's important for numerical computations in Python is because it is designed for efficiency on large arrays of data.\n",
    "     \n",
    "     There are a number of reasons for this:\n",
    "     \n",
    "        • NumPy internally stores data in a contiguous block of memory, independent of other built-in Python objects. \n",
    "        \n",
    "        • NumPy operations perform complex computations on entire arrays without the need for Python for loops."
   ]
  },
  {
   "cell_type": "code",
   "execution_count": 1,
   "id": "3a216767",
   "metadata": {
    "ExecuteTime": {
     "end_time": "2024-05-14T06:11:37.188172Z",
     "start_time": "2024-05-14T06:11:37.001452Z"
    }
   },
   "outputs": [],
   "source": [
    "import numpy as np"
   ]
  },
  {
   "cell_type": "markdown",
   "id": "267ad145",
   "metadata": {},
   "source": [
    "# Array creation\n",
    "\n",
    "## Conversion from other Python structures"
   ]
  },
  {
   "cell_type": "markdown",
   "id": "27442a08",
   "metadata": {},
   "source": [
    "    Lists and tuples are defined using [...] and (...), respectively.\n",
    "    \n",
    "    Can define ndarry creation."
   ]
  },
  {
   "cell_type": "code",
   "execution_count": 2,
   "id": "8f87df69",
   "metadata": {
    "ExecuteTime": {
     "end_time": "2024-05-14T06:15:13.493560Z",
     "start_time": "2024-05-14T06:15:13.488012Z"
    }
   },
   "outputs": [
    {
     "name": "stdout",
     "output_type": "stream",
     "text": [
      "[1 2 3 4]\n"
     ]
    }
   ],
   "source": [
    "array_1D = np.array([1, 2, 3, 4])\n",
    "\n",
    "print(array_1D)"
   ]
  },
  {
   "cell_type": "code",
   "execution_count": 3,
   "id": "adbf0a92",
   "metadata": {
    "ExecuteTime": {
     "end_time": "2024-05-14T06:15:36.837994Z",
     "start_time": "2024-05-14T06:15:36.832738Z"
    }
   },
   "outputs": [
    {
     "name": "stdout",
     "output_type": "stream",
     "text": [
      "[[1 2]\n",
      " [3 4]]\n"
     ]
    }
   ],
   "source": [
    "array_2D = np.array([[1, 2], [3, 4]])\n",
    "\n",
    "print(array_2D)"
   ]
  },
  {
   "cell_type": "code",
   "execution_count": 4,
   "id": "9982ff20",
   "metadata": {
    "ExecuteTime": {
     "end_time": "2024-05-14T06:15:58.326526Z",
     "start_time": "2024-05-14T06:15:58.319830Z"
    }
   },
   "outputs": [
    {
     "name": "stdout",
     "output_type": "stream",
     "text": [
      "[[[1 2]\n",
      "  [3 4]]\n",
      "\n",
      " [[5 6]\n",
      "  [7 8]]]\n"
     ]
    }
   ],
   "source": [
    "array_3D = np.array([[[1, 2], [3, 4]], [[5, 6], [7, 8]]])\n",
    "\n",
    "print(array_3D)"
   ]
  },
  {
   "cell_type": "markdown",
   "id": "3ab5b26a",
   "metadata": {},
   "source": [
    "    When you use 'numpy.array' to define a new array, you should consider the dtype of the elements in the array, which can be specified explicitly. "
   ]
  },
  {
   "cell_type": "markdown",
   "id": "24ebb4b0",
   "metadata": {},
   "source": [
    "## In-Built NumPy array creation functions"
   ]
  },
  {
   "cell_type": "markdown",
   "id": "f35b6f8c",
   "metadata": {},
   "source": [
    "    numpy.arange([start, ]stop, [step, ]dtype=None, *, device=None, like=None)"
   ]
  },
  {
   "cell_type": "code",
   "execution_count": null,
   "id": "c3ea441c",
   "metadata": {},
   "outputs": [],
   "source": [
    "# 1D arrays\n"
   ]
  },
  {
   "cell_type": "code",
   "execution_count": null,
   "id": "6647a308",
   "metadata": {},
   "outputs": [],
   "source": [
    "# 2D arrays"
   ]
  },
  {
   "cell_type": "code",
   "execution_count": null,
   "id": "fb167fd6",
   "metadata": {},
   "outputs": [],
   "source": [
    "# ndarrays"
   ]
  },
  {
   "cell_type": "code",
   "execution_count": 7,
   "id": "7be609e9",
   "metadata": {
    "ExecuteTime": {
     "end_time": "2024-05-14T06:23:40.072300Z",
     "start_time": "2024-05-14T06:23:40.062906Z"
    }
   },
   "outputs": [
    {
     "data": {
      "text/plain": [
       "array([0, 1, 2, 3, 4, 5, 6, 7, 8, 9])"
      ]
     },
     "execution_count": 7,
     "metadata": {},
     "output_type": "execute_result"
    }
   ],
   "source": [
    "np.arange(10)"
   ]
  },
  {
   "cell_type": "code",
   "execution_count": 8,
   "id": "65369a40",
   "metadata": {
    "ExecuteTime": {
     "end_time": "2024-05-14T06:23:40.801168Z",
     "start_time": "2024-05-14T06:23:40.792119Z"
    }
   },
   "outputs": [
    {
     "data": {
      "text/plain": [
       "array([[1., 0., 0.],\n",
       "       [0., 1., 0.]])"
      ]
     },
     "execution_count": 8,
     "metadata": {},
     "output_type": "execute_result"
    }
   ],
   "source": [
    "np.eye(2,3)"
   ]
  },
  {
   "cell_type": "code",
   "execution_count": null,
   "id": "06ea20b8",
   "metadata": {},
   "outputs": [],
   "source": []
  }
 ],
 "metadata": {
  "kernelspec": {
   "display_name": "Python 3 (ipykernel)",
   "language": "python",
   "name": "python3"
  },
  "language_info": {
   "codemirror_mode": {
    "name": "ipython",
    "version": 3
   },
   "file_extension": ".py",
   "mimetype": "text/x-python",
   "name": "python",
   "nbconvert_exporter": "python",
   "pygments_lexer": "ipython3",
   "version": "3.11.5"
  },
  "toc": {
   "base_numbering": 1,
   "nav_menu": {},
   "number_sections": true,
   "sideBar": true,
   "skip_h1_title": false,
   "title_cell": "Table of Contents",
   "title_sidebar": "Contents",
   "toc_cell": false,
   "toc_position": {},
   "toc_section_display": true,
   "toc_window_display": false
  }
 },
 "nbformat": 4,
 "nbformat_minor": 5
}
