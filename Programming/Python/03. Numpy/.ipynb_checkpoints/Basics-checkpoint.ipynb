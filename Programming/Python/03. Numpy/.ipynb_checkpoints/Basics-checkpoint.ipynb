{
 "cells": [
  {
   "cell_type": "markdown",
   "id": "b03005a4",
   "metadata": {},
   "source": [
    "# NumPy \n",
    "     It's important for numerical computations in Python is because it is designed for efficiency on large arrays of data.\n",
    "     \n",
    "     There are a number of reasons for this:\n",
    "        • NumPy internally stores data in a contiguous block of memory, independent of other built-in Python objects. \n",
    "        • NumPy operations perform complex computations on entire arrays without the need for Python for loops."
   ]
  },
  {
   "cell_type": "code",
   "execution_count": null,
   "id": "3a216767",
   "metadata": {},
   "outputs": [],
   "source": []
  }
 ],
 "metadata": {
  "kernelspec": {
   "display_name": "Python 3 (ipykernel)",
   "language": "python",
   "name": "python3"
  },
  "language_info": {
   "codemirror_mode": {
    "name": "ipython",
    "version": 3
   },
   "file_extension": ".py",
   "mimetype": "text/x-python",
   "name": "python",
   "nbconvert_exporter": "python",
   "pygments_lexer": "ipython3",
   "version": "3.11.5"
  },
  "toc": {
   "base_numbering": 1,
   "nav_menu": {},
   "number_sections": true,
   "sideBar": true,
   "skip_h1_title": false,
   "title_cell": "Table of Contents",
   "title_sidebar": "Contents",
   "toc_cell": false,
   "toc_position": {},
   "toc_section_display": true,
   "toc_window_display": false
  }
 },
 "nbformat": 4,
 "nbformat_minor": 5
}
