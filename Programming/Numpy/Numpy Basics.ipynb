{
 "cells": [
  {
   "cell_type": "code",
   "execution_count": 4,
   "id": "f2ea8644",
   "metadata": {
    "ExecuteTime": {
     "end_time": "2023-11-10T07:55:28.212184Z",
     "start_time": "2023-11-10T07:55:28.206539Z"
    }
   },
   "outputs": [],
   "source": [
    "import numpy as np"
   ]
  },
  {
   "cell_type": "code",
   "execution_count": 5,
   "id": "e8a7e81a",
   "metadata": {
    "ExecuteTime": {
     "end_time": "2023-11-10T07:56:03.128360Z",
     "start_time": "2023-11-10T07:56:03.123648Z"
    }
   },
   "outputs": [],
   "source": [
    "np.arange??"
   ]
  },
  {
   "cell_type": "markdown",
   "id": "1afe1d08",
   "metadata": {},
   "source": [
    "    Starting with an \"Array\""
   ]
  },
  {
   "cell_type": "code",
   "execution_count": 7,
   "id": "a3a9dd9e",
   "metadata": {
    "ExecuteTime": {
     "end_time": "2023-11-10T07:56:50.885391Z",
     "start_time": "2023-11-10T07:56:50.864982Z"
    }
   },
   "outputs": [
    {
     "data": {
      "text/plain": [
       "array([0, 1, 2, 3, 4])"
      ]
     },
     "execution_count": 7,
     "metadata": {},
     "output_type": "execute_result"
    }
   ],
   "source": [
    "a = np.arange(5)\n",
    "a"
   ]
  },
  {
   "cell_type": "code",
   "execution_count": 12,
   "id": "d501e5d3",
   "metadata": {
    "ExecuteTime": {
     "end_time": "2023-11-10T08:03:28.824403Z",
     "start_time": "2023-11-10T08:03:28.791793Z"
    }
   },
   "outputs": [
    {
     "name": "stdout",
     "output_type": "stream",
     "text": [
      "CPU times: total: 15.6 ms\n",
      "Wall time: 25.9 ms\n"
     ]
    }
   ],
   "source": [
    "my_arr = np.arange(1000000)\n",
    "%time for _ in range(10): my_arr2 = my_arr * 2"
   ]
  },
  {
   "cell_type": "code",
   "execution_count": 13,
   "id": "b3fb51b4",
   "metadata": {
    "ExecuteTime": {
     "end_time": "2023-11-10T08:03:53.941114Z",
     "start_time": "2023-11-10T08:03:53.290689Z"
    }
   },
   "outputs": [
    {
     "name": "stdout",
     "output_type": "stream",
     "text": [
      "CPU times: total: 625 ms\n",
      "Wall time: 624 ms\n"
     ]
    }
   ],
   "source": [
    "my_list = list(range(1000000))\n",
    "%time for _ in range(10): my_list2 = [x * 2 for x in my_list]"
   ]
  },
  {
   "cell_type": "code",
   "execution_count": null,
   "id": "57d36ded",
   "metadata": {},
   "outputs": [],
   "source": [
    " "
   ]
  }
 ],
 "metadata": {
  "kernelspec": {
   "display_name": "Python 3 (ipykernel)",
   "language": "python",
   "name": "python3"
  },
  "language_info": {
   "codemirror_mode": {
    "name": "ipython",
    "version": 3
   },
   "file_extension": ".py",
   "mimetype": "text/x-python",
   "name": "python",
   "nbconvert_exporter": "python",
   "pygments_lexer": "ipython3",
   "version": "3.11.5"
  },
  "toc": {
   "base_numbering": 1,
   "nav_menu": {},
   "number_sections": true,
   "sideBar": true,
   "skip_h1_title": false,
   "title_cell": "Table of Contents",
   "title_sidebar": "Contents",
   "toc_cell": false,
   "toc_position": {},
   "toc_section_display": true,
   "toc_window_display": false
  },
  "varInspector": {
   "cols": {
    "lenName": 16,
    "lenType": 16,
    "lenVar": 40
   },
   "kernels_config": {
    "python": {
     "delete_cmd_postfix": "",
     "delete_cmd_prefix": "del ",
     "library": "var_list.py",
     "varRefreshCmd": "print(var_dic_list())"
    },
    "r": {
     "delete_cmd_postfix": ") ",
     "delete_cmd_prefix": "rm(",
     "library": "var_list.r",
     "varRefreshCmd": "cat(var_dic_list()) "
    }
   },
   "types_to_exclude": [
    "module",
    "function",
    "builtin_function_or_method",
    "instance",
    "_Feature"
   ],
   "window_display": false
  }
 },
 "nbformat": 4,
 "nbformat_minor": 5
}
