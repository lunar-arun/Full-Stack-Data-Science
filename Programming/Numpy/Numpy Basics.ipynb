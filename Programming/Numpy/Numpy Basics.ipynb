{
 "cells": [
  {
   "cell_type": "markdown",
   "id": "575fb7b7",
   "metadata": {},
   "source": [
    "     NumPy is a powerful library for numerical operations in Python. It provides support for large, multi-dimensional arrays and matrices, along with a collection of mathematical functions to operate on these elements."
   ]
  },
  {
   "cell_type": "code",
   "execution_count": 1,
   "id": "9a0581d6",
   "metadata": {
    "ExecuteTime": {
     "end_time": "2023-11-11T08:07:05.742032Z",
     "start_time": "2023-11-11T08:07:05.737897Z"
    }
   },
   "outputs": [],
   "source": [
    "import numpy as np"
   ]
  },
  {
   "cell_type": "markdown",
   "id": "3d137033",
   "metadata": {},
   "source": [
    "    Creating Arrays"
   ]
  },
  {
   "cell_type": "code",
   "execution_count": 2,
   "id": "75fcce6a",
   "metadata": {
    "ExecuteTime": {
     "end_time": "2023-11-11T08:08:49.669359Z",
     "start_time": "2023-11-11T08:08:49.656897Z"
    }
   },
   "outputs": [
    {
     "name": "stdout",
     "output_type": "stream",
     "text": [
      "[1 2 3 4 5]\n"
     ]
    }
   ],
   "source": [
    "#Using np.array():\n",
    "\n",
    "arr1 = np.array([1, 2, 3, 4, 5])\n",
    "print(arr1)"
   ]
  },
  {
   "cell_type": "code",
   "execution_count": 3,
   "id": "35aea897",
   "metadata": {
    "ExecuteTime": {
     "end_time": "2023-11-11T08:09:43.539219Z",
     "start_time": "2023-11-11T08:09:43.528704Z"
    }
   },
   "outputs": [
    {
     "name": "stdout",
     "output_type": "stream",
     "text": [
      "[[0. 0. 0.]\n",
      " [0. 0. 0.]\n",
      " [0. 0. 0.]]\n",
      "[[1. 1.]\n",
      " [1. 1.]]\n"
     ]
    }
   ],
   "source": [
    "#Using np.zeros() and np.ones():\n",
    "\n",
    "zeros_arr = np.zeros((3, 3))  # Creates a 3x3 array of zeros\n",
    "ones_arr = np.ones((2, 2))  # Creates a 2x2 array of ones\n",
    "\n",
    "print(zeros_arr)\n",
    "print(ones_arr)"
   ]
  },
  {
   "cell_type": "code",
   "execution_count": 4,
   "id": "fe9b67d8",
   "metadata": {
    "ExecuteTime": {
     "end_time": "2023-11-11T08:10:16.895532Z",
     "start_time": "2023-11-11T08:10:16.887665Z"
    }
   },
   "outputs": [
    {
     "name": "stdout",
     "output_type": "stream",
     "text": [
      "[0 2 4 6 8]\n"
     ]
    }
   ],
   "source": [
    "#Using np.arange():\n",
    "arr2 = np.arange(0, 10, 2)  # Creates an array from 0 to 10 with a step of 2\n",
    "\n",
    "print(arr2)"
   ]
  },
  {
   "cell_type": "code",
   "execution_count": 5,
   "id": "b37b451e",
   "metadata": {
    "ExecuteTime": {
     "end_time": "2023-11-11T08:10:52.070893Z",
     "start_time": "2023-11-11T08:10:52.064759Z"
    }
   },
   "outputs": [
    {
     "name": "stdout",
     "output_type": "stream",
     "text": [
      "[0.   0.25 0.5  0.75 1.  ]\n"
     ]
    }
   ],
   "source": [
    "#Using np.linspace():\n",
    "\n",
    "arr3 = np.linspace(0, 1, 5)  # Creates an array of 5 evenly spaced values from 0 to 1\n",
    "\n",
    "print(arr3)"
   ]
  },
  {
   "cell_type": "code",
   "execution_count": 6,
   "id": "aa1d5cb0",
   "metadata": {
    "ExecuteTime": {
     "end_time": "2023-11-11T08:13:06.747784Z",
     "start_time": "2023-11-11T08:13:06.737875Z"
    }
   },
   "outputs": [
    {
     "name": "stdout",
     "output_type": "stream",
     "text": [
      "a = [1 2 3]\n",
      "\n",
      "ab = [4 5 6]\n",
      "\n",
      "a+b = [5 7 9]\n",
      "\n",
      "a*b = [ 4 10 18]\n"
     ]
    }
   ],
   "source": [
    "#Array Operations\n",
    "#NumPy allows you to perform operations on arrays element-wise:\n",
    "\n",
    "a = np.array([1, 2, 3])\n",
    "b = np.array([4, 5, 6])\n",
    "\n",
    "print(f\"a = {a}\\n\")\n",
    "print(f\"ab = {b}\\n\")\n",
    "\n",
    "# Element-wise addition\n",
    "result_add = a + b\n",
    "print(f\"a+b = {result_add}\\n\")\n",
    "\n",
    "# Element-wise multiplication\n",
    "result_mul = a * b\n",
    "print(f\"a*b = {result_mul}\")"
   ]
  },
  {
   "cell_type": "code",
   "execution_count": 7,
   "id": "fd381ed8",
   "metadata": {
    "ExecuteTime": {
     "end_time": "2023-11-11T08:13:27.319022Z",
     "start_time": "2023-11-11T08:13:27.311852Z"
    }
   },
   "outputs": [
    {
     "name": "stdout",
     "output_type": "stream",
     "text": [
      "2\n",
      "[1 2 3]\n"
     ]
    }
   ],
   "source": [
    "# Indexing and Slicing\n",
    "#You can access elements and subarrays using indexing and slicing:\n",
    "\n",
    "arr = np.array([0, 1, 2, 3, 4, 5])\n",
    "\n",
    "# Accessing an element\n",
    "print(arr[2])  # Output: 2\n",
    "\n",
    "# Slicing\n",
    "print(arr[1:4])  # Output: [1, 2, 3]"
   ]
  },
  {
   "cell_type": "code",
   "execution_count": 10,
   "id": "db2521a7",
   "metadata": {
    "ExecuteTime": {
     "end_time": "2023-11-11T08:15:33.542001Z",
     "start_time": "2023-11-11T08:15:33.534893Z"
    }
   },
   "outputs": [
    {
     "name": "stdout",
     "output_type": "stream",
     "text": [
      "shape of arr : (2, 3)\n",
      "\n",
      "[[1 2 3]\n",
      " [4 5 6]]\n",
      "\n",
      "[[1 2]\n",
      " [3 4]\n",
      " [5 6]]\n"
     ]
    }
   ],
   "source": [
    "#Array Shape and Reshaping\n",
    "#You can check the shape of an array and reshape it:\n",
    "\n",
    "arr = np.array([[1, 2, 3], [4, 5, 6]])\n",
    "\n",
    "# Shape\n",
    "print(f\"shape of arr : {arr.shape}\\n\")  # Output: (2, 3)\n",
    "print(f\"{arr}\\n\")\n",
    "# Reshape\n",
    "reshaped_arr = arr.reshape(3, 2)\n",
    "print(reshaped_arr)"
   ]
  },
  {
   "cell_type": "code",
   "execution_count": 12,
   "id": "39061ced",
   "metadata": {
    "ExecuteTime": {
     "end_time": "2023-11-11T08:20:23.733160Z",
     "start_time": "2023-11-11T08:20:23.728135Z"
    }
   },
   "outputs": [
    {
     "name": "stdout",
     "output_type": "stream",
     "text": [
      "mean_val : 3.0\n",
      "median_val : 3.0\n",
      "std_dev : 1.4142135623730951\n"
     ]
    }
   ],
   "source": [
    "# Mathematical Functions\n",
    "#NumPy provides a wide range of mathematical functions:\n",
    "\n",
    "arr = np.array([1, 2, 3, 4, 5])\n",
    "\n",
    "# Mean, median, and standard deviation\n",
    "mean_val = np.mean(arr)\n",
    "median_val = np.median(arr)\n",
    "std_dev = np.std(arr)\n",
    "\n",
    "print(f\"mean_val : {mean_val}\")\n",
    "print(f\"median_val : {median_val}\")\n",
    "print(f\"std_dev : {std_dev}\")"
   ]
  },
  {
   "cell_type": "code",
   "execution_count": 14,
   "id": "62fbeaf8",
   "metadata": {
    "ExecuteTime": {
     "end_time": "2023-11-11T08:22:51.645160Z",
     "start_time": "2023-11-11T08:22:51.639162Z"
    }
   },
   "outputs": [
    {
     "name": "stdout",
     "output_type": "stream",
     "text": [
      "matrix_a : \n",
      "[[1 2]\n",
      " [3 4]]\n",
      "\n",
      "matrix_b : \n",
      "g[[5 6]\n",
      " [7 8]]\n",
      "\n",
      "matrix_a . matrix_b: \n",
      "[[19 22]\n",
      " [43 50]]\n"
     ]
    }
   ],
   "source": [
    "# Linear Algebra\n",
    "# NumPy has functions for linear algebra operations:\n",
    "\n",
    "\n",
    "matrix_a = np.array([[1, 2], [3, 4]])\n",
    "matrix_b = np.array([[5, 6], [7, 8]])\n",
    "print(f\"matrix_a : \\n{matrix_a}\\n\")\n",
    "print(f\"matrix_b : \\ng{matrix_b}\\n\")\n",
    "\n",
    "# Matrix multiplication\n",
    "result_matrix = np.dot(matrix_a, matrix_b)\n",
    "\n",
    "print(f\"matrix_a . matrix_b: \\n{result_matrix}\")"
   ]
  },
  {
   "cell_type": "code",
   "execution_count": 15,
   "id": "37016b2c",
   "metadata": {
    "ExecuteTime": {
     "end_time": "2023-11-11T08:24:08.613722Z",
     "start_time": "2023-11-11T08:24:08.606974Z"
    }
   },
   "outputs": [
    {
     "name": "stdout",
     "output_type": "stream",
     "text": [
      "concatenated : \n",
      "[1 2 3 4 5 6]\n",
      "\n",
      "vertical_stack : \n",
      "[[1 2 3]\n",
      " [4 5 6]]\n",
      "\n",
      "horizontal_stack : \n",
      "[1 2 3 4 5 6]\n",
      "\n"
     ]
    }
   ],
   "source": [
    "#Concatenation and Stacking\n",
    "#You can concatenate and stack arrays horizontally or vertically:\n",
    "\n",
    "arr1 = np.array([1, 2, 3])\n",
    "arr2 = np.array([4, 5, 6])\n",
    "\n",
    "# Concatenation\n",
    "concatenated = np.concatenate((arr1, arr2))\n",
    "print(f\"concatenated : \\n{concatenated}\\n\")\n",
    "\n",
    "# Vertical stacking\n",
    "vertical_stack = np.vstack((arr1, arr2))\n",
    "print(f\"vertical_stack : \\n{vertical_stack}\\n\")\n",
    "\n",
    "# Horizontal stacking\n",
    "horizontal_stack = np.hstack((arr1, arr2))\n",
    "print(f\"horizontal_stack : \\n{horizontal_stack}\\n\")"
   ]
  },
  {
   "cell_type": "code",
   "execution_count": 17,
   "id": "14552b14",
   "metadata": {
    "ExecuteTime": {
     "end_time": "2023-11-11T08:25:28.940197Z",
     "start_time": "2023-11-11T08:25:28.927713Z"
    }
   },
   "outputs": [
    {
     "name": "stdout",
     "output_type": "stream",
     "text": [
      "random_numbers : \n",
      "[[0.02646234 0.34981711 0.28056302]\n",
      " [0.32881669 0.11639765 0.5139228 ]\n",
      " [0.47620782 0.66300765 0.12027445]]\n",
      "\n",
      "random_integers : \n",
      "[[2 8 3]\n",
      " [5 3 2]]\n",
      "\n"
     ]
    }
   ],
   "source": [
    "# Random Module\n",
    "# NumPy provides a random module for generating random numbers:\n",
    "\n",
    "# Generate random numbers\n",
    "random_numbers = np.random.rand(3, 3)  # 3x3 array of random values between 0 and 1\n",
    "print(f\"random_numbers : \\n{random_numbers}\\n\")\n",
    "\n",
    "# Random integers\n",
    "random_integers = np.random.randint(1, 10, size=(2, 3))  # 2x3 array of random integers between 1 and 10\n",
    "print(f\"random_integers : \\n{random_integers}\\n\")"
   ]
  }
 ],
 "metadata": {
  "kernelspec": {
   "display_name": "Python 3 (ipykernel)",
   "language": "python",
   "name": "python3"
  },
  "language_info": {
   "codemirror_mode": {
    "name": "ipython",
    "version": 3
   },
   "file_extension": ".py",
   "mimetype": "text/x-python",
   "name": "python",
   "nbconvert_exporter": "python",
   "pygments_lexer": "ipython3",
   "version": "3.11.5"
  },
  "toc": {
   "base_numbering": 1,
   "nav_menu": {},
   "number_sections": true,
   "sideBar": true,
   "skip_h1_title": false,
   "title_cell": "Table of Contents",
   "title_sidebar": "Contents",
   "toc_cell": false,
   "toc_position": {},
   "toc_section_display": true,
   "toc_window_display": false
  },
  "varInspector": {
   "cols": {
    "lenName": 16,
    "lenType": 16,
    "lenVar": 40
   },
   "kernels_config": {
    "python": {
     "delete_cmd_postfix": "",
     "delete_cmd_prefix": "del ",
     "library": "var_list.py",
     "varRefreshCmd": "print(var_dic_list())"
    },
    "r": {
     "delete_cmd_postfix": ") ",
     "delete_cmd_prefix": "rm(",
     "library": "var_list.r",
     "varRefreshCmd": "cat(var_dic_list()) "
    }
   },
   "types_to_exclude": [
    "module",
    "function",
    "builtin_function_or_method",
    "instance",
    "_Feature"
   ],
   "window_display": false
  }
 },
 "nbformat": 4,
 "nbformat_minor": 5
}
