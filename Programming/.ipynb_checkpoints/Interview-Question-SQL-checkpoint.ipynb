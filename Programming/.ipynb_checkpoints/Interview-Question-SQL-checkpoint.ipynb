{
 "cells": [
  {
   "cell_type": "markdown",
   "id": "0c92daf3",
   "metadata": {},
   "source": [
    "    Data : "
   ]
  },
  {
   "cell_type": "markdown",
   "id": "c54caef2",
   "metadata": {},
   "source": [
    "    Table : It's collection of data stored in the form of rows and columns.\n",
    "\n",
    "     what is Database?\n",
    "         Its a collection of tables with organized data.\n",
    "         \n",
    "     Collection of database is called Data WareHouse"
   ]
  },
  {
   "cell_type": "markdown",
   "id": "19d289a2",
   "metadata": {},
   "source": [
    "    DBMS : Database Management System\n",
    "        It's a software system which allow the user to Creation, Retrieval, Updation, Deletion and managment of the database.\n",
    "        \n",
    "    Types:\n",
    "        DBMS : single file structured data.\n",
    "        RDBMS : Relational Database Management System\n",
    "            Multi-file (collection of tables with relation defined between tables on common fields)            \n",
    "        NoSQL : Unstructured data, uses graph theory to store, manage, and query data.\n",
    "        Hierarchical : Organized data in tree-like structure.\n",
    "        Network : Coomplex data relationships"
   ]
  },
  {
   "cell_type": "markdown",
   "id": "d94319e2",
   "metadata": {},
   "source": [
    "    SQL : Structured Query Language\n",
    "        Used for retrieving and manipulating structured databases.\n",
    "    MySQL : It's RDBMS used to manage SQL databases."
   ]
  },
  {
   "cell_type": "markdown",
   "id": "f9ca4e24",
   "metadata": {},
   "source": [
    "    what are Fields and Records?\n",
    "        The columns in the table represent Field (Attribute) and \n",
    "        rows represent Record (Tuple)."
   ]
  },
  {
   "cell_type": "markdown",
   "id": "f2a4b150",
   "metadata": {},
   "source": [
    "    what are different type of keys in SQL?\n",
    "        \n",
    "        CANDIDATE KEY : One or more columns that uniquely identify a record in a table.\n",
    "        PRIMARY KEY : A attribute that unique identifier for a record.\n",
    "        \n",
    "        ALTERNATE KEY : The CANDIDATE KEY other than the primary key.\n",
    "        \n",
    "        SUPER KEY : Set of attribute that uniquely identify a tuple.\n",
    "        \n",
    "        FOREIGN KEY : A attribute which is PRIMARY KEY in another table."
   ]
  },
  {
   "cell_type": "markdown",
   "id": "521ee72d",
   "metadata": {},
   "source": [
    "    what is query?\n",
    "        A request for data from a database table or combination of tables.\n",
    "        \n",
    "    Subquery : A query within another query.\n",
    "        It's used to restrict or enhance the data to be queried by the main query, hence limiting or enhancing the output of the main query respectively.\n",
    "        \n",
    "     Types of subquery :\n",
    "         Correlated subquery : The outer query is dependent on the inner query.\n",
    "         Non-Correlated subquery : The outer query is independent on inner query."
   ]
  },
  {
   "cell_type": "markdown",
   "id": "ee1d1fa3",
   "metadata": {},
   "source": []
  },
  {
   "cell_type": "markdown",
   "id": "00628f07",
   "metadata": {},
   "source": []
  },
  {
   "cell_type": "markdown",
   "id": "3735b728",
   "metadata": {},
   "source": []
  },
  {
   "cell_type": "markdown",
   "id": "ed3f32b9",
   "metadata": {},
   "source": []
  },
  {
   "cell_type": "markdown",
   "id": "2d5e17e4",
   "metadata": {},
   "source": []
  },
  {
   "cell_type": "markdown",
   "id": "523a1838",
   "metadata": {},
   "source": []
  },
  {
   "cell_type": "markdown",
   "id": "ed7e6892",
   "metadata": {},
   "source": []
  },
  {
   "cell_type": "markdown",
   "id": "2ebbc242",
   "metadata": {},
   "source": []
  },
  {
   "cell_type": "markdown",
   "id": "bb76b127",
   "metadata": {},
   "source": []
  },
  {
   "cell_type": "markdown",
   "id": "bde9c9d7",
   "metadata": {},
   "source": []
  },
  {
   "cell_type": "markdown",
   "id": "cd6ecbd5",
   "metadata": {},
   "source": []
  }
 ],
 "metadata": {
  "kernelspec": {
   "display_name": "Python 3 (ipykernel)",
   "language": "python",
   "name": "python3"
  },
  "language_info": {
   "codemirror_mode": {
    "name": "ipython",
    "version": 3
   },
   "file_extension": ".py",
   "mimetype": "text/x-python",
   "name": "python",
   "nbconvert_exporter": "python",
   "pygments_lexer": "ipython3",
   "version": "3.10.9"
  }
 },
 "nbformat": 4,
 "nbformat_minor": 5
}
