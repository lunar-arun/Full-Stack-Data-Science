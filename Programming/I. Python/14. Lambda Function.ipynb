{
 "cells": [
  {
   "cell_type": "markdown",
   "id": "f197bb7e",
   "metadata": {},
   "source": [
    "# Lambda\n",
    "\n",
    "    A lambda function is a small anonymous function.\n",
    "\n",
    "    A lambda function can take any number of arguments, but can only have one expression.\n",
    "\n",
    "    Syntax:\n",
    "        lambda argument(s) : expression \n",
    "        Here,\n",
    "            argument(s) - any value passed to the lambda function\n",
    "            expression - expression is executed and returned"
   ]
  },
  {
   "cell_type": "code",
   "execution_count": 3,
   "id": "e554ec68",
   "metadata": {},
   "outputs": [
    {
     "name": "stdout",
     "output_type": "stream",
     "text": [
      "hello world\n"
     ]
    }
   ],
   "source": [
    "# print \"hello world\" using lambda function\n",
    "\n",
    "Var = lambda : print('hello world')\n",
    "Var()"
   ]
  },
  {
   "cell_type": "code",
   "execution_count": null,
   "id": "c001cc7f",
   "metadata": {},
   "outputs": [],
   "source": []
  }
 ],
 "metadata": {
  "kernelspec": {
   "display_name": "Python 3 (ipykernel)",
   "language": "python",
   "name": "python3"
  },
  "language_info": {
   "codemirror_mode": {
    "name": "ipython",
    "version": 3
   },
   "file_extension": ".py",
   "mimetype": "text/x-python",
   "name": "python",
   "nbconvert_exporter": "python",
   "pygments_lexer": "ipython3",
   "version": "3.10.9"
  }
 },
 "nbformat": 4,
 "nbformat_minor": 5
}
