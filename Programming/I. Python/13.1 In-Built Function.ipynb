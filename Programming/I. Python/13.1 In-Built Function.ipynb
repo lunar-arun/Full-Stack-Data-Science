{
 "cells": [
  {
   "cell_type": "markdown",
   "id": "22072b26",
   "metadata": {},
   "source": [
    "#### abs()\t: Returns the absolute value of a number"
   ]
  },
  {
   "cell_type": "code",
   "execution_count": 2,
   "id": "57bcf521",
   "metadata": {},
   "outputs": [
    {
     "name": "stdout",
     "output_type": "stream",
     "text": [
      "x: 9.12\n"
     ]
    }
   ],
   "source": [
    "#Syntax : abs(n)\n",
    "\n",
    "x = abs(-9.12)\n",
    "print(f'x: {x}')"
   ]
  },
  {
   "cell_type": "markdown",
   "id": "ae8a15a9",
   "metadata": {},
   "source": [
    "#### all() : Returns True if all items in an iterable object are true"
   ]
  },
  {
   "cell_type": "code",
   "execution_count": 3,
   "id": "89780285",
   "metadata": {},
   "outputs": [
    {
     "name": "stdout",
     "output_type": "stream",
     "text": [
      "x: True\n"
     ]
    }
   ],
   "source": [
    "# Syntax : all(iterable) iterable -> (list, tuple, dictionary)\n",
    "\n",
    "mylist = [True, True, True]\n",
    "x = all(mylist)\n",
    "\n",
    "print(f'x: {x}')"
   ]
  },
  {
   "cell_type": "markdown",
   "id": "dabd806f",
   "metadata": {},
   "source": [
    "#### any()\t: Returns True if any item in an iterable object is true "
   ]
  },
  {
   "cell_type": "code",
   "execution_count": 4,
   "id": "ce01e05b",
   "metadata": {},
   "outputs": [
    {
     "name": "stdout",
     "output_type": "stream",
     "text": [
      "x: True\n"
     ]
    }
   ],
   "source": [
    "# Syntax : any(iterable) iterable -> (list, tuple, dictionary)\n",
    "\n",
    "mylist = [False, True, False]\n",
    "x = any(mylist)\n",
    "\n",
    "print(f'x: {x}')"
   ]
  },
  {
   "cell_type": "markdown",
   "id": "d113af94",
   "metadata": {},
   "source": [
    "#### ascii() : Returns a readable version of an object. Replaces none-ascii characters with escape character"
   ]
  },
  {
   "cell_type": "code",
   "execution_count": 5,
   "id": "93998555",
   "metadata": {},
   "outputs": [
    {
     "name": "stdout",
     "output_type": "stream",
     "text": [
      "x: 'My name is St\\xe5le'\n"
     ]
    }
   ],
   "source": [
    "# Syntax : ascii(object) object -> (String, List, Tuple, Dictionary)\n",
    "\n",
    "x = ascii(\"My name is Ståle\")\n",
    "\n",
    "print(f'x: {x}')"
   ]
  },
  {
   "cell_type": "code",
   "execution_count": 8,
   "id": "e06266f0",
   "metadata": {},
   "outputs": [
    {
     "name": "stdout",
     "output_type": "stream",
     "text": [
      "ascii : 'a'\n"
     ]
    }
   ],
   "source": [
    "y = 'a'\n",
    "print(f'ascii : {ascii(y)}')"
   ]
  },
  {
   "cell_type": "markdown",
   "id": "09e6c452",
   "metadata": {},
   "source": [
    "#### bin() : Returns the binary version of a number"
   ]
  },
  {
   "cell_type": "code",
   "execution_count": 9,
   "id": "65d0a8dd",
   "metadata": {},
   "outputs": [
    {
     "name": "stdout",
     "output_type": "stream",
     "text": [
      "x: 0b100100\n"
     ]
    }
   ],
   "source": [
    "# Syntax : bin(n)\n",
    "\n",
    "x = bin(36)\n",
    "\n",
    "print(f'x: {x}')\n",
    "#The result will always start with the prefix 0b."
   ]
  },
  {
   "cell_type": "markdown",
   "id": "112014d0",
   "metadata": {},
   "source": [
    "#### bool()\t: Returns the boolean value of the specified object"
   ]
  },
  {
   "cell_type": "code",
   "execution_count": 11,
   "id": "7bb4eea8",
   "metadata": {},
   "outputs": [
    {
     "name": "stdout",
     "output_type": "stream",
     "text": [
      "x: True\n",
      "bool(0): False\n",
      "bool(False): False\n",
      "bool(None): False\n",
      "bool([]): False\n"
     ]
    }
   ],
   "source": [
    "# Syntax : bool(object) object -> (String, List, Number etc..)\n",
    "\n",
    "x = bool(1)\n",
    "\n",
    "print(f'x: {x}')\n",
    "print(f'bool(0): {bool(0)}')\n",
    "print(f'bool(False): {bool(False)}')\n",
    "print(f'bool(None): {bool(None)}')\n",
    "print(f'bool([]): {bool([])}')"
   ]
  },
  {
   "cell_type": "markdown",
   "id": "65b63840",
   "metadata": {},
   "source": [
    "#### bytearray() : Returns an array of bytes"
   ]
  },
  {
   "cell_type": "code",
   "execution_count": null,
   "id": "6a1562bb",
   "metadata": {},
   "outputs": [],
   "source": []
  },
  {
   "cell_type": "markdown",
   "id": "eb63e93e",
   "metadata": {},
   "source": [
    "# Type Conversion Functions"
   ]
  },
  {
   "cell_type": "markdown",
   "id": "1ae3b5bc",
   "metadata": {},
   "source": [
    "int(): Converts a value to an integer."
   ]
  },
  {
   "cell_type": "code",
   "execution_count": null,
   "id": "b8947057",
   "metadata": {},
   "outputs": [],
   "source": []
  },
  {
   "cell_type": "markdown",
   "id": "228dc23c",
   "metadata": {},
   "source": [
    "float(): Converts a value to a floating-point number."
   ]
  },
  {
   "cell_type": "code",
   "execution_count": null,
   "id": "02403e25",
   "metadata": {},
   "outputs": [],
   "source": []
  },
  {
   "cell_type": "markdown",
   "id": "03de0a5c",
   "metadata": {},
   "source": [
    "str(): Converts a value to a string."
   ]
  },
  {
   "cell_type": "code",
   "execution_count": null,
   "id": "966274fe",
   "metadata": {},
   "outputs": [],
   "source": []
  },
  {
   "cell_type": "markdown",
   "id": "b059f06c",
   "metadata": {},
   "source": [
    "list(): Converts an iterable to a list."
   ]
  },
  {
   "cell_type": "code",
   "execution_count": null,
   "id": "18ec6c15",
   "metadata": {},
   "outputs": [],
   "source": []
  },
  {
   "cell_type": "markdown",
   "id": "b57f007b",
   "metadata": {},
   "source": [
    "tuple(): Converts an iterable to a tuple."
   ]
  },
  {
   "cell_type": "code",
   "execution_count": null,
   "id": "33c7a37d",
   "metadata": {},
   "outputs": [],
   "source": []
  },
  {
   "cell_type": "markdown",
   "id": "2e9a6e74",
   "metadata": {},
   "source": [
    "dict(): Converts an iterable of key-value pairs to a dictionary."
   ]
  },
  {
   "cell_type": "code",
   "execution_count": null,
   "id": "d3ab2685",
   "metadata": {},
   "outputs": [],
   "source": []
  },
  {
   "cell_type": "markdown",
   "id": "94d03f95",
   "metadata": {},
   "source": [
    "set(): Converts an iterable to a set."
   ]
  },
  {
   "cell_type": "code",
   "execution_count": null,
   "id": "2684e949",
   "metadata": {},
   "outputs": [],
   "source": []
  },
  {
   "cell_type": "markdown",
   "id": "f56e70bc",
   "metadata": {},
   "source": [
    "bool()"
   ]
  },
  {
   "cell_type": "markdown",
   "id": "4b4f7035",
   "metadata": {},
   "source": [
    "# Math Functions:"
   ]
  },
  {
   "cell_type": "markdown",
   "id": "3db153c2",
   "metadata": {},
   "source": [
    "abs(): Returns the absolute value of a number."
   ]
  },
  {
   "cell_type": "code",
   "execution_count": null,
   "id": "97305426",
   "metadata": {},
   "outputs": [],
   "source": []
  },
  {
   "cell_type": "markdown",
   "id": "9c477f5a",
   "metadata": {},
   "source": [
    "max(): Returns the maximum value from an iterable.\n"
   ]
  },
  {
   "cell_type": "code",
   "execution_count": null,
   "id": "fa33d792",
   "metadata": {},
   "outputs": [],
   "source": []
  },
  {
   "cell_type": "markdown",
   "id": "759ce174",
   "metadata": {},
   "source": [
    "min(): Returns the minimum value from an iterable.\n"
   ]
  },
  {
   "cell_type": "code",
   "execution_count": null,
   "id": "8615a8fb",
   "metadata": {},
   "outputs": [],
   "source": []
  },
  {
   "cell_type": "markdown",
   "id": "cea19935",
   "metadata": {},
   "source": [
    "pow(): Raises a number to a specified power.\n"
   ]
  },
  {
   "cell_type": "code",
   "execution_count": null,
   "id": "37200beb",
   "metadata": {},
   "outputs": [],
   "source": []
  },
  {
   "cell_type": "markdown",
   "id": "8a737cc5",
   "metadata": {},
   "source": [
    "round(): Rounds a floating-point number to a specified number of decimal places.\n"
   ]
  },
  {
   "cell_type": "code",
   "execution_count": null,
   "id": "01e1532f",
   "metadata": {},
   "outputs": [],
   "source": []
  },
  {
   "cell_type": "markdown",
   "id": "ff348e05",
   "metadata": {},
   "source": [
    "sum()\n"
   ]
  },
  {
   "cell_type": "code",
   "execution_count": null,
   "id": "677f7075",
   "metadata": {},
   "outputs": [],
   "source": []
  },
  {
   "cell_type": "markdown",
   "id": "89628232",
   "metadata": {},
   "source": [
    "divmod()\n"
   ]
  },
  {
   "cell_type": "markdown",
   "id": "44611a3e",
   "metadata": {},
   "source": [
    "# Sequence Functions:"
   ]
  },
  {
   "cell_type": "markdown",
   "id": "be2a75f6",
   "metadata": {},
   "source": [
    "len(): Returns the length of a sequence (e.g., string, list, tuple).\n"
   ]
  },
  {
   "cell_type": "code",
   "execution_count": null,
   "id": "af509704",
   "metadata": {},
   "outputs": [],
   "source": []
  },
  {
   "cell_type": "markdown",
   "id": "426790b2",
   "metadata": {},
   "source": [
    "range(): Generates a sequence of numbers.\n"
   ]
  },
  {
   "cell_type": "code",
   "execution_count": null,
   "id": "5811a69f",
   "metadata": {},
   "outputs": [],
   "source": []
  },
  {
   "cell_type": "markdown",
   "id": "dfa24c7b",
   "metadata": {},
   "source": [
    "enumerate(): Returns an iterator of index-value pairs.\n"
   ]
  },
  {
   "cell_type": "code",
   "execution_count": null,
   "id": "e25c107d",
   "metadata": {},
   "outputs": [],
   "source": []
  },
  {
   "cell_type": "markdown",
   "id": "6b98608b",
   "metadata": {},
   "source": [
    "zip(): Combines multiple iterables element-wise.\n"
   ]
  },
  {
   "cell_type": "code",
   "execution_count": null,
   "id": "ea4b89b5",
   "metadata": {},
   "outputs": [],
   "source": []
  },
  {
   "cell_type": "markdown",
   "id": "c29eb0f0",
   "metadata": {},
   "source": [
    "sorted(): Returns a sorted version of a sequence.\n"
   ]
  },
  {
   "cell_type": "code",
   "execution_count": null,
   "id": "eef988a6",
   "metadata": {},
   "outputs": [],
   "source": []
  },
  {
   "cell_type": "markdown",
   "id": "2eb344d3",
   "metadata": {},
   "source": [
    "reversed()\n"
   ]
  },
  {
   "cell_type": "code",
   "execution_count": null,
   "id": "a90bba14",
   "metadata": {},
   "outputs": [],
   "source": []
  },
  {
   "cell_type": "markdown",
   "id": "9067708d",
   "metadata": {},
   "source": [
    "slice()\n"
   ]
  },
  {
   "cell_type": "markdown",
   "id": "b019582e",
   "metadata": {},
   "source": [
    "# Input/Output Functions:"
   ]
  },
  {
   "cell_type": "markdown",
   "id": "a824762d",
   "metadata": {},
   "source": [
    "input(): Reads user input from the console.\n"
   ]
  },
  {
   "cell_type": "code",
   "execution_count": null,
   "id": "fa11ae65",
   "metadata": {},
   "outputs": [],
   "source": []
  },
  {
   "cell_type": "markdown",
   "id": "fb98d06f",
   "metadata": {},
   "source": [
    "print(): Outputs data to the console.\n"
   ]
  },
  {
   "cell_type": "code",
   "execution_count": null,
   "id": "a4a8da69",
   "metadata": {},
   "outputs": [],
   "source": []
  },
  {
   "cell_type": "markdown",
   "id": "8648a9aa",
   "metadata": {},
   "source": [
    "open()\n"
   ]
  },
  {
   "cell_type": "markdown",
   "id": "cb9db2aa",
   "metadata": {},
   "source": [
    "# String Functions:"
   ]
  },
  {
   "cell_type": "markdown",
   "id": "52bcfb2d",
   "metadata": {},
   "source": [
    "str.split(): Splits a string into a list of substrings.\n"
   ]
  },
  {
   "cell_type": "code",
   "execution_count": null,
   "id": "c85511ac",
   "metadata": {},
   "outputs": [],
   "source": []
  },
  {
   "cell_type": "markdown",
   "id": "9fdb8aca",
   "metadata": {},
   "source": [
    "str.join(): Joins a list of strings into a single string.\n"
   ]
  },
  {
   "cell_type": "code",
   "execution_count": null,
   "id": "0a289546",
   "metadata": {},
   "outputs": [],
   "source": []
  },
  {
   "cell_type": "markdown",
   "id": "1b7091d0",
   "metadata": {},
   "source": [
    "str.upper(): Converts a string to uppercase.\n"
   ]
  },
  {
   "cell_type": "code",
   "execution_count": null,
   "id": "83330269",
   "metadata": {},
   "outputs": [],
   "source": []
  },
  {
   "cell_type": "markdown",
   "id": "51adde30",
   "metadata": {},
   "source": [
    "str.lower(): Converts a string to lowercase.\n"
   ]
  },
  {
   "cell_type": "code",
   "execution_count": null,
   "id": "1c435b85",
   "metadata": {},
   "outputs": [],
   "source": []
  },
  {
   "cell_type": "markdown",
   "id": "207cabed",
   "metadata": {},
   "source": [
    "str.strip(): Removes leading and trailing whitespace from a string.\n"
   ]
  },
  {
   "cell_type": "code",
   "execution_count": null,
   "id": "b1d1d12a",
   "metadata": {},
   "outputs": [],
   "source": []
  },
  {
   "cell_type": "markdown",
   "id": "9e1656de",
   "metadata": {},
   "source": [
    "str.replace(): Replaces substrings within a string.\n"
   ]
  },
  {
   "cell_type": "code",
   "execution_count": null,
   "id": "4636ef52",
   "metadata": {},
   "outputs": [],
   "source": []
  },
  {
   "cell_type": "markdown",
   "id": "eb854900",
   "metadata": {},
   "source": [
    "str.startswith()\n"
   ]
  },
  {
   "cell_type": "code",
   "execution_count": null,
   "id": "da89f765",
   "metadata": {},
   "outputs": [],
   "source": []
  },
  {
   "cell_type": "markdown",
   "id": "c544aa20",
   "metadata": {},
   "source": [
    "str.endswith()\n"
   ]
  },
  {
   "cell_type": "code",
   "execution_count": null,
   "id": "ca318faf",
   "metadata": {},
   "outputs": [],
   "source": []
  },
  {
   "cell_type": "markdown",
   "id": "41d96dc6",
   "metadata": {},
   "source": []
  },
  {
   "cell_type": "code",
   "execution_count": null,
   "id": "61a550a2",
   "metadata": {},
   "outputs": [],
   "source": []
  },
  {
   "cell_type": "markdown",
   "id": "e692ea37",
   "metadata": {},
   "source": []
  },
  {
   "cell_type": "code",
   "execution_count": null,
   "id": "ee7236bb",
   "metadata": {},
   "outputs": [],
   "source": []
  },
  {
   "cell_type": "code",
   "execution_count": null,
   "id": "cd459361",
   "metadata": {},
   "outputs": [],
   "source": []
  },
  {
   "cell_type": "code",
   "execution_count": null,
   "id": "009af155",
   "metadata": {},
   "outputs": [],
   "source": []
  },
  {
   "cell_type": "code",
   "execution_count": null,
   "id": "5466b41b",
   "metadata": {},
   "outputs": [],
   "source": []
  },
  {
   "cell_type": "code",
   "execution_count": null,
   "id": "55d96dfc",
   "metadata": {},
   "outputs": [],
   "source": []
  }
 ],
 "metadata": {
  "kernelspec": {
   "display_name": "Python 3 (ipykernel)",
   "language": "python",
   "name": "python3"
  },
  "language_info": {
   "codemirror_mode": {
    "name": "ipython",
    "version": 3
   },
   "file_extension": ".py",
   "mimetype": "text/x-python",
   "name": "python",
   "nbconvert_exporter": "python",
   "pygments_lexer": "ipython3",
   "version": "3.10.9"
  }
 },
 "nbformat": 4,
 "nbformat_minor": 5
}
