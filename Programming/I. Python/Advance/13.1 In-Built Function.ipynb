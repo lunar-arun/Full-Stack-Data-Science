{
 "cells": [
  {
   "cell_type": "markdown",
   "id": "22072b26",
   "metadata": {},
   "source": [
    "#### abs()\t: Returns the absolute value of a number"
   ]
  },
  {
   "cell_type": "code",
   "execution_count": 2,
   "id": "57bcf521",
   "metadata": {},
   "outputs": [
    {
     "name": "stdout",
     "output_type": "stream",
     "text": [
      "x: 9.12\n"
     ]
    }
   ],
   "source": [
    "#Syntax : abs(n)\n",
    "\n",
    "x = abs(-9.12)\n",
    "print(f'x: {x}')"
   ]
  },
  {
   "cell_type": "markdown",
   "id": "ae8a15a9",
   "metadata": {},
   "source": [
    "#### all() : Returns True if all items in an iterable object are true"
   ]
  },
  {
   "cell_type": "code",
   "execution_count": 3,
   "id": "89780285",
   "metadata": {},
   "outputs": [
    {
     "name": "stdout",
     "output_type": "stream",
     "text": [
      "x: True\n"
     ]
    }
   ],
   "source": [
    "# Syntax : all(iterable) iterable -> (list, tuple, dictionary)\n",
    "\n",
    "mylist = [True, True, True]\n",
    "x = all(mylist)\n",
    "\n",
    "print(f'x: {x}')"
   ]
  },
  {
   "cell_type": "markdown",
   "id": "dabd806f",
   "metadata": {},
   "source": [
    "#### any()\t: Returns True if any item in an iterable object is true "
   ]
  },
  {
   "cell_type": "code",
   "execution_count": 4,
   "id": "ce01e05b",
   "metadata": {},
   "outputs": [
    {
     "name": "stdout",
     "output_type": "stream",
     "text": [
      "x: True\n"
     ]
    }
   ],
   "source": [
    "# Syntax : any(iterable) iterable -> (list, tuple, dictionary)\n",
    "\n",
    "mylist = [False, True, False]\n",
    "x = any(mylist)\n",
    "\n",
    "print(f'x: {x}')"
   ]
  },
  {
   "cell_type": "markdown",
   "id": "d113af94",
   "metadata": {},
   "source": [
    "#### ascii() : Returns a readable version of an object. Replaces none-ascii characters with escape character"
   ]
  },
  {
   "cell_type": "code",
   "execution_count": 5,
   "id": "93998555",
   "metadata": {},
   "outputs": [
    {
     "name": "stdout",
     "output_type": "stream",
     "text": [
      "x: 'My name is St\\xe5le'\n"
     ]
    }
   ],
   "source": [
    "# Syntax : ascii(object) object -> (String, List, Tuple, Dictionary)\n",
    "\n",
    "x = ascii(\"My name is Ståle\")\n",
    "\n",
    "print(f'x: {x}')"
   ]
  },
  {
   "cell_type": "code",
   "execution_count": 8,
   "id": "e06266f0",
   "metadata": {},
   "outputs": [
    {
     "name": "stdout",
     "output_type": "stream",
     "text": [
      "ascii : 'a'\n"
     ]
    }
   ],
   "source": [
    "y = 'a'\n",
    "print(f'ascii : {ascii(y)}')"
   ]
  },
  {
   "cell_type": "markdown",
   "id": "09e6c452",
   "metadata": {},
   "source": [
    "#### bin() : Returns the binary version of a number"
   ]
  },
  {
   "cell_type": "code",
   "execution_count": 9,
   "id": "65d0a8dd",
   "metadata": {},
   "outputs": [
    {
     "name": "stdout",
     "output_type": "stream",
     "text": [
      "x: 0b100100\n"
     ]
    }
   ],
   "source": [
    "# Syntax : bin(n)\n",
    "\n",
    "x = bin(36)\n",
    "\n",
    "print(f'x: {x}')\n",
    "#The result will always start with the prefix 0b."
   ]
  },
  {
   "cell_type": "markdown",
   "id": "112014d0",
   "metadata": {},
   "source": [
    "#### bool()\t: Returns the boolean value of the specified object"
   ]
  },
  {
   "cell_type": "code",
   "execution_count": 11,
   "id": "7bb4eea8",
   "metadata": {},
   "outputs": [
    {
     "name": "stdout",
     "output_type": "stream",
     "text": [
      "x: True\n",
      "bool(0): False\n",
      "bool(False): False\n",
      "bool(None): False\n",
      "bool([]): False\n"
     ]
    }
   ],
   "source": [
    "# Syntax : bool(object) object -> (String, List, Number etc..)\n",
    "\n",
    "x = bool(1)\n",
    "\n",
    "print(f'x: {x}')\n",
    "print(f'bool(0): {bool(0)}')\n",
    "print(f'bool(False): {bool(False)}')\n",
    "print(f'bool(None): {bool(None)}')\n",
    "print(f'bool([]): {bool([])}')"
   ]
  },
  {
   "cell_type": "markdown",
   "id": "65b63840",
   "metadata": {},
   "source": [
    "#### bytearray() : Returns an array of bytes"
   ]
  },
  {
   "cell_type": "code",
   "execution_count": null,
   "id": "6a1562bb",
   "metadata": {},
   "outputs": [],
   "source": []
  },
  {
   "cell_type": "markdown",
   "id": "a74153a7",
   "metadata": {},
   "source": [
    "# Type Conversion Functions"
   ]
  },
  {
   "cell_type": "markdown",
   "id": "52215d84",
   "metadata": {},
   "source": [
    "int(): Converts a value to an integer."
   ]
  },
  {
   "cell_type": "code",
   "execution_count": null,
   "id": "18476a19",
   "metadata": {},
   "outputs": [],
   "source": []
  },
  {
   "cell_type": "markdown",
   "id": "e2105781",
   "metadata": {},
   "source": [
    "float(): Converts a value to a floating-point number."
   ]
  },
  {
   "cell_type": "code",
   "execution_count": null,
   "id": "96b0800a",
   "metadata": {},
   "outputs": [],
   "source": []
  },
  {
   "cell_type": "markdown",
   "id": "6b1eb081",
   "metadata": {},
   "source": [
    "str(): Converts a value to a string."
   ]
  },
  {
   "cell_type": "code",
   "execution_count": null,
   "id": "8055ab65",
   "metadata": {},
   "outputs": [],
   "source": []
  },
  {
   "cell_type": "markdown",
   "id": "6056bf04",
   "metadata": {},
   "source": [
    "list(): Converts an iterable to a list."
   ]
  },
  {
   "cell_type": "code",
   "execution_count": null,
   "id": "a5573672",
   "metadata": {},
   "outputs": [],
   "source": []
  },
  {
   "cell_type": "markdown",
   "id": "acbd19a0",
   "metadata": {},
   "source": [
    "tuple(): Converts an iterable to a tuple."
   ]
  },
  {
   "cell_type": "code",
   "execution_count": null,
   "id": "b86d64c5",
   "metadata": {},
   "outputs": [],
   "source": []
  },
  {
   "cell_type": "markdown",
   "id": "812355f7",
   "metadata": {},
   "source": [
    "dict(): Converts an iterable of key-value pairs to a dictionary."
   ]
  },
  {
   "cell_type": "code",
   "execution_count": null,
   "id": "218c50f0",
   "metadata": {},
   "outputs": [],
   "source": []
  },
  {
   "cell_type": "markdown",
   "id": "c642314e",
   "metadata": {},
   "source": [
    "set(): Converts an iterable to a set."
   ]
  },
  {
   "cell_type": "code",
   "execution_count": null,
   "id": "f98b2b51",
   "metadata": {},
   "outputs": [],
   "source": []
  },
  {
   "cell_type": "markdown",
   "id": "40574d2e",
   "metadata": {},
   "source": [
    "bool()"
   ]
  },
  {
   "cell_type": "markdown",
   "id": "401380d2",
   "metadata": {},
   "source": [
    "# Math Functions:"
   ]
  },
  {
   "cell_type": "markdown",
   "id": "dd226e34",
   "metadata": {},
   "source": [
    "abs(): Returns the absolute value of a number."
   ]
  },
  {
   "cell_type": "code",
   "execution_count": null,
   "id": "8514fcb7",
   "metadata": {},
   "outputs": [],
   "source": []
  },
  {
   "cell_type": "markdown",
   "id": "52725916",
   "metadata": {},
   "source": [
    "max(): Returns the maximum value from an iterable.\n"
   ]
  },
  {
   "cell_type": "code",
   "execution_count": null,
   "id": "aa4723d7",
   "metadata": {},
   "outputs": [],
   "source": []
  },
  {
   "cell_type": "markdown",
   "id": "ff46357c",
   "metadata": {},
   "source": [
    "min(): Returns the minimum value from an iterable.\n"
   ]
  },
  {
   "cell_type": "code",
   "execution_count": null,
   "id": "c5bbe6f1",
   "metadata": {},
   "outputs": [],
   "source": []
  },
  {
   "cell_type": "markdown",
   "id": "6317f1c0",
   "metadata": {},
   "source": [
    "pow(): Raises a number to a specified power.\n"
   ]
  },
  {
   "cell_type": "code",
   "execution_count": null,
   "id": "55043530",
   "metadata": {},
   "outputs": [],
   "source": []
  },
  {
   "cell_type": "markdown",
   "id": "a2d62b07",
   "metadata": {},
   "source": [
    "round(): Rounds a floating-point number to a specified number of decimal places.\n"
   ]
  },
  {
   "cell_type": "code",
   "execution_count": null,
   "id": "7bb44de9",
   "metadata": {},
   "outputs": [],
   "source": []
  },
  {
   "cell_type": "markdown",
   "id": "28e4ad7e",
   "metadata": {},
   "source": [
    "sum()\n"
   ]
  },
  {
   "cell_type": "code",
   "execution_count": null,
   "id": "809ce3b6",
   "metadata": {},
   "outputs": [],
   "source": []
  },
  {
   "cell_type": "markdown",
   "id": "35026c65",
   "metadata": {},
   "source": [
    "divmod()\n"
   ]
  },
  {
   "cell_type": "code",
   "execution_count": null,
   "id": "8acd6198",
   "metadata": {},
   "outputs": [],
   "source": []
  },
  {
   "cell_type": "markdown",
   "id": "83eb3edd",
   "metadata": {},
   "source": [
    "math.sqrt()"
   ]
  },
  {
   "cell_type": "code",
   "execution_count": null,
   "id": "6e98f9df",
   "metadata": {},
   "outputs": [],
   "source": []
  },
  {
   "cell_type": "markdown",
   "id": "0d18afc1",
   "metadata": {},
   "source": [
    "# Sequence Functions:"
   ]
  },
  {
   "cell_type": "markdown",
   "id": "53a07daf",
   "metadata": {},
   "source": [
    "len(): Returns the length of a sequence (e.g., string, list, tuple).\n"
   ]
  },
  {
   "cell_type": "code",
   "execution_count": null,
   "id": "9d5e6ea4",
   "metadata": {},
   "outputs": [],
   "source": []
  },
  {
   "cell_type": "markdown",
   "id": "88ad0b4b",
   "metadata": {},
   "source": [
    "range(): Generates a sequence of numbers.\n"
   ]
  },
  {
   "cell_type": "code",
   "execution_count": null,
   "id": "d5016e09",
   "metadata": {},
   "outputs": [],
   "source": []
  },
  {
   "cell_type": "markdown",
   "id": "29209934",
   "metadata": {},
   "source": [
    "enumerate(): Returns an iterator of index-value pairs.\n"
   ]
  },
  {
   "cell_type": "code",
   "execution_count": null,
   "id": "c06fe435",
   "metadata": {},
   "outputs": [],
   "source": []
  },
  {
   "cell_type": "markdown",
   "id": "4a32e2be",
   "metadata": {},
   "source": [
    "zip(): Combines multiple iterables element-wise.\n"
   ]
  },
  {
   "cell_type": "code",
   "execution_count": null,
   "id": "073e63d9",
   "metadata": {},
   "outputs": [],
   "source": []
  },
  {
   "cell_type": "markdown",
   "id": "c6fa6080",
   "metadata": {},
   "source": [
    "sorted(): Returns a sorted version of a sequence.\n"
   ]
  },
  {
   "cell_type": "code",
   "execution_count": null,
   "id": "74e20ed7",
   "metadata": {},
   "outputs": [],
   "source": []
  },
  {
   "cell_type": "markdown",
   "id": "f0ed04a2",
   "metadata": {},
   "source": [
    "reversed()\n"
   ]
  },
  {
   "cell_type": "code",
   "execution_count": null,
   "id": "c876199b",
   "metadata": {},
   "outputs": [],
   "source": []
  },
  {
   "cell_type": "markdown",
   "id": "2dbfbf85",
   "metadata": {},
   "source": [
    "slice()\n"
   ]
  },
  {
   "cell_type": "markdown",
   "id": "273dc6d0",
   "metadata": {},
   "source": [
    "# Input/Output Functions:"
   ]
  },
  {
   "cell_type": "markdown",
   "id": "65033536",
   "metadata": {},
   "source": [
    "input(): Reads user input from the console.\n"
   ]
  },
  {
   "cell_type": "code",
   "execution_count": null,
   "id": "c74696c1",
   "metadata": {},
   "outputs": [],
   "source": []
  },
  {
   "cell_type": "markdown",
   "id": "1db4df83",
   "metadata": {},
   "source": [
    "print(): Outputs data to the console.\n"
   ]
  },
  {
   "cell_type": "code",
   "execution_count": null,
   "id": "ad4bcddf",
   "metadata": {},
   "outputs": [],
   "source": []
  },
  {
   "cell_type": "markdown",
   "id": "8f14d4d4",
   "metadata": {},
   "source": [
    "open()\n"
   ]
  },
  {
   "cell_type": "markdown",
   "id": "3a2e580b",
   "metadata": {},
   "source": [
    "# String Functions:"
   ]
  },
  {
   "cell_type": "markdown",
   "id": "8b203866",
   "metadata": {},
   "source": [
    "str.split(): Splits a string into a list of substrings.\n"
   ]
  },
  {
   "cell_type": "code",
   "execution_count": null,
   "id": "996167b4",
   "metadata": {},
   "outputs": [],
   "source": []
  },
  {
   "cell_type": "markdown",
   "id": "8df53a69",
   "metadata": {},
   "source": [
    "str.join(): Joins a list of strings into a single string.\n"
   ]
  },
  {
   "cell_type": "code",
   "execution_count": null,
   "id": "4328732f",
   "metadata": {},
   "outputs": [],
   "source": []
  },
  {
   "cell_type": "markdown",
   "id": "bcd859a7",
   "metadata": {},
   "source": [
    "str.upper(): Converts a string to uppercase.\n"
   ]
  },
  {
   "cell_type": "code",
   "execution_count": null,
   "id": "c00853ad",
   "metadata": {},
   "outputs": [],
   "source": []
  },
  {
   "cell_type": "markdown",
   "id": "75fdf367",
   "metadata": {},
   "source": [
    "str.lower(): Converts a string to lowercase.\n"
   ]
  },
  {
   "cell_type": "code",
   "execution_count": null,
   "id": "0c79f404",
   "metadata": {},
   "outputs": [],
   "source": []
  },
  {
   "cell_type": "markdown",
   "id": "58c452ed",
   "metadata": {},
   "source": [
    "str.strip(): Removes leading and trailing whitespace from a string.\n"
   ]
  },
  {
   "cell_type": "code",
   "execution_count": null,
   "id": "5466d7f7",
   "metadata": {},
   "outputs": [],
   "source": []
  },
  {
   "cell_type": "markdown",
   "id": "ba5f3c9d",
   "metadata": {},
   "source": [
    "str.replace(): Replaces substrings within a string.\n"
   ]
  },
  {
   "cell_type": "code",
   "execution_count": null,
   "id": "7f2da86c",
   "metadata": {},
   "outputs": [],
   "source": []
  },
  {
   "cell_type": "markdown",
   "id": "c1f88186",
   "metadata": {},
   "source": [
    "str.startswith()\n"
   ]
  },
  {
   "cell_type": "code",
   "execution_count": null,
   "id": "5683d69d",
   "metadata": {},
   "outputs": [],
   "source": []
  },
  {
   "cell_type": "markdown",
   "id": "cf1be162",
   "metadata": {},
   "source": [
    "str.endswith()\n"
   ]
  },
  {
   "cell_type": "markdown",
   "id": "6f900077",
   "metadata": {},
   "source": [
    "# List Functions:"
   ]
  },
  {
   "cell_type": "markdown",
   "id": "82fedb2b",
   "metadata": {},
   "source": [
    "list.append(): Adds an element to the end of a list.\n"
   ]
  },
  {
   "cell_type": "code",
   "execution_count": null,
   "id": "d1f90d12",
   "metadata": {},
   "outputs": [],
   "source": []
  },
  {
   "cell_type": "markdown",
   "id": "760de32a",
   "metadata": {},
   "source": [
    "list.extend(): Appends the elements of an iterable to a list.\n"
   ]
  },
  {
   "cell_type": "code",
   "execution_count": null,
   "id": "2a6ab6ae",
   "metadata": {},
   "outputs": [],
   "source": []
  },
  {
   "cell_type": "markdown",
   "id": "fddac96f",
   "metadata": {},
   "source": [
    "list.pop(): Removes and returns an element from a list.\n"
   ]
  },
  {
   "cell_type": "code",
   "execution_count": null,
   "id": "a0405fb9",
   "metadata": {},
   "outputs": [],
   "source": []
  },
  {
   "cell_type": "markdown",
   "id": "40eba38f",
   "metadata": {},
   "source": [
    "list.insert(): Inserts an element at a specified index.\n"
   ]
  },
  {
   "cell_type": "code",
   "execution_count": null,
   "id": "0e38aa0a",
   "metadata": {},
   "outputs": [],
   "source": []
  },
  {
   "cell_type": "markdown",
   "id": "939e3310",
   "metadata": {},
   "source": [
    "list.remove(): Removes the first occurrence of a specified value.\n"
   ]
  },
  {
   "cell_type": "code",
   "execution_count": null,
   "id": "9763b92d",
   "metadata": {},
   "outputs": [],
   "source": []
  },
  {
   "cell_type": "markdown",
   "id": "fcc3f8b3",
   "metadata": {},
   "source": [
    "list.index(): Returns the index of the first occurrence of a value.\n"
   ]
  },
  {
   "cell_type": "code",
   "execution_count": null,
   "id": "86eb4c99",
   "metadata": {},
   "outputs": [],
   "source": []
  },
  {
   "cell_type": "markdown",
   "id": "08042a0b",
   "metadata": {},
   "source": [
    "list.count()\n"
   ]
  },
  {
   "cell_type": "code",
   "execution_count": null,
   "id": "11d0b037",
   "metadata": {},
   "outputs": [],
   "source": []
  },
  {
   "cell_type": "markdown",
   "id": "28cdb319",
   "metadata": {},
   "source": [
    "list.sort()\n"
   ]
  },
  {
   "cell_type": "markdown",
   "id": "01b5e4f3",
   "metadata": {},
   "source": [
    "# Set Functions:"
   ]
  },
  {
   "cell_type": "markdown",
   "id": "3a0c1d65",
   "metadata": {},
   "source": [
    "set.add()"
   ]
  },
  {
   "cell_type": "code",
   "execution_count": null,
   "id": "cf9940a7",
   "metadata": {},
   "outputs": [],
   "source": []
  },
  {
   "cell_type": "markdown",
   "id": "39f885a0",
   "metadata": {},
   "source": [
    "set.update()"
   ]
  },
  {
   "cell_type": "code",
   "execution_count": null,
   "id": "47b919f2",
   "metadata": {},
   "outputs": [],
   "source": []
  },
  {
   "cell_type": "markdown",
   "id": "dd08d645",
   "metadata": {},
   "source": [
    "set.remove()"
   ]
  },
  {
   "cell_type": "code",
   "execution_count": null,
   "id": "1014c2a7",
   "metadata": {},
   "outputs": [],
   "source": []
  },
  {
   "cell_type": "markdown",
   "id": "2a91670f",
   "metadata": {},
   "source": [
    "set.discard()"
   ]
  },
  {
   "cell_type": "code",
   "execution_count": null,
   "id": "0ffa5a64",
   "metadata": {},
   "outputs": [],
   "source": []
  },
  {
   "cell_type": "markdown",
   "id": "5eebb915",
   "metadata": {},
   "source": [
    "set.pop()"
   ]
  },
  {
   "cell_type": "code",
   "execution_count": null,
   "id": "61bf9ce1",
   "metadata": {},
   "outputs": [],
   "source": []
  },
  {
   "cell_type": "markdown",
   "id": "23c989e9",
   "metadata": {},
   "source": [
    "set.clear()"
   ]
  },
  {
   "cell_type": "markdown",
   "id": "5075f3af",
   "metadata": {},
   "source": [
    "# Dictionary Functions:"
   ]
  },
  {
   "cell_type": "markdown",
   "id": "9b313ead",
   "metadata": {},
   "source": [
    "dict.keys()"
   ]
  },
  {
   "cell_type": "code",
   "execution_count": null,
   "id": "a9f89d36",
   "metadata": {},
   "outputs": [],
   "source": []
  },
  {
   "cell_type": "markdown",
   "id": "1cb3058f",
   "metadata": {},
   "source": [
    "dict.values()\n"
   ]
  },
  {
   "cell_type": "code",
   "execution_count": null,
   "id": "44b422b8",
   "metadata": {},
   "outputs": [],
   "source": []
  },
  {
   "cell_type": "markdown",
   "id": "7e93b067",
   "metadata": {},
   "source": [
    "dict.items()\n"
   ]
  },
  {
   "cell_type": "code",
   "execution_count": null,
   "id": "0d85f577",
   "metadata": {},
   "outputs": [],
   "source": []
  },
  {
   "cell_type": "markdown",
   "id": "2f79a1b0",
   "metadata": {},
   "source": [
    "dict.get()\n"
   ]
  },
  {
   "cell_type": "code",
   "execution_count": null,
   "id": "a3b47003",
   "metadata": {},
   "outputs": [],
   "source": []
  },
  {
   "cell_type": "markdown",
   "id": "cacc3930",
   "metadata": {},
   "source": [
    "dict.pop()\n"
   ]
  },
  {
   "cell_type": "code",
   "execution_count": null,
   "id": "deed2fbb",
   "metadata": {},
   "outputs": [],
   "source": []
  },
  {
   "cell_type": "markdown",
   "id": "77f57551",
   "metadata": {},
   "source": [
    "dict.popitem()\n"
   ]
  },
  {
   "cell_type": "code",
   "execution_count": null,
   "id": "1c78c4fc",
   "metadata": {},
   "outputs": [],
   "source": []
  },
  {
   "cell_type": "markdown",
   "id": "49a00b36",
   "metadata": {},
   "source": [
    "dict.update()\n"
   ]
  },
  {
   "cell_type": "markdown",
   "id": "9fdbca79",
   "metadata": {},
   "source": [
    "# Exception Handling:"
   ]
  },
  {
   "cell_type": "markdown",
   "id": "29b17ec4",
   "metadata": {},
   "source": [
    "try:, except:, finally:"
   ]
  },
  {
   "cell_type": "markdown",
   "id": "83eb209a",
   "metadata": {},
   "source": [
    "# Other Functions:"
   ]
  },
  {
   "cell_type": "markdown",
   "id": "29b3ba26",
   "metadata": {},
   "source": [
    "id(): Returns the unique identifier of an object."
   ]
  },
  {
   "cell_type": "code",
   "execution_count": null,
   "id": "23ccfb7e",
   "metadata": {},
   "outputs": [],
   "source": []
  },
  {
   "cell_type": "markdown",
   "id": "73a2b2bd",
   "metadata": {},
   "source": [
    "type(): Returns the type of an object."
   ]
  },
  {
   "cell_type": "code",
   "execution_count": null,
   "id": "cdacfbcc",
   "metadata": {},
   "outputs": [],
   "source": []
  },
  {
   "cell_type": "markdown",
   "id": "000878b8",
   "metadata": {},
   "source": [
    "help(): Displays help documentation for an object or function."
   ]
  },
  {
   "cell_type": "code",
   "execution_count": null,
   "id": "6f870ac5",
   "metadata": {},
   "outputs": [],
   "source": []
  },
  {
   "cell_type": "markdown",
   "id": "cfcd2cd0",
   "metadata": {},
   "source": [
    "len(): Returns the number of items in an object"
   ]
  },
  {
   "cell_type": "code",
   "execution_count": null,
   "id": "3fabeb2b",
   "metadata": {},
   "outputs": [],
   "source": []
  },
  {
   "cell_type": "markdown",
   "id": "f7fcfdae",
   "metadata": {},
   "source": []
  },
  {
   "cell_type": "code",
   "execution_count": null,
   "id": "462764e7",
   "metadata": {},
   "outputs": [],
   "source": []
  },
  {
   "cell_type": "markdown",
   "id": "fe0a46d9",
   "metadata": {},
   "source": []
  },
  {
   "cell_type": "code",
   "execution_count": null,
   "id": "40a83a0a",
   "metadata": {},
   "outputs": [],
   "source": []
  },
  {
   "cell_type": "markdown",
   "id": "2737903e",
   "metadata": {},
   "source": []
  },
  {
   "cell_type": "code",
   "execution_count": null,
   "id": "48a32a5d",
   "metadata": {},
   "outputs": [],
   "source": []
  },
  {
   "cell_type": "markdown",
   "id": "17095427",
   "metadata": {},
   "source": []
  },
  {
   "cell_type": "code",
   "execution_count": null,
   "id": "ee59fb98",
   "metadata": {},
   "outputs": [],
   "source": []
  }
 ],
 "metadata": {
  "kernelspec": {
   "display_name": "Python 3 (ipykernel)",
   "language": "python",
   "name": "python3"
  },
  "language_info": {
   "codemirror_mode": {
    "name": "ipython",
    "version": 3
   },
   "file_extension": ".py",
   "mimetype": "text/x-python",
   "name": "python",
   "nbconvert_exporter": "python",
   "pygments_lexer": "ipython3",
   "version": "3.10.9"
  }
 },
 "nbformat": 4,
 "nbformat_minor": 5
}
