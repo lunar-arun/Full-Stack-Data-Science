{
 "cells": [
  {
   "cell_type": "markdown",
   "id": "22072b26",
   "metadata": {},
   "source": [
    "#### abs()\t: Returns the absolute value of a number"
   ]
  },
  {
   "cell_type": "code",
   "execution_count": 2,
   "id": "57bcf521",
   "metadata": {},
   "outputs": [
    {
     "name": "stdout",
     "output_type": "stream",
     "text": [
      "x: 9.12\n"
     ]
    }
   ],
   "source": [
    "#Syntax : abs(n)\n",
    "\n",
    "x = abs(-9.12)\n",
    "print(f'x: {x}')"
   ]
  },
  {
   "cell_type": "markdown",
   "id": "ae8a15a9",
   "metadata": {},
   "source": [
    "#### all() : Returns True if all items in an iterable object are true"
   ]
  },
  {
   "cell_type": "code",
   "execution_count": 3,
   "id": "89780285",
   "metadata": {},
   "outputs": [
    {
     "name": "stdout",
     "output_type": "stream",
     "text": [
      "x: True\n"
     ]
    }
   ],
   "source": [
    "# Syntax : all(iterable) iterable -> (list, tuple, dictionary)\n",
    "\n",
    "mylist = [True, True, True]\n",
    "x = all(mylist)\n",
    "\n",
    "print(f'x: {x}')"
   ]
  },
  {
   "cell_type": "markdown",
   "id": "dabd806f",
   "metadata": {},
   "source": [
    "#### any()\t: Returns True if any item in an iterable object is true "
   ]
  },
  {
   "cell_type": "code",
   "execution_count": 4,
   "id": "ce01e05b",
   "metadata": {},
   "outputs": [
    {
     "name": "stdout",
     "output_type": "stream",
     "text": [
      "x: True\n"
     ]
    }
   ],
   "source": [
    "# Syntax : any(iterable) iterable -> (list, tuple, dictionary)\n",
    "\n",
    "mylist = [False, True, False]\n",
    "x = any(mylist)\n",
    "\n",
    "print(f'x: {x}')"
   ]
  },
  {
   "cell_type": "markdown",
   "id": "d113af94",
   "metadata": {},
   "source": [
    "#### ascii() : Returns a readable version of an object. Replaces none-ascii characters with escape character"
   ]
  },
  {
   "cell_type": "code",
   "execution_count": 5,
   "id": "93998555",
   "metadata": {},
   "outputs": [
    {
     "name": "stdout",
     "output_type": "stream",
     "text": [
      "x: 'My name is St\\xe5le'\n"
     ]
    }
   ],
   "source": [
    "# Syntax : ascii(object) object -> (String, List, Tuple, Dictionary)\n",
    "\n",
    "x = ascii(\"My name is Ståle\")\n",
    "\n",
    "print(f'x: {x}')"
   ]
  },
  {
   "cell_type": "code",
   "execution_count": 8,
   "id": "e06266f0",
   "metadata": {},
   "outputs": [
    {
     "name": "stdout",
     "output_type": "stream",
     "text": [
      "ascii : 'a'\n"
     ]
    }
   ],
   "source": [
    "y = 'a'\n",
    "print(f'ascii : {ascii(y)}')"
   ]
  },
  {
   "cell_type": "markdown",
   "id": "09e6c452",
   "metadata": {},
   "source": [
    "#### bin() : Returns the binary version of a number"
   ]
  },
  {
   "cell_type": "code",
   "execution_count": 9,
   "id": "65d0a8dd",
   "metadata": {},
   "outputs": [
    {
     "name": "stdout",
     "output_type": "stream",
     "text": [
      "x: 0b100100\n"
     ]
    }
   ],
   "source": [
    "# Syntax : bin(n)\n",
    "\n",
    "x = bin(36)\n",
    "\n",
    "print(f'x: {x}')\n",
    "#The result will always start with the prefix 0b."
   ]
  },
  {
   "cell_type": "markdown",
   "id": "112014d0",
   "metadata": {},
   "source": [
    "#### bool()\t: Returns the boolean value of the specified object"
   ]
  },
  {
   "cell_type": "code",
   "execution_count": 11,
   "id": "7bb4eea8",
   "metadata": {},
   "outputs": [
    {
     "name": "stdout",
     "output_type": "stream",
     "text": [
      "x: True\n",
      "bool(0): False\n",
      "bool(False): False\n",
      "bool(None): False\n",
      "bool([]): False\n"
     ]
    }
   ],
   "source": [
    "# Syntax : bool(object) object -> (String, List, Number etc..)\n",
    "\n",
    "x = bool(1)\n",
    "\n",
    "print(f'x: {x}')\n",
    "print(f'bool(0): {bool(0)}')\n",
    "print(f'bool(False): {bool(False)}')\n",
    "print(f'bool(None): {bool(None)}')\n",
    "print(f'bool([]): {bool([])}')"
   ]
  },
  {
   "cell_type": "markdown",
   "id": "65b63840",
   "metadata": {},
   "source": [
    "#### bytearray() : Returns an array of bytes"
   ]
  },
  {
   "cell_type": "code",
   "execution_count": null,
   "id": "6a1562bb",
   "metadata": {},
   "outputs": [],
   "source": []
  }
 ],
 "metadata": {
  "kernelspec": {
   "display_name": "Python 3 (ipykernel)",
   "language": "python",
   "name": "python3"
  },
  "language_info": {
   "codemirror_mode": {
    "name": "ipython",
    "version": 3
   },
   "file_extension": ".py",
   "mimetype": "text/x-python",
   "name": "python",
   "nbconvert_exporter": "python",
   "pygments_lexer": "ipython3",
   "version": "3.10.9"
  }
 },
 "nbformat": 4,
 "nbformat_minor": 5
}
