{
 "cells": [
  {
   "cell_type": "markdown",
   "id": "db321348",
   "metadata": {},
   "source": [
    "# Variables \n",
    "### containers for storing data values."
   ]
  },
  {
   "cell_type": "code",
   "execution_count": 1,
   "id": "80e7452b",
   "metadata": {},
   "outputs": [
    {
     "name": "stdout",
     "output_type": "stream",
     "text": [
      "python\n"
     ]
    }
   ],
   "source": [
    "var = 'python'\n",
    "print(var)"
   ]
  },
  {
   "cell_type": "markdown",
   "id": "d38adbee",
   "metadata": {},
   "source": [
    "    No data type declaration\n",
    "    \n",
    "    It explictly understand what data type."
   ]
  },
  {
   "cell_type": "markdown",
   "id": "430b52f5",
   "metadata": {},
   "source": [
    "# Variable Names"
   ]
  },
  {
   "cell_type": "markdown",
   "id": "822219af",
   "metadata": {},
   "source": [
    "    A variable name must start with a letter or the underscore character\n",
    "    \n",
    "    A variable name cannot start with a number\n",
    "    \n",
    "    A variable name can only contain alpha-numeric characters and underscores (A-z, 0-9, and _ )\n",
    "    \n",
    "    Variable names are case-sensitive (age, Age and AGE are three different variables)\n",
    "    \n",
    "    A variable name cannot be any of the Python keywords.\n",
    "    \n",
    "       ['False', 'None', 'True', 'and', 'as', 'assert', 'async', 'await', 'break', 'class', 'continue', 'def', 'del', 'elif', 'else', 'except', 'finally', 'for', 'from', 'global', 'if', 'import', 'in', 'is', 'lambda', 'nonlocal', 'not', 'or', 'pass', 'raise', 'return', 'try', 'while', 'with', 'yield']"
   ]
  },
  {
   "cell_type": "code",
   "execution_count": 2,
   "id": "ca0282ab",
   "metadata": {},
   "outputs": [],
   "source": [
    "_var = 'basic python'"
   ]
  },
  {
   "cell_type": "code",
   "execution_count": 3,
   "id": "ffa13682",
   "metadata": {},
   "outputs": [
    {
     "ename": "SyntaxError",
     "evalue": "invalid decimal literal (602132074.py, line 1)",
     "output_type": "error",
     "traceback": [
      "\u001b[1;36m  Cell \u001b[1;32mIn[3], line 1\u001b[1;36m\u001b[0m\n\u001b[1;33m    2var = 4\u001b[0m\n\u001b[1;37m    ^\u001b[0m\n\u001b[1;31mSyntaxError\u001b[0m\u001b[1;31m:\u001b[0m invalid decimal literal\n"
     ]
    }
   ],
   "source": [
    "2var = 4"
   ]
  },
  {
   "cell_type": "code",
   "execution_count": 4,
   "id": "065e6fc7",
   "metadata": {},
   "outputs": [
    {
     "name": "stdout",
     "output_type": "stream",
     "text": [
      "var = python\n",
      "Var = python is easy\n"
     ]
    }
   ],
   "source": [
    "Var = 'python is easy'\n",
    "print(f'var = {var}')\n",
    "print(f'Var = {Var}')"
   ]
  },
  {
   "cell_type": "code",
   "execution_count": null,
   "id": "3989d2e6",
   "metadata": {},
   "outputs": [],
   "source": []
  }
 ],
 "metadata": {
  "kernelspec": {
   "display_name": "Python 3 (ipykernel)",
   "language": "python",
   "name": "python3"
  },
  "language_info": {
   "codemirror_mode": {
    "name": "ipython",
    "version": 3
   },
   "file_extension": ".py",
   "mimetype": "text/x-python",
   "name": "python",
   "nbconvert_exporter": "python",
   "pygments_lexer": "ipython3",
   "version": "3.10.9"
  }
 },
 "nbformat": 4,
 "nbformat_minor": 5
}
