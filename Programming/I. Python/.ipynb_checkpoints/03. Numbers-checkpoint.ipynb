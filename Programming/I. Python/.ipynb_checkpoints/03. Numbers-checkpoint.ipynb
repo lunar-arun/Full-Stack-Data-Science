{
 "cells": [
  {
   "cell_type": "markdown",
   "id": "9f3b963a",
   "metadata": {},
   "source": [
    "# Python Numbers\n",
    "    \n",
    "     three numeric types\n",
    "     * int\n",
    "     * float\n",
    "     * complex"
   ]
  },
  {
   "cell_type": "code",
   "execution_count": 1,
   "id": "9644c164",
   "metadata": {},
   "outputs": [
    {
     "name": "stdout",
     "output_type": "stream",
     "text": [
      "a = <class 'int'>\n",
      "b = <class 'float'>\n",
      "c = <class 'complex'>\n"
     ]
    }
   ],
   "source": [
    "a = 1 \n",
    "print(f'a = {type(a)}')\n",
    "b = 1.2\n",
    "print(f'b = {type(b)}')\n",
    "c = 3j\n",
    "print(f'c = {type(c)}')"
   ]
  },
  {
   "cell_type": "markdown",
   "id": "5e63ef02",
   "metadata": {},
   "source": [
    "### Int or Interger\n",
    "\n",
    "    Its postive or negative whole number without decimals."
   ]
  },
  {
   "cell_type": "markdown",
   "id": "875c94c6",
   "metadata": {},
   "source": [
    "### Float\n",
    "\n",
    "    Its postive or negative floating point number."
   ]
  },
  {
   "cell_type": "markdown",
   "id": "7f484bcc",
   "metadata": {},
   "source": [
    "### Complex\n",
    "    \n",
    "    Complex numbers are written with a \"j\" as the imaginary part."
   ]
  },
  {
   "cell_type": "code",
   "execution_count": null,
   "id": "3563f9c7",
   "metadata": {},
   "outputs": [],
   "source": []
  }
 ],
 "metadata": {
  "kernelspec": {
   "display_name": "Python 3 (ipykernel)",
   "language": "python",
   "name": "python3"
  },
  "language_info": {
   "codemirror_mode": {
    "name": "ipython",
    "version": 3
   },
   "file_extension": ".py",
   "mimetype": "text/x-python",
   "name": "python",
   "nbconvert_exporter": "python",
   "pygments_lexer": "ipython3",
   "version": "3.10.9"
  }
 },
 "nbformat": 4,
 "nbformat_minor": 5
}
