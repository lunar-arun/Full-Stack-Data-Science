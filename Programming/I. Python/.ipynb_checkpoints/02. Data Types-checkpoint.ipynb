{
 "cells": [
  {
   "cell_type": "markdown",
   "id": "ae5a5acc",
   "metadata": {},
   "source": [
    "# Data Types"
   ]
  },
  {
   "cell_type": "markdown",
   "id": "4fe3af31",
   "metadata": {},
   "source": [
    "    Text Type:\tstr\n",
    "    Numeric Types:\tint, float, complex\n",
    "    Sequence Types:\tlist, tuple, range\n",
    "    Mapping Type:\tdict\n",
    "    Set Types:\tset, frozenset\n",
    "    Boolean Type:\tbool\n",
    "    Binary Types:\tbytes, bytearray, memoryview\n",
    "    None Type:\tNoneType"
   ]
  },
  {
   "cell_type": "code",
   "execution_count": 1,
   "id": "fc49a53c",
   "metadata": {},
   "outputs": [
    {
     "name": "stdout",
     "output_type": "stream",
     "text": [
      "<class 'str'>\n"
     ]
    }
   ],
   "source": [
    "# Getting the Data Type\n",
    "\n",
    "var = 'python'\n",
    "print(type(var))"
   ]
  },
  {
   "cell_type": "markdown",
   "id": "32c16e3c",
   "metadata": {},
   "source": [
    "##  Casting\n",
    "\n",
    "    Want to specify the data type of a variable."
   ]
  },
  {
   "cell_type": "code",
   "execution_count": 2,
   "id": "67579fc9",
   "metadata": {},
   "outputs": [
    {
     "name": "stdout",
     "output_type": "stream",
     "text": [
      "<class 'str'>\n"
     ]
    }
   ],
   "source": [
    "# want to store 32 as string in variable name x.\n",
    "\n",
    "x = str(32)\n",
    "print(type(x))"
   ]
  },
  {
   "cell_type": "code",
   "execution_count": null,
   "id": "12de7945",
   "metadata": {},
   "outputs": [],
   "source": []
  }
 ],
 "metadata": {
  "kernelspec": {
   "display_name": "Python 3 (ipykernel)",
   "language": "python",
   "name": "python3"
  },
  "language_info": {
   "codemirror_mode": {
    "name": "ipython",
    "version": 3
   },
   "file_extension": ".py",
   "mimetype": "text/x-python",
   "name": "python",
   "nbconvert_exporter": "python",
   "pygments_lexer": "ipython3",
   "version": "3.10.9"
  }
 },
 "nbformat": 4,
 "nbformat_minor": 5
}
