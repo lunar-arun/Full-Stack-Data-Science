{
 "cells": [
  {
   "cell_type": "markdown",
   "id": "ae5a5acc",
   "metadata": {},
   "source": [
    "# Data Types"
   ]
  },
  {
   "cell_type": "markdown",
   "id": "e64a9bef",
   "metadata": {},
   "source": [
    "    Numeric Types:\n",
    "        int : Represents whole numbers [4 bytes (32 bits) or 8 bytes (64 bits)]\n",
    "        float : Represents decimal numbers [8 bytes (64 bits)]\n",
    "    Text Type:\n",
    "        str : Represents sequences of characters.\n",
    "    Sequence Types:\n",
    "        list : Represents ordered, mutable sequences\n",
    "        tuple : Represents ordered, immutable sequences.\n",
    "    Mapping Type:\n",
    "        dict : Represents unordered collections of key-value pairs.\n",
    "    Set Types:\n",
    "        set : Represents an unordered collection of unique elements.\n",
    "        frozenset : Similar to a set but immutable.\n",
    "    Boolean Type:\n",
    "        bool : Represents either True or False.\n",
    "    Binary Types:\n",
    "        bytes : Represents a sequence of bytes (immutable).\n",
    "        bytearray : Represents a mutable sequence of bytes.\n",
    "    None Type:\n",
    "        NoneType : Represents the absence of a value."
   ]
  },
  {
   "cell_type": "markdown",
   "id": "9d05b060",
   "metadata": {},
   "source": [
    "# Type Casting\n",
    "     The process of converting a value from one data type to another."
   ]
  },
  {
   "cell_type": "markdown",
   "id": "9b1ffca8",
   "metadata": {},
   "source": [
    "    Implicit Type Casting (Coercion):\n",
    "        In this Python automatically performed type casting when operations are  between two different data types."
   ]
  },
  {
   "cell_type": "code",
   "execution_count": 5,
   "id": "b55c1e46",
   "metadata": {},
   "outputs": [
    {
     "data": {
      "text/plain": [
       "8.0"
      ]
     },
     "execution_count": 5,
     "metadata": {},
     "output_type": "execute_result"
    }
   ],
   "source": [
    "x = 5\n",
    "y = 3.0\n",
    "result = x + y\n",
    "result"
   ]
  },
  {
   "cell_type": "markdown",
   "id": "6811f954",
   "metadata": {},
   "source": [
    "    Explicit Type Casting (Conversion):\n",
    "        It requires the use of built-in functions to convert one data type to another. "
   ]
  },
  {
   "cell_type": "code",
   "execution_count": 6,
   "id": "3758b184",
   "metadata": {},
   "outputs": [
    {
     "data": {
      "text/plain": [
       "15"
      ]
     },
     "execution_count": 6,
     "metadata": {},
     "output_type": "execute_result"
    }
   ],
   "source": [
    "x = 5\n",
    "y = \"10\"\n",
    "result = x + int(y)\n",
    "result"
   ]
  },
  {
   "cell_type": "markdown",
   "id": "8ebb1581",
   "metadata": {},
   "source": [
    "    User-Defined Type Casting:\n",
    "        Define your own custom type casting functions or methods, especially when working with custom classes or data structures."
   ]
  },
  {
   "cell_type": "code",
   "execution_count": 7,
   "id": "ce3be8e0",
   "metadata": {},
   "outputs": [
    {
     "data": {
      "text/plain": [
       "42"
      ]
     },
     "execution_count": 7,
     "metadata": {},
     "output_type": "execute_result"
    }
   ],
   "source": [
    "class MyCustomType:\n",
    "    def __init__(self, value):\n",
    "        self.value = value\n",
    "\n",
    "    def to_int(self):\n",
    "        return int(self.value)\n",
    "\n",
    "obj = MyCustomType(\"42\")\n",
    "integer_value = obj.to_int()\n",
    "integer_value"
   ]
  },
  {
   "cell_type": "markdown",
   "id": "eace6cbf",
   "metadata": {},
   "source": [
    "    Safe Type Casting (Exception Handling):\n",
    "        try-except blocks for error handling to prevent exceptions."
   ]
  },
  {
   "cell_type": "code",
   "execution_count": 8,
   "id": "b892166f",
   "metadata": {},
   "outputs": [
    {
     "name": "stdout",
     "output_type": "stream",
     "text": [
      "Invalid input. Could not convert to an integer.\n"
     ]
    }
   ],
   "source": [
    "user_input = \"abc\"\n",
    "try:\n",
    "    num = int(user_input)\n",
    "except ValueError:\n",
    "    print(\"Invalid input. Could not convert to an integer.\")"
   ]
  }
 ],
 "metadata": {
  "kernelspec": {
   "display_name": "Python 3 (ipykernel)",
   "language": "python",
   "name": "python3"
  },
  "language_info": {
   "codemirror_mode": {
    "name": "ipython",
    "version": 3
   },
   "file_extension": ".py",
   "mimetype": "text/x-python",
   "name": "python",
   "nbconvert_exporter": "python",
   "pygments_lexer": "ipython3",
   "version": "3.11.5"
  },
  "toc": {
   "base_numbering": 1,
   "nav_menu": {},
   "number_sections": true,
   "sideBar": true,
   "skip_h1_title": false,
   "title_cell": "Table of Contents",
   "title_sidebar": "Contents",
   "toc_cell": false,
   "toc_position": {},
   "toc_section_display": true,
   "toc_window_display": false
  },
  "varInspector": {
   "cols": {
    "lenName": 16,
    "lenType": 16,
    "lenVar": 40
   },
   "kernels_config": {
    "python": {
     "delete_cmd_postfix": "",
     "delete_cmd_prefix": "del ",
     "library": "var_list.py",
     "varRefreshCmd": "print(var_dic_list())"
    },
    "r": {
     "delete_cmd_postfix": ") ",
     "delete_cmd_prefix": "rm(",
     "library": "var_list.r",
     "varRefreshCmd": "cat(var_dic_list()) "
    }
   },
   "types_to_exclude": [
    "module",
    "function",
    "builtin_function_or_method",
    "instance",
    "_Feature"
   ],
   "window_display": false
  }
 },
 "nbformat": 4,
 "nbformat_minor": 5
}
