{
 "cells": [
  {
   "cell_type": "markdown",
   "id": "05b9ee6a",
   "metadata": {},
   "source": [
    "Python is a very popular general-purpose interpreted, interactive, object-oriented, and high-level programming language. \n",
    "\n",
    "Python is dynamically-typed and garbage-collected programming language.\n",
    "\n",
    "Python is processed at runtime by the interpreter. You do not need to compile your program before executing it."
   ]
  },
  {
   "cell_type": "code",
   "execution_count": 1,
   "id": "e9c06aba",
   "metadata": {},
   "outputs": [
    {
     "name": "stdout",
     "output_type": "stream",
     "text": [
      "Python is powerfull language\n"
     ]
    }
   ],
   "source": [
    "# Easy as asking the complier to print the following statement.\n",
    "print('Python is powerfull language')"
   ]
  },
  {
   "cell_type": "code",
   "execution_count": null,
   "id": "51a67a0d",
   "metadata": {},
   "outputs": [],
   "source": [
    "Python Identifiers\n",
    "\n",
    "Its  a name used to identify a variable, function, class, module or other object."
   ]
  }
 ],
 "metadata": {
  "kernelspec": {
   "display_name": "Python 3 (ipykernel)",
   "language": "python",
   "name": "python3"
  },
  "language_info": {
   "codemirror_mode": {
    "name": "ipython",
    "version": 3
   },
   "file_extension": ".py",
   "mimetype": "text/x-python",
   "name": "python",
   "nbconvert_exporter": "python",
   "pygments_lexer": "ipython3",
   "version": "3.10.9"
  }
 },
 "nbformat": 4,
 "nbformat_minor": 5
}
