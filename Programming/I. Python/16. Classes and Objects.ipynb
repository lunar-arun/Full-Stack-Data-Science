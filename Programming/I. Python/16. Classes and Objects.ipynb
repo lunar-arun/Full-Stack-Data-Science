{
 "cells": [
  {
   "cell_type": "code",
   "execution_count": null,
   "id": "87d7acff",
   "metadata": {},
   "outputs": [],
   "source": [
    "Python Classes/Objects\n",
    "    Python is an object oriented programming language.\n",
    "\n",
    "    Almost everything in Python is an object, with its properties and methods.\n",
    "\n",
    "    A Class is like an object constructor, or a \"blueprint\" for creating objects."
   ]
  }
 ],
 "metadata": {
  "kernelspec": {
   "display_name": "Python 3 (ipykernel)",
   "language": "python",
   "name": "python3"
  },
  "language_info": {
   "codemirror_mode": {
    "name": "ipython",
    "version": 3
   },
   "file_extension": ".py",
   "mimetype": "text/x-python",
   "name": "python",
   "nbconvert_exporter": "python",
   "pygments_lexer": "ipython3",
   "version": "3.10.9"
  }
 },
 "nbformat": 4,
 "nbformat_minor": 5
}
