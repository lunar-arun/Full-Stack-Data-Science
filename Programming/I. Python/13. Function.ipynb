{
 "cells": [
  {
   "cell_type": "markdown",
   "id": "6308b202",
   "metadata": {},
   "source": [
    "Function\n",
    "\n",
    "    Its is a block of code which only runs when it is called.\n",
    "\n",
    "    You can pass data, known as parameters, into a function.\n",
    "\n",
    "    A function can return data as a result.\n",
    "    \n",
    "    Types of function\n",
    "    \n",
    "        Standard library functions - These are built-in functions in Python that are available to use.\n",
    "        User-defined functions - We can create our own functions based on our requirements.\n",
    "    \n",
    "    Syntax : \n",
    "        def function_name(arguments):\n",
    "            # function body \n",
    "\n",
    "            return"
   ]
  },
  {
   "cell_type": "code",
   "execution_count": 1,
   "id": "72d0206d",
   "metadata": {},
   "outputs": [
    {
     "name": "stdout",
     "output_type": "stream",
     "text": [
      "You are inside the function body!\n"
     ]
    }
   ],
   "source": [
    "def function_name():\n",
    "    print('You are inside the function body!')\n",
    "    \n",
    "function_name()# this the function call"
   ]
  },
  {
   "cell_type": "markdown",
   "id": "36ea290b",
   "metadata": {},
   "source": [
    "    def - keyword used to declare a function\n",
    "    function_name - any name given to the function\n",
    "    arguments - any value passed to function\n",
    "    return (optional) - returns value from a function"
   ]
  },
  {
   "cell_type": "code",
   "execution_count": 2,
   "id": "bec30568",
   "metadata": {},
   "outputs": [
    {
     "name": "stdout",
     "output_type": "stream",
     "text": [
      "Sum:  4\n"
     ]
    }
   ],
   "source": [
    "# function with two arguments\n",
    "def add_numbers(num1, num2):\n",
    "    sum = num1 + num2\n",
    "    print('Sum: ',sum)\n",
    "    \n",
    "add_numbers(1,3)"
   ]
  },
  {
   "cell_type": "code",
   "execution_count": 4,
   "id": "562086e7",
   "metadata": {},
   "outputs": [
    {
     "name": "stdout",
     "output_type": "stream",
     "text": [
      "Sum:  4\n"
     ]
    }
   ],
   "source": [
    "# function with two arguments with return\n",
    "def add_numbers(num1, num2):\n",
    "    sum = num1 + num2\n",
    "    \n",
    "    return sum # at the time of return you need to capture the value.\n",
    "    \n",
    "return_value_sum = add_numbers(1,3)# I call the function and get the value in the variable.\n",
    "print('Sum: ', return_value_sum)"
   ]
  },
  {
   "cell_type": "markdown",
   "id": "81485f02",
   "metadata": {},
   "source": [
    "# Benefits of Using Functions\n",
    "\n",
    "    1. Code Reusable - We can use the same function multiple times in our program which makes our code reusable.\n",
    "    \n",
    "    2. Code Readability - Functions help us break our code into chunks to make our program readable and easy to understand."
   ]
  },
  {
   "cell_type": "code",
   "execution_count": null,
   "id": "c6caa034",
   "metadata": {},
   "outputs": [],
   "source": []
  }
 ],
 "metadata": {
  "kernelspec": {
   "display_name": "Python 3 (ipykernel)",
   "language": "python",
   "name": "python3"
  },
  "language_info": {
   "codemirror_mode": {
    "name": "ipython",
    "version": 3
   },
   "file_extension": ".py",
   "mimetype": "text/x-python",
   "name": "python",
   "nbconvert_exporter": "python",
   "pygments_lexer": "ipython3",
   "version": "3.10.9"
  }
 },
 "nbformat": 4,
 "nbformat_minor": 5
}
