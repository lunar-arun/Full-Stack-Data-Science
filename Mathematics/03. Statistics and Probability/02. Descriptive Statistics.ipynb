{
 "cells": [
  {
   "cell_type": "markdown",
   "id": "66051ef1",
   "metadata": {},
   "source": [
    "    Descriptive statistics is a branch of statistics that involves the use of various numerical and graphical techniques to summarize and describe the main features of a dataset. It provides a concise and informative summary of the data, helping you understand its central tendencies, variability, and distribution.\n",
    "    \n",
    "    1. Measure of Central Tendency : \n",
    "        Mean\n",
    "        Median\n",
    "        Mode\n",
    "    2. Measures of Dispersion:\n",
    "        Range\n",
    "        Variance\n",
    "        Standard Deviation\n",
    "    3. Measure of  Distribution Shape:\n",
    "        Skewness\n",
    "        Kurtosis"
   ]
  },
  {
   "cell_type": "markdown",
   "id": "ed16a7aa",
   "metadata": {},
   "source": [
    "### Measure of Central Tendency"
   ]
  },
  {
   "cell_type": "markdown",
   "id": "8600113d",
   "metadata": {},
   "source": [
    "    Mean (Average): \n",
    "        The arithmetic mean is calculated by summing all data points and dividing by the total number of data points.\n",
    "    \n",
    "```python\n",
    "import numpy as np\n",
    "\n",
    "data = np.array([10, 20, 30, 40, 50])\n",
    "mean = np.mean(data)\n",
    "print(\"Mean:\", mean)\n",
    "\n",
    "Output : Mean: 30.0\n",
    "```\n",
    "---"
   ]
  },
  {
   "cell_type": "markdown",
   "id": "00a4ce52",
   "metadata": {},
   "source": [
    "    Median (Middle Value): \n",
    "        The median is the middle value when the data is sorted. If there is an even number of data points, it's the average of the two middle values.\n",
    "    \n",
    "```python\n",
    "import numpy as np\n",
    "\n",
    "data = np.array([10, 20, 30, 40, 50])\n",
    "median = np.median(data)\n",
    "print(\"Median:\", median)\n",
    "\n",
    "Output : Median: 30.0\n",
    "```  \n",
    "---"
   ]
  },
  {
   "cell_type": "markdown",
   "id": "e8dd7bf7",
   "metadata": {},
   "source": [
    "    Mode (Most Frequent Value): \n",
    "        The mode is the value that appears most frequently in the dataset.\n",
    "    \n",
    "```python\n",
    "from scipy import stats\n",
    "import warnings\n",
    "warnings.filterwarnings('ignore')\n",
    "\n",
    "data = [10, 20, 30, 30, 40, 50, 50]\n",
    "mode = stats.mode(data)\n",
    "print(\"Mode:\", mode.mode[0])\n",
    "\n",
    "Output : Mode: 30\n",
    "``` \n",
    "---"
   ]
  },
  {
   "cell_type": "markdown",
   "id": "682199e8",
   "metadata": {},
   "source": [
    "### Measures of Dispersion"
   ]
  },
  {
   "cell_type": "markdown",
   "id": "e044e96c",
   "metadata": {},
   "source": [
    "    Range: \n",
    "        The range is the difference between the maximum and minimum values in the dataset.\n",
    "\n",
    "```python\n",
    "import numpy as np\n",
    "\n",
    "data = np.array([10, 20, 30, 40, 50])\n",
    "data_range = np.ptp(data)\n",
    "print(\"Range:\", data_range)\n",
    "\n",
    "Output : Range: 40\n",
    "```\n",
    "---"
   ]
  },
  {
   "cell_type": "markdown",
   "id": "53a5aa5b",
   "metadata": {},
   "source": [
    "    Variance: \n",
    "        measures how data points deviate from the mean. It's the average of the squared differences from the mean.\n",
    "    \n",
    "```python\n",
    "import numpy as np\n",
    "\n",
    "data = np.array([10, 20, 30, 40, 50])\n",
    "variance = np.var(data)\n",
    "print(\"Variance:\", variance)\n",
    "\n",
    "Output : Variance: 200.0\n",
    "```\n",
    "---"
   ]
  },
  {
   "cell_type": "markdown",
   "id": "58538d75",
   "metadata": {},
   "source": [
    "    Standard Deviation: \n",
    "        It's the square root of the variance. It represents the average distance between data points and the mean.\n",
    "    \n",
    "```python\n",
    "import numpy as np\n",
    "\n",
    "data = np.array([10, 20, 30, 40, 50])\n",
    "std_deviation = np.std(data)\n",
    "print(\"Standard Deviation:\", std_deviation)\n",
    "\n",
    "Output : Standard Deviation: 14.142135623730951\n",
    "```"
   ]
  }
 ],
 "metadata": {
  "kernelspec": {
   "display_name": "Python 3 (ipykernel)",
   "language": "python",
   "name": "python3"
  },
  "language_info": {
   "codemirror_mode": {
    "name": "ipython",
    "version": 3
   },
   "file_extension": ".py",
   "mimetype": "text/x-python",
   "name": "python",
   "nbconvert_exporter": "python",
   "pygments_lexer": "ipython3",
   "version": "3.11.5"
  },
  "toc": {
   "base_numbering": 1,
   "nav_menu": {},
   "number_sections": true,
   "sideBar": true,
   "skip_h1_title": false,
   "title_cell": "Table of Contents",
   "title_sidebar": "Contents",
   "toc_cell": false,
   "toc_position": {},
   "toc_section_display": true,
   "toc_window_display": false
  },
  "varInspector": {
   "cols": {
    "lenName": 16,
    "lenType": 16,
    "lenVar": 40
   },
   "kernels_config": {
    "python": {
     "delete_cmd_postfix": "",
     "delete_cmd_prefix": "del ",
     "library": "var_list.py",
     "varRefreshCmd": "print(var_dic_list())"
    },
    "r": {
     "delete_cmd_postfix": ") ",
     "delete_cmd_prefix": "rm(",
     "library": "var_list.r",
     "varRefreshCmd": "cat(var_dic_list()) "
    }
   },
   "types_to_exclude": [
    "module",
    "function",
    "builtin_function_or_method",
    "instance",
    "_Feature"
   ],
   "window_display": false
  }
 },
 "nbformat": 4,
 "nbformat_minor": 5
}
