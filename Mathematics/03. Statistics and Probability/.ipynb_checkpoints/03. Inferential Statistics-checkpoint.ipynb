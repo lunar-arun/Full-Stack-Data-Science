{
 "cells": [
  {
   "cell_type": "markdown",
   "id": "549bf180",
   "metadata": {},
   "source": [
    "    Inferential statistics is a branch of statistics that enables you to make predictions, inferences, and decisions about populations based on sample data. It involves hypothesis testing, estimating population parameters, and drawing conclusions from data. Python offers various libraries, such as NumPy, SciPy, and statsmodels, to perform inferential statistics. \n",
    "\n",
    "    Population: The entire group you are interested in studying.\n",
    "    Sample: A subset of the population used for analysis.    \n",
    "\n",
    "    Sampling : method of selecting a subset of a population to estimate the characteristics of the whole population. \n",
    "    \n",
    "    Now when we have a subset we need check whether the characteristics belongs to parent population or not. For that we do,\n",
    "    \n",
    "    Hypothesis Testing : a statistical method that uses sample data to determine if there is enough evidence to draw conclusions about a population. "
   ]
  },
  {
   "cell_type": "markdown",
   "id": "228ae367",
   "metadata": {},
   "source": [
    "    Sampling Techniques:\n",
    "        \n",
    "        Simple Random Sampling :\n",
    "            method in which each sample has an equal probability of being chosen.\n",
    "            \n",
    "        Systematic Sampling :\n",
    "            method where data from the population are chosen at regular intervals to form a sample.\n",
    "        \n",
    "        Stratified Sampling :\n",
    "            method in which the population is divided into subgroups based on certain characteristics, and then random sample is taken from each subgroup.\n",
    "        \n",
    "        Cluster Sampling :\n",
    "            method in which population is divided in different groups(clusters) and random cluster is chosen as sample.\n"
   ]
  },
  {
   "cell_type": "markdown",
   "id": "5786a72d",
   "metadata": {},
   "source": [
    "    Simple Random Sampling : \n",
    "        under this we have two types \"Simple Random Sampling without Replacement\"\n",
    "---     \n",
    "\n",
    "        Simple Random Sampling with Replacement\n",
    "---        \n",
    "```python\n",
    "import random\n",
    "\n",
    "# Population (list of elements)\n",
    "population = ['A', 'B', 'C', 'D', 'E', 'F', 'G', 'H', 'I', 'J']\n",
    "\n",
    "# Number of elements to sample\n",
    "sample_size = 5\n",
    "\n",
    "# Performing simple random sampling with replacement\n",
    "sample_with_replacement = [random.choice(population) for _ in range(sample_size)]\n",
    "print(\"Random Sample with replacement:\", sample_with_replacement)\n",
    "\n",
    "Output : Random Sample with replacement: ['A', 'C', 'A', 'G', 'A']\n",
    "```\n",
    "---\n",
    "\n",
    "        Simple Random Sampling without Replacement\n",
    "   \n",
    "---\n",
    "\n",
    "```python\n",
    "import random\n",
    "\n",
    "# Population (list of elements)\n",
    "population = ['A', 'B', 'C', 'D', 'E', 'F', 'G', 'H', 'I', 'J']\n",
    "\n",
    "# Number of elements to sample\n",
    "sample_size = 5\n",
    "\n",
    "# Performing simple random sampling without replacement\n",
    "sample = random.sample(population, sample_size)\n",
    "print(\"Simple Random Sample without replacement:\", sample)\n",
    "\n",
    "Output : Simple Random Sample without replacement: ['E', 'G', 'I', 'D', 'F']\n",
    "```"
   ]
  },
  {
   "cell_type": "markdown",
   "id": "a7d75941",
   "metadata": {},
   "source": [
    "---\n",
    "\n",
    "        Systematic Sampling :\n",
    "---    \n",
    "```python\n",
    "population = list(range(1, 101))  # Population of numbers from 1 to 100\n",
    "\n",
    "# Systematic sampling\n",
    "k = 10  # Sample interval\n",
    "start = 3  # Starting index (chosen randomly)\n",
    "\n",
    "sample = [population[i] for i in range(start - 1, len(population), k)]\n",
    "\n",
    "# Display the sampled data\n",
    "print(\"Systematic Sample:\", sample)\n",
    "\n",
    "Output : Systematic Sample: [3, 13, 23, 33, 43, 53, 63, 73, 83, 93]\n",
    "```\n",
    "---"
   ]
  },
  {
   "cell_type": "markdown",
   "id": "f6cf908c",
   "metadata": {},
   "source": [
    "    Estimation : is the process of calculating statistics based on a sample size taken from a population.\n",
    "    \n",
    "    Point Estimation :\n",
    "        the process of using sample data to calculate a single value that represent an unknown population parameter.\n",
    "        \n",
    "```python\n",
    "import numpy as np\n",
    "\n",
    "# Sample data (replace this with your dataset)\n",
    "data = [25, 30, 22, 35, 28, 20, 18, 32, 27, 29]\n",
    "\n",
    "# Calculate the point estimate of the population mean (sample mean)\n",
    "sample_mean = np.mean(data)\n",
    "\n",
    "# Display the point estimate of the population mean\n",
    "print(\"Point Estimate of Population Mean:\", sample_mean)\n",
    "\n",
    "Output : Point Estimate of Population Mean: 26.6\n",
    "```\n",
    "---\n",
    "    Interval Estimation (Confidence Intervals) :\n",
    "        method that searches for a range of values that likely contains the true parameter.\n",
    "        \n",
    "```python\n",
    "import numpy as np\n",
    "from scipy import stats\n",
    "\n",
    "# Example dataset (replace this with your data)\n",
    "data = np.array([3.2, 4.5, 5.1, 3.9, 4.3, 5.8, 6.2, 4.9, 3.7, 4.6])\n",
    "\n",
    "# Calculate mean and standard deviation\n",
    "sample_mean = np.mean(data)\n",
    "sample_std = np.std(data, ddof=1)  # ddof=1 for sample standard deviation\n",
    "\n",
    "# Set confidence level and calculate confidence interval for mean\n",
    "confidence_level = 0.95\n",
    "alpha = 1 - confidence_level\n",
    "z_score = stats.norm.ppf(1 - alpha / 2)  # Z-score for the given confidence level\n",
    "\n",
    "margin_of_error = z_score * (sample_std / np.sqrt(len(data)))\n",
    "confidence_interval = (sample_mean - margin_of_error, sample_mean + margin_of_error)\n",
    "\n",
    "print(\"Confidence Interval for Population Mean:\", confidence_interval)\n",
    " \n",
    "Output : Confidence Interval for Population Mean: (4.046861786263443, 5.193138213736559)\n",
    "```      "
   ]
  },
  {
   "cell_type": "markdown",
   "id": "ddd892f5",
   "metadata": {},
   "source": [
    "    2. Hypothesis Testing:\n",
    "        In this we need to know about for things :\n",
    "            Null Hypothesis (H0): A statement that there is no effect or difference.\n",
    "            \n",
    "            Alternative Hypothesis (Ha or H1): A statement that contradicts the null hypothesis.\n",
    "                \n",
    "            Significance Level (Alpha, α): The threshold for determining statistical significance (e.g., 0.05).\n",
    "            \n",
    "            p-value: A probability value that quantifies evidence against the null hypothesis."
   ]
  },
  {
   "cell_type": "markdown",
   "id": "52b4d0cf",
   "metadata": {},
   "source": [
    "    There are potential mistakes that can occur when making decisions about the null hypothesis.\n",
    "    \n",
    "    Type I Error (False Positive):\n",
    "        occurs when the null hypothesis (H0) is rejected when it is actually true.\n",
    "        \n",
    "    Type II Error (False Negative): \n",
    "        occurs when the null hypothesis (H0) is not rejected when it is actually false."
   ]
  }
 ],
 "metadata": {
  "kernelspec": {
   "display_name": "Python 3 (ipykernel)",
   "language": "python",
   "name": "python3"
  },
  "language_info": {
   "codemirror_mode": {
    "name": "ipython",
    "version": 3
   },
   "file_extension": ".py",
   "mimetype": "text/x-python",
   "name": "python",
   "nbconvert_exporter": "python",
   "pygments_lexer": "ipython3",
   "version": "3.11.5"
  },
  "toc": {
   "base_numbering": 1,
   "nav_menu": {},
   "number_sections": true,
   "sideBar": true,
   "skip_h1_title": false,
   "title_cell": "Table of Contents",
   "title_sidebar": "Contents",
   "toc_cell": false,
   "toc_position": {},
   "toc_section_display": true,
   "toc_window_display": false
  },
  "varInspector": {
   "cols": {
    "lenName": 16,
    "lenType": 16,
    "lenVar": 40
   },
   "kernels_config": {
    "python": {
     "delete_cmd_postfix": "",
     "delete_cmd_prefix": "del ",
     "library": "var_list.py",
     "varRefreshCmd": "print(var_dic_list())"
    },
    "r": {
     "delete_cmd_postfix": ") ",
     "delete_cmd_prefix": "rm(",
     "library": "var_list.r",
     "varRefreshCmd": "cat(var_dic_list()) "
    }
   },
   "types_to_exclude": [
    "module",
    "function",
    "builtin_function_or_method",
    "instance",
    "_Feature"
   ],
   "window_display": false
  }
 },
 "nbformat": 4,
 "nbformat_minor": 5
}
