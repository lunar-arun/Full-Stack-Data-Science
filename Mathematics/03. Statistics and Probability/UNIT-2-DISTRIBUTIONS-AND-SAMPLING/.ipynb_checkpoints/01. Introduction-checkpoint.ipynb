{
 "cells": [
  {
   "cell_type": "markdown",
   "id": "9ce02f1d",
   "metadata": {},
   "source": [
    "    Distribution :\n",
    "        Lets start understand what distribution means.\n",
    "        \n",
    "        It's describes how values are spread for a field.\n",
    "        \n",
    "    Before we dive into.\n",
    "        \n",
    "        Random Variable : \n",
    "            a variable that contains the outcomes of a chance experiment.\n",
    "            \n",
    "    Two Types :\n",
    "        Discrete Random Variable     Continuous Random Variable\n",
    "        \n",
    "        Discrete Random Variable : \n",
    "            if the set of all possible values is at most a finite or a countably infinite number of possible values.\n",
    "            \n",
    "            Example : Determining the number of defects.\n",
    "            \n",
    "        Continuous Random Variable : \n",
    "            take on values at every point over a given interval.\n",
    "            \n",
    "            Example : Measuring the time.\n",
    "                      Sampling the volume of liquid nitrogen in a storage tank."
   ]
  },
  {
   "cell_type": "markdown",
   "id": "7e9c5831",
   "metadata": {},
   "source": [
    "    The outcomes for random variables and their associated probabilities can be organized into distributions.\n",
    "    \n",
    "    Two Types :\n",
    "        Discrete Distribution          Continuous DIstribution\n",
    "            binomial distribution          uniform distribution\n",
    "            Poisson distribution           normal distribution\n",
    "            hypergeometric distribution    exponential distribution\n",
    "                                           t-distribution\n",
    "                                           chi-square distribution\n",
    "                                           F distribution"
   ]
  },
  {
   "cell_type": "markdown",
   "id": "9f74486a",
   "metadata": {},
   "source": [
    "---"
   ]
  },
  {
   "cell_type": "markdown",
   "id": "0fa8e9cc",
   "metadata": {},
   "source": [
    "    Sampling : \n",
    "        means of gathering useful information about a population.\n",
    "\n",
    "    Data are gathered from samples and conclusions are drawn about the population as a part of the inferential statistics process.   \n",
    "    \n",
    "    Random Sampling :\n",
    "        every unit of the population has the same probability of being selected into the sample.\n",
    "        \n",
    "    Non-Random Sampling :\n",
    "        not every unit of the population has the same probability of being selected into the sample.\n",
    "        \n",
    "    Nonrandom sampling methods are not appropriate techniques for gathering data to be analyzed by most of the statistical methods.\n",
    "    \n",
    "    Types of Random Sampling :\n",
    "        Simple Random Sampling \n",
    "        Stratified Random Sampling\n",
    "        Systematic Sampling\n",
    "        \n",
    "    Types of Non-Random Sampling :\n",
    "        Convenience Sampling\n",
    "        Judgment Sampling\n",
    "        Quota Sampling\n",
    "        Snowball Sampling"
   ]
  },
  {
   "cell_type": "markdown",
   "id": "d3b46f47",
   "metadata": {},
   "source": [
    "---"
   ]
  }
 ],
 "metadata": {
  "kernelspec": {
   "display_name": "Python 3 (ipykernel)",
   "language": "python",
   "name": "python3"
  },
  "language_info": {
   "codemirror_mode": {
    "name": "ipython",
    "version": 3
   },
   "file_extension": ".py",
   "mimetype": "text/x-python",
   "name": "python",
   "nbconvert_exporter": "python",
   "pygments_lexer": "ipython3",
   "version": "3.11.5"
  },
  "toc": {
   "base_numbering": 1,
   "nav_menu": {},
   "number_sections": true,
   "sideBar": true,
   "skip_h1_title": false,
   "title_cell": "Table of Contents",
   "title_sidebar": "Contents",
   "toc_cell": false,
   "toc_position": {},
   "toc_section_display": true,
   "toc_window_display": false
  }
 },
 "nbformat": 4,
 "nbformat_minor": 5
}
