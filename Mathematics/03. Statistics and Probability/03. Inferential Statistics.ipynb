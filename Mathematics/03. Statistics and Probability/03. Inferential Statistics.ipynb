{
 "cells": [
  {
   "cell_type": "markdown",
   "id": "549bf180",
   "metadata": {},
   "source": [
    "    Inferential statistics is a branch of statistics that enables you to make predictions, inferences, and decisions about populations based on sample data. It involves hypothesis testing, estimating population parameters, and drawing conclusions from data. Python offers various libraries, such as NumPy, SciPy, and statsmodels, to perform inferential statistics. \n",
    "    \n",
    "     Sampling:\n",
    "     \n",
    "        Population: The entire group you are interested in studying.\n",
    "        Sample: A subset of the population used for analysis."
   ]
  },
  {
   "cell_type": "code",
   "execution_count": null,
   "id": "0053b9da",
   "metadata": {},
   "outputs": [],
   "source": []
  },
  {
   "cell_type": "markdown",
   "id": "ddd892f5",
   "metadata": {},
   "source": [
    "    2. Hypothesis Testing:\n",
    "\n",
    "        Null Hypothesis (H0): A statement that there is no effect or difference.\n",
    "        Alternative Hypothesis (Ha or H1): A statement that contradicts the null hypothesis.\n",
    "        Significance Level (Alpha, α): The threshold for determining statistical significance (e.g., 0.05).\n",
    "        p-value: A probability value that quantifies evidence against the null hypothesis."
   ]
  },
  {
   "cell_type": "code",
   "execution_count": null,
   "id": "10fea3af",
   "metadata": {},
   "outputs": [],
   "source": []
  }
 ],
 "metadata": {
  "kernelspec": {
   "display_name": "Python 3 (ipykernel)",
   "language": "python",
   "name": "python3"
  },
  "language_info": {
   "codemirror_mode": {
    "name": "ipython",
    "version": 3
   },
   "file_extension": ".py",
   "mimetype": "text/x-python",
   "name": "python",
   "nbconvert_exporter": "python",
   "pygments_lexer": "ipython3",
   "version": "3.11.5"
  },
  "toc": {
   "base_numbering": 1,
   "nav_menu": {},
   "number_sections": true,
   "sideBar": true,
   "skip_h1_title": false,
   "title_cell": "Table of Contents",
   "title_sidebar": "Contents",
   "toc_cell": false,
   "toc_position": {},
   "toc_section_display": true,
   "toc_window_display": false
  },
  "varInspector": {
   "cols": {
    "lenName": 16,
    "lenType": 16,
    "lenVar": 40
   },
   "kernels_config": {
    "python": {
     "delete_cmd_postfix": "",
     "delete_cmd_prefix": "del ",
     "library": "var_list.py",
     "varRefreshCmd": "print(var_dic_list())"
    },
    "r": {
     "delete_cmd_postfix": ") ",
     "delete_cmd_prefix": "rm(",
     "library": "var_list.r",
     "varRefreshCmd": "cat(var_dic_list()) "
    }
   },
   "types_to_exclude": [
    "module",
    "function",
    "builtin_function_or_method",
    "instance",
    "_Feature"
   ],
   "window_display": false
  }
 },
 "nbformat": 4,
 "nbformat_minor": 5
}
