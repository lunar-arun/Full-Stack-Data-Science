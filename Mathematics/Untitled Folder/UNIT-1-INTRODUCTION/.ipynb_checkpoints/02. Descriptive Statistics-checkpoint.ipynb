{
 "cells": [
  {
   "cell_type": "markdown",
   "id": "bad0c34c",
   "metadata": {},
   "source": [
    "#### Descriptive Statistics"
   ]
  },
  {
   "cell_type": "markdown",
   "id": "eb6281ee",
   "metadata": {},
   "source": [
    "    Plays a crucial role in summarizing and describing the characteristics of a dataset.\n",
    "    \n",
    "    Using data gathered on a group to describe or -reach conclusions- about that same group."
   ]
  },
  {
   "cell_type": "markdown",
   "id": "662c10ec",
   "metadata": {},
   "source": [
    "#### MEASURES OF CENTRAL TENDENCY : UNGROUPED DATA\n",
    "\n",
    "    Measure of central tendency :\n",
    "        yield information about the center, or middle part, of a group of numbers.\n",
    "        Mean (average)\n",
    "        Median (middle value)\n",
    "        Mode (most frequent value)        "
   ]
  },
  {
   "cell_type": "markdown",
   "id": "4e3efd2d",
   "metadata": {},
   "source": [
    "---"
   ]
  },
  {
   "cell_type": "markdown",
   "id": "18c249e1",
   "metadata": {},
   "source": [
    "    Mode : Most frequently occurring value in a set of data."
   ]
  },
  {
   "cell_type": "code",
   "execution_count": 1,
   "id": "ffd73536",
   "metadata": {
    "ExecuteTime": {
     "end_time": "2024-01-08T01:56:47.074011Z",
     "start_time": "2024-01-08T01:56:47.065035Z"
    }
   },
   "outputs": [
    {
     "name": "stdout",
     "output_type": "stream",
     "text": [
      "Mode: [19.0]\n",
      "Frequency: 4\n"
     ]
    }
   ],
   "source": [
    "data = [14.25, 19.00, 11.00, 28.00, 24.00, 23.00, 43.25, 19.00, 27.00, 25.00, 15.00, 7.00, 34.22, 15.50, 15.00, 22.00, 19.00, 19.00, 27.00, 21.00]\n",
    "\n",
    "def calculate_mode(data_list):\n",
    "    frequency_dict = {}\n",
    "    \n",
    "    for item in data_list:\n",
    "        if item in frequency_dict:\n",
    "            frequency_dict[item] += 1\n",
    "        else:\n",
    "            frequency_dict[item] = 1\n",
    "    \n",
    "    max_frequency = max(frequency_dict.values())\n",
    "    mode = [k for k, v in frequency_dict.items() if v == max_frequency]\n",
    "    \n",
    "    return mode, max_frequency\n",
    "\n",
    "mode_value, mode_frequency = calculate_mode(data)\n",
    "\n",
    "print(\"Mode:\", mode_value)\n",
    "print(\"Frequency:\", mode_frequency)"
   ]
  },
  {
   "cell_type": "markdown",
   "id": "0c5c65e0",
   "metadata": {},
   "source": [
    "---"
   ]
  },
  {
   "cell_type": "markdown",
   "id": "78e62973",
   "metadata": {},
   "source": [
    "    Median : middle value in an ordered array of numbers."
   ]
  },
  {
   "cell_type": "code",
   "execution_count": 11,
   "id": "0d1c4359",
   "metadata": {
    "ExecuteTime": {
     "end_time": "2024-01-07T05:59:17.281110Z",
     "start_time": "2024-01-07T05:59:17.273956Z"
    }
   },
   "outputs": [
    {
     "name": "stdout",
     "output_type": "stream",
     "text": [
      "Median: 20.0\n"
     ]
    }
   ],
   "source": [
    "data = [14.25, 19.00, 11.00, 28.00, 24.00, 23.00, 43.25, 19.00, 27.00, 25.00, 15.00, 7.00, 34.22, 15.50, 15.00, 22.00, 19.00, 19.00, 27.00, 21.00]\n",
    "\n",
    "def calculated_median(data_list):\n",
    "    sorted_data = sorted(data_list)\n",
    "    length = len(sorted_data)\n",
    "    \n",
    "    if length % 2 == 0:  # if even length\n",
    "        mid = length // 2\n",
    "        median = (sorted_data[mid - 1] + sorted_data[mid]) / 2.0\n",
    "    else:  # if odd length\n",
    "        mid = length // 2\n",
    "        median = sorted_data[mid]\n",
    "    \n",
    "    return median\n",
    "\n",
    "median_value = calculated_median(data)\n",
    "print(\"Median:\", median_value)"
   ]
  },
  {
   "cell_type": "markdown",
   "id": "f56c36db",
   "metadata": {},
   "source": [
    "---"
   ]
  },
  {
   "cell_type": "markdown",
   "id": "d7824765",
   "metadata": {},
   "source": [
    "    Mean : It's the representation of data(group of numbers).\n",
    "    \n",
    "    Arithmetic Mean : The average of a group of numbers.\n",
    "    \n",
    "$$\n",
    "Population Mean : \\mu = \\frac{{\\sum_{i=1}^{N} x_i}}{N}\n",
    "$$\n",
    "\n",
    "$$\n",
    "Sample Mean : \\bar{x} = \\frac{{\\sum_{i=1}^{n} x_i}}{n}\n",
    "$$"
   ]
  },
  {
   "cell_type": "code",
   "execution_count": 4,
   "id": "6f9445a6",
   "metadata": {
    "ExecuteTime": {
     "end_time": "2024-01-08T02:03:39.209498Z",
     "start_time": "2024-01-08T02:03:39.201119Z"
    }
   },
   "outputs": [
    {
     "name": "stdout",
     "output_type": "stream",
     "text": [
      "Mean: 21.411\n"
     ]
    }
   ],
   "source": [
    "data = [14.25, 19.00, 11.00, 28.00, 24.00, 23.00, 43.25, 19.00, 27.00, 25.00, 15.00, 7.00, 34.22, 15.50, 15.00, 22.00, 19.00, 19.00, 27.00, 21.00]\n",
    "\n",
    "def calculate_mean(data_list):\n",
    "    if len(data_list) == 0:\n",
    "        return 0  # Return 0 for an empty list to avoid division by zero\n",
    "    \n",
    "    total = sum(data_list)\n",
    "    mean = total / len(data_list)\n",
    "    return mean\n",
    "\n",
    "mean_value = calculate_mean(data)\n",
    "print(\"Mean:\", mean_value)"
   ]
  },
  {
   "cell_type": "markdown",
   "id": "fe87e572",
   "metadata": {},
   "source": [
    "    The mean is affected by each and every value, which is an advantage.\n",
    "    \n",
    "    And highly influenced by outliers or extreme values. "
   ]
  },
  {
   "cell_type": "markdown",
   "id": "7863cda5",
   "metadata": {},
   "source": [
    "---"
   ]
  },
  {
   "cell_type": "markdown",
   "id": "90fa536e",
   "metadata": {},
   "source": [
    "    Percentiles : \n",
    "        measures of central tendency that divide a group of data into 100 parts.\n",
    "        \n",
    "    The nth percentile is the value such that at least n percent of the data are below that value and - at most (100 - n) percent are above that value."
   ]
  },
  {
   "cell_type": "markdown",
   "id": "c1f2866e",
   "metadata": {},
   "source": [
    "    Steps in Determining the Location of a Percentile:\n",
    "\n",
    "    1. Organize the numbers into an ascending-order array.\n",
    "    2. Calculate the percentile location (i) by using the formula:\n",
    "\n",
    "$$ i = \\left( \\frac{P}{100} \\right) \\times (N+1) $$\n",
    "\n",
    "    Where:\n",
    "       - (i) is the percentile location.\n",
    "       - (P) is the desired percentile value.\n",
    "       - (N) is the total number of values in the dataset.\n",
    "\n",
    "    3. Determine the location by either:\n",
    "        a. If (i) is a whole number, the (P)th percentile is the average of the value at the (i)th location and the value at the next location.\n",
    "        b. If (i) is not a whole number, the (P)th percentile value is located at the whole number part of (i).\n"
   ]
  },
  {
   "cell_type": "markdown",
   "id": "ca002b25",
   "metadata": {},
   "source": [
    "    Quartiles :\n",
    "        measures of central tendency that divide a group of data into four subgroups or parts."
   ]
  },
  {
   "cell_type": "markdown",
   "id": "b1e566d0",
   "metadata": {},
   "source": [
    "#### MEASURES OF VARIABILITY : UNGROUPED DATA\n",
    "\n",
    "    Measure of Variability : describe the spread or the dispersion of a set of data.\n",
    "    \n",
    "    Range :\n",
    "        the difference between the largest value and the smallest value of a dataset.\n",
    "        \n",
    "        Range = Highest - Lowest\n",
    "        \n",
    "    Interquartile Range :\n",
    "        the range of values between the first and third quartile.\n",
    "        \n",
    "$$ Q_1 -> i = \\left( \\frac{25}{100} \\right) \\times (N+1) $$\n",
    "$$ Q_3 -> i = \\left( \\frac{75}{100} \\right) \\times (N+1) $$\n",
    "\n",
    "$$ Interquartile Range  = Q_3 - Q_1 $$"
   ]
  },
  {
   "cell_type": "markdown",
   "id": "792f5789",
   "metadata": {},
   "source": [
    "    The other three measures of variability are :\n",
    "        Variance\n",
    "        Standard Deviation\n",
    "        Mean Absolute Deviation\n",
    "        \n",
    "    SUM OF DEVIATIONS FROM THE ARITHMETIC MEAN IS ALWAYS ZERO\n",
    "$$\\sum (x_i - \\mu) = 0 $$"
   ]
  },
  {
   "cell_type": "markdown",
   "id": "cc2fa70f",
   "metadata": {},
   "source": [
    "    Mean Absolute Deviation:\n",
    "        MAD is the average of the absolute values of the deviations around the mean for a set of numbers.\n",
    "        \n",
    "$$\n",
    "Mean Absolute Deviation : \\text{MAD} = \\frac{1}{N} \\sum_{i=1}^{N} |x_i - \\mu| \n",
    "$$"
   ]
  },
  {
   "cell_type": "markdown",
   "id": "c129aa6e",
   "metadata": {},
   "source": [
    "    Variance :\n",
    "        the average of the squared deviations about the arithmetic mean for a set of numbers.\n",
    "        \n",
    "$$\n",
    "Population Variance : \\sigma^2 = \\frac{1}{N} \\sum_{i=1}^{N} (x_i - \\mu)^2 \\\n",
    "$$\n",
    "\n",
    "    sum of the squared deviations about the mean of a set of values- called sum of square of x."
   ]
  },
  {
   "cell_type": "markdown",
   "id": "6d0dfb86",
   "metadata": {},
   "source": [
    "    Standard Deviation :\n",
    "        The square root of Variance.\n",
    "        \n",
    "$$\n",
    "Population Standard Deviation : \\sigma = \\sqrt{\\frac{1}{N} \\sum_{i=1}^{N} (x_i - \\mu)^2} \n",
    "$$        \n",
    "\n",
    "    One feature of the standard deviation that distinguishes it from a variance is that the standard deviation is expressed in the same units as the raw data, whereas the variance is expressed in those units squared."
   ]
  },
  {
   "cell_type": "code",
   "execution_count": null,
   "id": "8619b3e4",
   "metadata": {},
   "outputs": [],
   "source": []
  },
  {
   "cell_type": "code",
   "execution_count": null,
   "id": "9501a462",
   "metadata": {},
   "outputs": [],
   "source": []
  },
  {
   "cell_type": "code",
   "execution_count": null,
   "id": "d8f394b3",
   "metadata": {},
   "outputs": [],
   "source": []
  },
  {
   "cell_type": "code",
   "execution_count": null,
   "id": "e79f3764",
   "metadata": {},
   "outputs": [],
   "source": []
  },
  {
   "cell_type": "markdown",
   "id": "ed399116",
   "metadata": {},
   "source": [
    "    z Scores :\n",
    "        represents the number of standard deviations a value (x) is above or below the mean of a set of numbers when the data are normally distributed.\n",
    "        \n",
    "        Using z scores allows translation of a value’s raw distance from the mean into units of standard deviations.\n",
    "\n",
    "$$\n",
    "z = \\frac{{x - \\mu}}{{\\sigma}} \n",
    "$$\n",
    "\n",
    "        If a z score is negative, the raw value (x) is below the mean. If the z score is positive, the raw value (x) is above the mean.\n",
    "        \n",
    "    Between z = -1.00 and z = +1.00 are approximately 68% of the values.\n",
    "    Between z = -2.00 and z = +2.00 are approximately 95% of the values.\n",
    "    Between z = -3.00 and z = +3.00 are approximately 99.7% of the values."
   ]
  },
  {
   "cell_type": "markdown",
   "id": "6c1afdba",
   "metadata": {},
   "source": [
    "    Coefficient of Variation :\n",
    "        the ratio of the standard deviation to the mean expressed in percentage\n",
    "        \n",
    "$$\n",
    "CV = \\frac{\\sigma}{\\mu} \\times 100\\% \n",
    "$$\n",
    "\n",
    "    The greater the variability is, the more the potential for loss.\n",
    "    \n",
    "    The coefficient of variation also provides an optional method of interpreting the value of a standard deviation."
   ]
  },
  {
   "cell_type": "markdown",
   "id": "87d93471",
   "metadata": {},
   "source": [
    "#### MEASURES OF SHAPE\n",
    "    tools that can be used to describe the shape of a distribution of data.\n",
    "    \n",
    "    Skewness :\n",
    "        a distribution is asymmetrical or lacks symmetry.\n",
    "        \n",
    "    Coefficient of Skewness :\n",
    "        compares the mean and median in light of the magnitude of the standard deviation.\n",
    "        \n",
    "$$\n",
    "Coefficient Of Skewness = \\frac{3(\\text{Mean} - \\text{Median})}{\\text{Standard Deviation}}\n",
    "$$\n",
    "\n",
    "    Kurtosis :\n",
    "        the amount of peakedness of a distribution.\n",
    "        \n",
    "    high and thin are referred to as leptokurtic distributions.\n",
    "    flat and spread out are referred to as platykurtic distributions.\n",
    "    \"normal” in shape, referred to as mesokurtic distributions.\n",
    "    \n",
    "    \n",
    "    Box-and-Whisker Plots : \n",
    "        a diagram that utilizes the upper and lower quartiles along with the median and the two most extreme values to depict a distribution graphically.\n",
    "        \n",
    "    The box-and-whisker plot is determined from five specific numbers.\n",
    "    \n",
    "        1. The median (Q2)\n",
    "        2. The lower quartile (Q1)\n",
    "        3. The upper quartile (Q3)\n",
    "        4. The smallest value in the distribution\n",
    "        5. The largest value in the distribution"
   ]
  },
  {
   "cell_type": "code",
   "execution_count": null,
   "id": "40bafd14",
   "metadata": {},
   "outputs": [],
   "source": []
  }
 ],
 "metadata": {
  "kernelspec": {
   "display_name": "Python 3 (ipykernel)",
   "language": "python",
   "name": "python3"
  },
  "language_info": {
   "codemirror_mode": {
    "name": "ipython",
    "version": 3
   },
   "file_extension": ".py",
   "mimetype": "text/x-python",
   "name": "python",
   "nbconvert_exporter": "python",
   "pygments_lexer": "ipython3",
   "version": "3.11.5"
  },
  "toc": {
   "base_numbering": 1,
   "nav_menu": {},
   "number_sections": true,
   "sideBar": true,
   "skip_h1_title": false,
   "title_cell": "Table of Contents",
   "title_sidebar": "Contents",
   "toc_cell": false,
   "toc_position": {},
   "toc_section_display": true,
   "toc_window_display": false
  }
 },
 "nbformat": 4,
 "nbformat_minor": 5
}
