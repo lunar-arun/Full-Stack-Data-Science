{
 "cells": [
  {
   "cell_type": "markdown",
   "id": "599ab4dc",
   "metadata": {},
   "source": [
    "### Binomial Distribution\n",
    "\n",
    "    any single trial of a binomial experiment contains only two possible outcomes.\n",
    "    \n",
    "    two outcomes are labeled success or failure.\n",
    "    \n",
    "    ASSUMPTIONS OF THE BINOMIAL DISTRIBUTION\n",
    "        The experiment involves n identical trials.\n",
    "        Each trial has only two possible outcomes : success or as failure.\n",
    "        Each trial is independent of the previous trials.\n",
    "        The terms p and q remain constant throughout the experiment, \n",
    "            where p is the probability of getting a success on any one trial \n",
    "                  q = (1 - p) is the probability of getting a failure on any one trial.\n",
    "        \n",
    "        \n",
    "\n",
    "    the acceptable sample size for using the binomial distribution with samples taken without replacement is\n",
    "        n < 5% of N \n",
    "    where \n",
    "        n = sample size\n",
    "        N = population size\n",
    "        \n",
    "$$\n",
    "Binomial Formula : P(X = k) = \\binom{n}{k} \\cdot p^k \\cdot (1 - p)^{n - k}\n",
    "$$\n",
    "\n",
    "    where\n",
    "        n = the number of trials (or the number being sampled)\n",
    "        x = the number of successes desired\n",
    "        p = the probability of getting a success in one trial\n",
    "        q = 1 - p = the probability of getting a failure in one trial\n",
    "\n",
    "$$\n",
    "Mean Of Binomial Distribution : \\mu = n * p\n",
    "$$\n",
    "\n",
    "$$\n",
    "Variance Of Binomial Distribution : sigma^2 = n * p * q\n",
    "$$\n",
    "\n",
    "$$\n",
    "Standard Deviation Of Binomial Distribution : sigma = \\sqrt{n * p * q}\n",
    "$$\n",
    "\n"
   ]
  },
  {
   "cell_type": "markdown",
   "id": "897d3d03",
   "metadata": {},
   "source": [
    "---"
   ]
  },
  {
   "cell_type": "markdown",
   "id": "3a3390d3",
   "metadata": {},
   "source": [
    "### Poisson Distribution\n",
    "\n",
    "    focuses only on the number of discrete occurrences over some interval or continuum.\n",
    "    \n",
    "    The Poisson distribution describes the occurrence of rare events.\n",
    "    \n",
    "$$\n",
    "Poisson Formula : P(X = k) = \\frac{e^{-\\lambda} \\cdot \\lambda^k}{k!}\n",
    "$$\n",
    "\n",
    "\n",
    "\n",
    "$$\n",
    "Mean Of Poisson Distribution : \\mu = \\lambda\n",
    "$$\n",
    "\n",
    "$$\n",
    "Variance Of Poisson Distribution : sigma^2 = \\lambda\n",
    "$$\n",
    "\n",
    "$$\n",
    "Standard Deviation Of Poisson Distribution : sigma = \\sqrt{\\lambda}\n",
    "$$"
   ]
  },
  {
   "cell_type": "markdown",
   "id": "a3ebe5de",
   "metadata": {},
   "source": []
  },
  {
   "cell_type": "markdown",
   "id": "ae4ef745",
   "metadata": {},
   "source": []
  }
 ],
 "metadata": {
  "kernelspec": {
   "display_name": "Python 3 (ipykernel)",
   "language": "python",
   "name": "python3"
  },
  "language_info": {
   "codemirror_mode": {
    "name": "ipython",
    "version": 3
   },
   "file_extension": ".py",
   "mimetype": "text/x-python",
   "name": "python",
   "nbconvert_exporter": "python",
   "pygments_lexer": "ipython3",
   "version": "3.11.5"
  },
  "toc": {
   "base_numbering": 1,
   "nav_menu": {},
   "number_sections": true,
   "sideBar": true,
   "skip_h1_title": false,
   "title_cell": "Table of Contents",
   "title_sidebar": "Contents",
   "toc_cell": false,
   "toc_position": {},
   "toc_section_display": true,
   "toc_window_display": false
  }
 },
 "nbformat": 4,
 "nbformat_minor": 5
}
