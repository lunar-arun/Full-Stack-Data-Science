{
 "cells": [
  {
   "cell_type": "markdown",
   "id": "72080fef",
   "metadata": {},
   "source": [
    "    Uniform Distribution :\n",
    "        a relatively simple continuous distribution in which the same height, or f (x), is obtained over a range of values.\n",
    "        \n",
    "$$\n",
    "f(x) = \\begin{cases} \n",
    "      \\frac{1}{b-a} & \\text{if } a \\leq x \\leq b \\\\\n",
    "      0 & \\text{otherwise} \n",
    "   \\end{cases}\n",
    "$$\n",
    "\n",
    "$$\n",
    "Mean Of Uniform Distribution : \\mu = \\frac{{a + b}}{2}\n",
    "$$\n",
    "\n",
    "$$\n",
    "Variance Of Uniform Distribution : sigma^2 = \\frac{{(b - a)^2}}{12}\n",
    "$$\n",
    "\n",
    "$$\n",
    "Standard Deviation Of Uniform Distribution : sigma = \\frac{{b - a}}{\\sqrt{12}}\n",
    "$$"
   ]
  },
  {
   "cell_type": "markdown",
   "id": "743fb159",
   "metadata": {},
   "source": [
    "---\n",
    "---"
   ]
  },
  {
   "cell_type": "markdown",
   "id": "74a8bd71",
   "metadata": {},
   "source": [
    "    Normal Distribution :\n",
    "        \n",
    "    This exhibits the following characteristics.\n",
    "        It is a continuous distribution.\n",
    "        It is a symmetrical distribution about its mean.\n",
    "        It is asymptotic to the horizontal axis.\n",
    "        It is unimodal.\n",
    "        It is a family of curves.\n",
    "        Area under the curve is 1.\n",
    "        \n",
    "$$\n",
    "f(x | \\mu, \\sigma^2) = \\frac{1}{\\sqrt{2 \\pi \\sigma^2}} e^{-\\frac{(x - \\mu)^2}{2\\sigma^2}}\n",
    "$$\n",
    "\n",
    "    where\n",
    "        μ = mean of x\n",
    "        σ = standard deviation of x\n",
    "        π = 3.14159 . . . , and\n",
    "        e = 2.71828. . . ."
   ]
  },
  {
   "cell_type": "markdown",
   "id": "28942cc6",
   "metadata": {},
   "source": [
    "    Standardized Normal Distribution :\n",
    "        Every unique pair of μ and σ values defines a different normal distribution.\n",
    "        \n",
    "$$\n",
    "z FORMULA : z = \\frac{x - \\mu}{\\sigma}\n",
    "$$\n",
    "\n",
    "    A z score is the number of standard deviations that a value, x, is above or below the mean."
   ]
  },
  {
   "cell_type": "markdown",
   "id": "d9d2bbcf",
   "metadata": {},
   "source": [
    "---\n",
    "---"
   ]
  },
  {
   "cell_type": "markdown",
   "id": "d4fe1799",
   "metadata": {},
   "source": [
    "    Exponential Distribution :\n",
    "        continuous and describes a probability distribution of the times between random occurrences.\n",
    "        \n",
    "    the characteristics of the exponential distribution.\n",
    "        It is a continuous distribution.\n",
    "        It is a family of distributions.\n",
    "        It is skewed to the right.\n",
    "        The x values range from zero to infinity.\n",
    "        Its apex is always at x = 0.\n",
    "        The curve steadily decreases as x gets larger\n",
    "        \n",
    "$$\n",
    "f(x; \\lambda) = \\begin{cases} \\lambda e^{-\\lambda x}, & \\text{if } x \\geq 0 \\\\ 0, & \\text{if } x < 0 \\end{cases}\n",
    "$$\n",
    "\n",
    "    where\n",
    "        x >= 0\n",
    "        λ > 0\n",
    "        and e = 2.71828"
   ]
  },
  {
   "cell_type": "code",
   "execution_count": null,
   "id": "7ce8ab17",
   "metadata": {},
   "outputs": [],
   "source": []
  }
 ],
 "metadata": {
  "kernelspec": {
   "display_name": "Python 3 (ipykernel)",
   "language": "python",
   "name": "python3"
  },
  "language_info": {
   "codemirror_mode": {
    "name": "ipython",
    "version": 3
   },
   "file_extension": ".py",
   "mimetype": "text/x-python",
   "name": "python",
   "nbconvert_exporter": "python",
   "pygments_lexer": "ipython3",
   "version": "3.11.5"
  },
  "toc": {
   "base_numbering": 1,
   "nav_menu": {},
   "number_sections": true,
   "sideBar": true,
   "skip_h1_title": false,
   "title_cell": "Table of Contents",
   "title_sidebar": "Contents",
   "toc_cell": false,
   "toc_position": {},
   "toc_section_display": true,
   "toc_window_display": false
  }
 },
 "nbformat": 4,
 "nbformat_minor": 5
}
