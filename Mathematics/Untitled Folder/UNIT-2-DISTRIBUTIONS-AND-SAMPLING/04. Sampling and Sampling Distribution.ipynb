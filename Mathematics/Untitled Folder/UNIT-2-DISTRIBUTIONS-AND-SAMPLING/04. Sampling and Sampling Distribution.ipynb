{
 "cells": [
  {
   "cell_type": "markdown",
   "id": "ac63d193",
   "metadata": {},
   "source": [
    "    Sampling : \n",
    "        means of gathering useful information about a population.\n",
    "\n",
    "    Data are gathered from samples and conclusions are drawn about the population as a part of the inferential statistics process.   \n",
    "\n",
    "    Random Sampling :\n",
    "        every unit of the population has the same probability of being selected into the sample.\n",
    "    \n",
    "    Non-Random Sampling :\n",
    "        not every unit of the population has the same probability of being selected into the sample.\n",
    "    \n",
    "    Nonrandom sampling methods are not appropriate techniques for gathering data to be analyzed by most of the statistical methods.\n",
    "    \n"
   ]
  },
  {
   "cell_type": "markdown",
   "id": "1ec94e99",
   "metadata": {},
   "source": [
    "#### Random Sampling Techniques :\n",
    "\n",
    "    Simple Random Sampling :\n",
    "        (SRS) is a statistical method where each member of a population has an equal probability of being chosen as part of a sample.\n",
    "        \n",
    "    In this method, every individual in the population has an equal chance of being selected, and each subset of the population has an equal chance of being selected as the sample."
   ]
  },
  {
   "cell_type": "markdown",
   "id": "d926d706",
   "metadata": {},
   "source": []
  },
  {
   "cell_type": "markdown",
   "id": "929b1ff5",
   "metadata": {},
   "source": []
  },
  {
   "cell_type": "markdown",
   "id": "918de82d",
   "metadata": {},
   "source": []
  },
  {
   "cell_type": "markdown",
   "id": "ad0a98ba",
   "metadata": {},
   "source": []
  }
 ],
 "metadata": {
  "kernelspec": {
   "display_name": "Python 3 (ipykernel)",
   "language": "python",
   "name": "python3"
  },
  "language_info": {
   "codemirror_mode": {
    "name": "ipython",
    "version": 3
   },
   "file_extension": ".py",
   "mimetype": "text/x-python",
   "name": "python",
   "nbconvert_exporter": "python",
   "pygments_lexer": "ipython3",
   "version": "3.11.5"
  },
  "toc": {
   "base_numbering": 1,
   "nav_menu": {},
   "number_sections": true,
   "sideBar": true,
   "skip_h1_title": false,
   "title_cell": "Table of Contents",
   "title_sidebar": "Contents",
   "toc_cell": false,
   "toc_position": {},
   "toc_section_display": true,
   "toc_window_display": false
  }
 },
 "nbformat": 4,
 "nbformat_minor": 5
}
