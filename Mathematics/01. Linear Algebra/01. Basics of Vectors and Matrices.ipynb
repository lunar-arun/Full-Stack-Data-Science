{
 "cells": [
  {
   "cell_type": "markdown",
   "id": "5f20e03a",
   "metadata": {},
   "source": [
    "## Vectors"
   ]
  },
  {
   "cell_type": "markdown",
   "id": "90293775",
   "metadata": {},
   "source": [
    "    A vector is an ordered set of numbers, often representing quantities that have both magnitude and direction. \n",
    "    In linear algebra, vectors are typically denoted as \n",
    "$ v = [v_1, v_2, …, v_n] $\n",
    "\n",
    "where $v_1, v_2, …, v_n$ are the components of the vector.\n",
    "\n",
    "    Vector Addition, Subtraction, and Scalar Multiplication:\n",
    "    \n",
    "    Addition: \n",
    "        Adding two vectors results in a new vector where each component is the sum of the corresponding components of the original vectors.\n",
    "    \n",
    "    Subtraction: \n",
    "        Subtracting one vector from another results in a new vector where each component is the difference between the corresponding components of the original vectors.\n",
    "    \n",
    "    Scalar Multiplication: \n",
    "        Multiplying a vector by a scalar involves multiplying each component of the vector by that scalar."
   ]
  },
  {
   "cell_type": "code",
   "execution_count": 1,
   "id": "5bf940b2",
   "metadata": {
    "ExecuteTime": {
     "end_time": "2024-01-19T05:09:30.894538Z",
     "start_time": "2024-01-19T05:09:30.755885Z"
    }
   },
   "outputs": [
    {
     "name": "stdout",
     "output_type": "stream",
     "text": [
      "Vector Addition: [5 7 9]\n",
      "Vector Subtraction: [-3 -3 -3]\n",
      "Scalar Multiplication: [2 4 6]\n"
     ]
    }
   ],
   "source": [
    "import numpy as np\n",
    "\n",
    "# Define two vectors\n",
    "v1 = np.array([1, 2, 3])\n",
    "v2 = np.array([4, 5, 6])\n",
    "\n",
    "# Vector Addition\n",
    "addition_result = v1 + v2\n",
    "\n",
    "# Vector Subtraction\n",
    "subtraction_result = v1 - v2\n",
    "\n",
    "# Scalar Multiplication\n",
    "scalar = 2\n",
    "scalar_multiplication_result = scalar * v1\n",
    "\n",
    "print(\"Vector Addition:\", addition_result)\n",
    "print(\"Vector Subtraction:\", subtraction_result)\n",
    "print(\"Scalar Multiplication:\", scalar_multiplication_result)"
   ]
  },
  {
   "cell_type": "markdown",
   "id": "24c53711",
   "metadata": {},
   "source": [
    "    Inner Product and Dot Product:\n",
    "    \n",
    "    Inner Product: \n",
    "        The inner product of two vectors is the sum of the products of their corresponding components.\n",
    "        \n",
    "    Dot Product: \n",
    "        The dot product of two vectors is a specific type of inner product."
   ]
  },
  {
   "cell_type": "code",
   "execution_count": 2,
   "id": "6297b01f",
   "metadata": {
    "ExecuteTime": {
     "end_time": "2024-01-19T05:09:30.899915Z",
     "start_time": "2024-01-19T05:09:30.896532Z"
    }
   },
   "outputs": [
    {
     "name": "stdout",
     "output_type": "stream",
     "text": [
      "Inner Product: 32\n",
      "Dot Product: 32\n"
     ]
    }
   ],
   "source": [
    "# Inner Product\n",
    "inner_product_result = np.inner(v1, v2)\n",
    "\n",
    "# Dot Product\n",
    "dot_product_result = np.dot(v1, v2)\n",
    "\n",
    "print(\"Inner Product:\", inner_product_result)\n",
    "print(\"Dot Product:\", dot_product_result)"
   ]
  },
  {
   "cell_type": "markdown",
   "id": "36b9834d",
   "metadata": {},
   "source": [
    "## Matrices:"
   ]
  },
  {
   "cell_type": "markdown",
   "id": "491bb2fe",
   "metadata": {},
   "source": [
    "    A matrix is a 2D array of numbers, symbols, or expressions arranged in rows and columns. \n",
    "    It is typically denoted as \n",
    "$ A = [a_{ij}]$, \n",
    "\n",
    "where $a_{ij}$ represents the element in the i-th row and j-th column."
   ]
  },
  {
   "cell_type": "markdown",
   "id": "218922f7",
   "metadata": {},
   "source": [
    "    Matrix Addition, Subtraction, and Scalar Multiplication:\n",
    "    \n",
    "        Addition: \n",
    "            Adding two matrices results in a new matrix where each element is the sum of the corresponding elements of the original matrices.\n",
    "        \n",
    "        Subtraction: \n",
    "            Subtracting one matrix from another results in a new matrix where each element is the difference between the corresponding elements of the original matrices.\n",
    "        \n",
    "        Scalar Multiplication: \n",
    "            Multiplying a matrix by a scalar involves multiplying each element of the matrix by that scalar."
   ]
  },
  {
   "cell_type": "code",
   "execution_count": 3,
   "id": "c36fa4eb",
   "metadata": {
    "ExecuteTime": {
     "end_time": "2024-01-19T05:09:30.917941Z",
     "start_time": "2024-01-19T05:09:30.901908Z"
    }
   },
   "outputs": [
    {
     "name": "stdout",
     "output_type": "stream",
     "text": [
      "Matrix Addition:\n",
      " [[ 6  8]\n",
      " [10 12]]\n",
      "Matrix Subtraction:\n",
      " [[-4 -4]\n",
      " [-4 -4]]\n",
      "Scalar Multiplication:\n",
      " [[2 4]\n",
      " [6 8]]\n"
     ]
    }
   ],
   "source": [
    "# Define two matrices\n",
    "A = np.array([[1, 2], [3, 4]])\n",
    "B = np.array([[5, 6], [7, 8]])\n",
    "\n",
    "# Matrix Addition\n",
    "matrix_addition_result = A + B\n",
    "\n",
    "# Matrix Subtraction\n",
    "matrix_subtraction_result = A - B\n",
    "\n",
    "# Scalar Multiplication\n",
    "scalar_multiplication_matrix_result = scalar * A\n",
    "\n",
    "print(\"Matrix Addition:\\n\", matrix_addition_result)\n",
    "print(\"Matrix Subtraction:\\n\", matrix_subtraction_result)\n",
    "print(\"Scalar Multiplication:\\n\", scalar_multiplication_matrix_result)"
   ]
  },
  {
   "cell_type": "markdown",
   "id": "46e62b96",
   "metadata": {},
   "source": [
    "    Matrix Multiplication:\n",
    "        Matrix multiplication is the process of multiplying two matrices to obtain a new matrix. \n",
    "        The number of columns in the first matrix must be equal to the number of rows in the second matrix for the multiplication to be defined."
   ]
  },
  {
   "cell_type": "code",
   "execution_count": 4,
   "id": "ced59d06",
   "metadata": {
    "ExecuteTime": {
     "end_time": "2024-01-19T05:09:30.925379Z",
     "start_time": "2024-01-19T05:09:30.919934Z"
    }
   },
   "outputs": [
    {
     "name": "stdout",
     "output_type": "stream",
     "text": [
      "Matrix Multiplication:\n",
      " [[19 22]\n",
      " [43 50]]\n"
     ]
    }
   ],
   "source": [
    "# Matrix Multiplication\n",
    "matrix_multiplication_result = np.matmul(A, B)\n",
    "\n",
    "print(\"Matrix Multiplication:\\n\", matrix_multiplication_result)"
   ]
  },
  {
   "cell_type": "markdown",
   "id": "8833ef51",
   "metadata": {},
   "source": [
    "    Transposition and Symmetric Matrices:\n",
    "        Transposition: \n",
    "            The transpose of a matrix is obtained by swapping its rows with columns.\n",
    "        Symmetric Matrices: \n",
    "            A matrix is symmetric if it is equal to its transpose."
   ]
  },
  {
   "cell_type": "code",
   "execution_count": 5,
   "id": "b5924758",
   "metadata": {
    "ExecuteTime": {
     "end_time": "2024-01-19T05:09:30.936893Z",
     "start_time": "2024-01-19T05:09:30.927354Z"
    }
   },
   "outputs": [
    {
     "name": "stdout",
     "output_type": "stream",
     "text": [
      "Transposed Matrix:\n",
      " [[1 3]\n",
      " [2 4]]\n",
      "Is Symmetric Matrix: True\n"
     ]
    }
   ],
   "source": [
    "# Matrix Transposition\n",
    "transposed_matrix = np.transpose(A)\n",
    "\n",
    "# Symmetric Matrix\n",
    "symmetric_matrix = np.array([[1, 2, 3], [2, 4, 5], [3, 5, 6]])\n",
    "\n",
    "print(\"Transposed Matrix:\\n\", transposed_matrix)\n",
    "print(\"Is Symmetric Matrix:\", np.array_equal(symmetric_matrix, symmetric_matrix.T))"
   ]
  },
  {
   "cell_type": "markdown",
   "id": "a952d2c1",
   "metadata": {},
   "source": [
    "## Vector Spaces and Subspaces:\n",
    "\n",
    "    Definition and Basis:\n",
    "    A vector space is a set of vectors closed under addition and scalar multiplication. A subspace is a subset of a vector space that is itself a vector space."
   ]
  },
  {
   "cell_type": "code",
   "execution_count": 6,
   "id": "bbae637e",
   "metadata": {
    "ExecuteTime": {
     "end_time": "2024-01-19T05:09:30.944543Z",
     "start_time": "2024-01-19T05:09:30.937923Z"
    }
   },
   "outputs": [
    {
     "name": "stdout",
     "output_type": "stream",
     "text": [
      "Is Subspace: True\n"
     ]
    }
   ],
   "source": [
    "# Vector Space and Subspace\n",
    "vector_space = np.array([1, 2, 3])\n",
    "subspace = np.array([1, 2])\n",
    "\n",
    "# Check if subspace is a subset of vector_space\n",
    "is_subspace = np.all(np.isin(subspace, vector_space))\n",
    "\n",
    "print(\"Is Subspace:\", is_subspace)"
   ]
  },
  {
   "cell_type": "markdown",
   "id": "d50a8db4",
   "metadata": {},
   "source": [
    "## Orthogonality:\n",
    "    Orthogonal Vectors and Subspaces:\n",
    "        Vectors are orthogonal if their dot product is zero. \n",
    "        Subspaces are orthogonal if every vector in one subspace is orthogonal to every vector in the other."
   ]
  },
  {
   "cell_type": "code",
   "execution_count": 7,
   "id": "7dc8b9b8",
   "metadata": {
    "ExecuteTime": {
     "end_time": "2024-01-19T05:09:30.954384Z",
     "start_time": "2024-01-19T05:09:30.945537Z"
    }
   },
   "outputs": [
    {
     "name": "stdout",
     "output_type": "stream",
     "text": [
      "Are v1 and v3 Orthogonal: True\n"
     ]
    }
   ],
   "source": [
    "# Orthogonal Vectors\n",
    "v1 = np.array([2, -2, 0])\n",
    "v3 = np.array([2, 2, 4])\n",
    "\n",
    "# Check if v1 and v3 are orthogonal\n",
    "are_orthogonal = np.dot(v1, v3) == 0\n",
    "\n",
    "print(\"Are v1 and v3 Orthogonal:\", are_orthogonal)"
   ]
  }
 ],
 "metadata": {
  "kernelspec": {
   "display_name": "Python 3 (ipykernel)",
   "language": "python",
   "name": "python3"
  },
  "language_info": {
   "codemirror_mode": {
    "name": "ipython",
    "version": 3
   },
   "file_extension": ".py",
   "mimetype": "text/x-python",
   "name": "python",
   "nbconvert_exporter": "python",
   "pygments_lexer": "ipython3",
   "version": "3.11.5"
  },
  "toc": {
   "base_numbering": 1,
   "nav_menu": {},
   "number_sections": true,
   "sideBar": true,
   "skip_h1_title": false,
   "title_cell": "Table of Contents",
   "title_sidebar": "Contents",
   "toc_cell": false,
   "toc_position": {},
   "toc_section_display": true,
   "toc_window_display": false
  },
  "varInspector": {
   "cols": {
    "lenName": 16,
    "lenType": 16,
    "lenVar": 40
   },
   "kernels_config": {
    "python": {
     "delete_cmd_postfix": "",
     "delete_cmd_prefix": "del ",
     "library": "var_list.py",
     "varRefreshCmd": "print(var_dic_list())"
    },
    "r": {
     "delete_cmd_postfix": ") ",
     "delete_cmd_prefix": "rm(",
     "library": "var_list.r",
     "varRefreshCmd": "cat(var_dic_list()) "
    }
   },
   "types_to_exclude": [
    "module",
    "function",
    "builtin_function_or_method",
    "instance",
    "_Feature"
   ],
   "window_display": false
  }
 },
 "nbformat": 4,
 "nbformat_minor": 5
}
