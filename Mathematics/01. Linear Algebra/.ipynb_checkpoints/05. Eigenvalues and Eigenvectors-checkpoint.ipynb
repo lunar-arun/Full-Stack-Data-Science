{
 "cells": [
  {
   "cell_type": "markdown",
   "id": "7df0d354",
   "metadata": {},
   "source": [
    "    Eigenvalues and eigenvectors are fundamental concepts in linear algebra. \n",
    "    \n",
    "    They have wide applications in various fields, including physics, computer science, and machine learning. \n",
    "    \n",
    "    Let's dive into their definitions and provide code examples in Python using NumPy."
   ]
  },
  {
   "cell_type": "markdown",
   "id": "95e997d4",
   "metadata": {},
   "source": [
    "## Eigenvalues and Eigenvectors:\n",
    "    \n",
    "    Definition:\n",
    "        Given a square matrix A, a scalar λ is an eigenvalue, \n",
    "        and a nonzero vector v is the corresponding eigenvector if Av=λv."
   ]
  },
  {
   "cell_type": "code",
   "execution_count": 1,
   "id": "a9f99352",
   "metadata": {
    "ExecuteTime": {
     "end_time": "2024-01-19T05:12:40.566557Z",
     "start_time": "2024-01-19T05:12:40.421886Z"
    }
   },
   "outputs": [
    {
     "name": "stdout",
     "output_type": "stream",
     "text": [
      "Eigenvalues: [5. 2.]\n",
      "Eigenvectors:\n",
      " [[ 0.89442719 -0.70710678]\n",
      " [ 0.4472136   0.70710678]]\n"
     ]
    }
   ],
   "source": [
    "import numpy as np\n",
    "\n",
    "# Define a square matrix A\n",
    "A = np.array([[4, 2],\n",
    "              [1, 3]])\n",
    "\n",
    "# Calculate eigenvalues and eigenvectors\n",
    "eigenvalues, eigenvectors = np.linalg.eig(A)\n",
    "\n",
    "print(\"Eigenvalues:\", eigenvalues)\n",
    "print(\"Eigenvectors:\\n\", eigenvectors)"
   ]
  },
  {
   "cell_type": "markdown",
   "id": "0e2ea3cb",
   "metadata": {},
   "source": [
    "## Eigendecomposition:\n",
    "\n",
    "    Definition:\n",
    "        Eigendecomposition is the factorization of a matrix A into the product of matrices V and Λ , where V is the matrix containing the eigenvectors as columns, and Λ is a diagonal matrix containing the eigenvalues.\n",
    "        \n",
    "$$A=VΛV^−1$$ "
   ]
  },
  {
   "cell_type": "code",
   "execution_count": 2,
   "id": "67f27fa6",
   "metadata": {
    "ExecuteTime": {
     "end_time": "2024-01-19T05:14:45.265016Z",
     "start_time": "2024-01-19T05:14:45.251920Z"
    }
   },
   "outputs": [
    {
     "name": "stdout",
     "output_type": "stream",
     "text": [
      "Matrix V (eigenvectors as columns):\n",
      " [[0. 1.]\n",
      " [1. 0.]]\n",
      "Diagonal matrix Lambda (eigenvalues on the diagonal):\n",
      " [[2. 0.]\n",
      " [0. 1.]]\n",
      "Matrix V_inverse (inverse of V):\n",
      " [[0. 1.]\n",
      " [1. 0.]]\n"
     ]
    }
   ],
   "source": [
    "# Ensure that the matrix has distinct eigenvalues for eigendecomposition\n",
    "A_eigendecomposition = np.array([[1, 0],\n",
    "                                  [0, 2]])\n",
    "\n",
    "# Calculate eigendecomposition\n",
    "V, Lambda, V_inv = np.linalg.svd(A_eigendecomposition)\n",
    "\n",
    "print(\"Matrix V (eigenvectors as columns):\\n\", V)\n",
    "print(\"Diagonal matrix Lambda (eigenvalues on the diagonal):\\n\", np.diag(Lambda))\n",
    "print(\"Matrix V_inverse (inverse of V):\\n\", V_inv)"
   ]
  }
 ],
 "metadata": {
  "kernelspec": {
   "display_name": "Python 3 (ipykernel)",
   "language": "python",
   "name": "python3"
  },
  "language_info": {
   "codemirror_mode": {
    "name": "ipython",
    "version": 3
   },
   "file_extension": ".py",
   "mimetype": "text/x-python",
   "name": "python",
   "nbconvert_exporter": "python",
   "pygments_lexer": "ipython3",
   "version": "3.11.5"
  },
  "toc": {
   "base_numbering": 1,
   "nav_menu": {},
   "number_sections": true,
   "sideBar": true,
   "skip_h1_title": false,
   "title_cell": "Table of Contents",
   "title_sidebar": "Contents",
   "toc_cell": false,
   "toc_position": {},
   "toc_section_display": true,
   "toc_window_display": false
  }
 },
 "nbformat": 4,
 "nbformat_minor": 5
}
