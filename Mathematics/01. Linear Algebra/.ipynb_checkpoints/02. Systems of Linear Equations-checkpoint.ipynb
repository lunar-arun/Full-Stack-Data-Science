{
 "cells": [
  {
   "cell_type": "markdown",
   "id": "d066a930",
   "metadata": {},
   "source": [
    "    Definition:\n",
    "        A system of linear equations is a collection of linear equations involving the same set of variables. For example, a system of m linear equations in n variables can be written as:\n",
    "        \n",
    "$a_{11} ​ x_1  +a_{12}​ x_2​ +…+a_{1n}​ x_n​ =b_1$\n",
    "\n",
    "$a_{21} ​ x_1  +a_{22}​ x_2​ +…+a_{2n}​ x_n​ =b_2$\n",
    "\n",
    "$.$\n",
    "\n",
    "$.$\n",
    "\n",
    "\n",
    "$a_{m1} ​ x_1  +a_{m2}​ x_2​ +…+a_{mn}​ x_n​ =b_m$   \n",
    "\n",
    "where $a_{ij}$ are coefficients, $x_1, x_2, …, x_n$  are variables, and $b_i$  are constants."
   ]
  },
  {
   "cell_type": "markdown",
   "id": "59093b5a",
   "metadata": {},
   "source": [
    "    Solving Systems of Linear Equations:\n",
    "        There are various methods to solve systems of linear equations. One common approach is using matrix notation Ax=b, \n",
    "        where A is the coefficient matrix, x is the column vector of variables, and b is the column vector of constants."
   ]
  },
  {
   "cell_type": "markdown",
   "id": "674bf8da",
   "metadata": {},
   "source": [
    "$Ax = $\n",
    "$\n",
    "\\begin{bmatrix}\n",
    "a_{11} & a_{12} & … &  a_{1n}\\\\\n",
    "a_{21} & a_{22} & … &  a_{2n}\\\\\n",
    "  .    &   .    & . &    .   \\\\\n",
    "a_{m1} & a_{m2} & … &  a_{mn}\n",
    "\\end{bmatrix}\n",
    "$\n",
    "$\n",
    "\\begin{bmatrix}\n",
    "x_1 \\\\ x_2 \\\\ . \\\\ x_n\\\\\n",
    "\\end{bmatrix}=\n",
    "$\n",
    "$\n",
    "\\begin{bmatrix}\n",
    "b_1 \\\\ b_2 \\\\ . \\\\ b_m\\\\\n",
    "\\end{bmatrix}\n",
    "$"
   ]
  },
  {
   "cell_type": "markdown",
   "id": "bb87255c",
   "metadata": {},
   "source": [
    "    Gaussian Elimination and Matrix Inversion:\n",
    "        One method to solve a system of linear equations is through Gaussian elimination, which transforms the augmented matrix  [A∣b] into row-echelon or reduced row-echelon form. Additionally, matrix inversion can be used to find the solution."
   ]
  },
  {
   "cell_type": "code",
   "execution_count": 1,
   "id": "ae69c86b",
   "metadata": {
    "ExecuteTime": {
     "end_time": "2024-01-19T04:39:45.179576Z",
     "start_time": "2024-01-19T04:39:45.017239Z"
    },
    "scrolled": true
   },
   "outputs": [
    {
     "name": "stdout",
     "output_type": "stream",
     "text": [
      "Solution to the system of linear equations: [2.52173913 1.2173913  0.69565217]\n"
     ]
    }
   ],
   "source": [
    "import numpy as np\n",
    "\n",
    "# Define the coefficient matrix A and the constants vector b\n",
    "A = np.array([[2, 3, -1],\n",
    "              [4, 7, 2],\n",
    "              [1, -1, 1]])\n",
    "\n",
    "b = np.array([8, 20, 2])\n",
    "\n",
    "# Solve the system of linear equations using NumPy\n",
    "solution = np.linalg.solve(A, b)\n",
    "\n",
    "print(\"Solution to the system of linear equations:\", solution)"
   ]
  },
  {
   "cell_type": "markdown",
   "id": "ac39a805",
   "metadata": {},
   "source": [
    "    Understanding Solutions:\n",
    "    Unique Solutions, No Solutions, and Infinitely Many Solutions:\n",
    "        A system has a unique solution if there is exactly one set of values for the variables that satisfies all equations.\n",
    "        \n",
    "        A system has no solution if the equations are inconsistent, and there is no set of values that satisfies all equations simultaneously.\n",
    "        \n",
    "        A system has infinitely many solutions if there are multiple sets of values for the variables that satisfy all equations."
   ]
  },
  {
   "cell_type": "code",
   "execution_count": 2,
   "id": "76ea8528",
   "metadata": {
    "ExecuteTime": {
     "end_time": "2024-01-19T04:53:14.615311Z",
     "start_time": "2024-01-19T04:53:14.518640Z"
    }
   },
   "outputs": [
    {
     "name": "stdout",
     "output_type": "stream",
     "text": [
      "The system has a unique solution.\n"
     ]
    }
   ],
   "source": [
    "# Check if the system has a unique solution, no solution, or infinitely many solutions\n",
    "if np.linalg.matrix_rank(A) == np.linalg.matrix_rank(np.column_stack((A, b))):\n",
    "    if np.linalg.matrix_rank(A) == A.shape[1]:\n",
    "        print(\"The system has a unique solution.\")\n",
    "    else:\n",
    "        print(\"The system has infinitely many solutions.\")\n",
    "else:\n",
    "    print(\"The system has no solution.\")\n"
   ]
  }
 ],
 "metadata": {
  "kernelspec": {
   "display_name": "Python 3 (ipykernel)",
   "language": "python",
   "name": "python3"
  },
  "language_info": {
   "codemirror_mode": {
    "name": "ipython",
    "version": 3
   },
   "file_extension": ".py",
   "mimetype": "text/x-python",
   "name": "python",
   "nbconvert_exporter": "python",
   "pygments_lexer": "ipython3",
   "version": "3.11.5"
  },
  "toc": {
   "base_numbering": 1,
   "nav_menu": {},
   "number_sections": true,
   "sideBar": true,
   "skip_h1_title": false,
   "title_cell": "Table of Contents",
   "title_sidebar": "Contents",
   "toc_cell": false,
   "toc_position": {},
   "toc_section_display": true,
   "toc_window_display": false
  }
 },
 "nbformat": 4,
 "nbformat_minor": 5
}
