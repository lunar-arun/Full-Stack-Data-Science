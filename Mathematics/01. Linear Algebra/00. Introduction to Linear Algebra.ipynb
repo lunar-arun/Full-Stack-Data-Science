{
 "cells": [
  {
   "cell_type": "markdown",
   "id": "8e8c4a57",
   "metadata": {},
   "source": [
    "# Linear algebra    \n",
    "    The study of linear combinations. Where we handle vector spaces, lines and planes and some mappings which require linear transformations.\n",
    "    \n",
    "    So basically the study of vectors and linear functions.\n",
    "    \n",
    "    General Linear Equation\n",
    "$$a_1x_1 + a_2x_2……….+a_nxn = b$$    \n",
    "\n",
    "    Here,\n",
    "        a’s – represents the coefficients\n",
    "        x’s – represents the unknowns\n",
    "        b – represents the constant"
   ]
  },
  {
   "cell_type": "markdown",
   "id": "2111e05d",
   "metadata": {},
   "source": [
    "## Vectors and Vector Spaces\n",
    "\n",
    "    A vector is a quantity or phenomenon that has two independent properties: magnitude and direction.\n",
    "    \n",
    "    \n",
    "> Assume you are engaging in a game of toy automobiles. Every toy car has an arrow on it that indicates the direction it is heading in as well as its speed. The direction and speed of the car's movement are indicated by the arrow. The car's arrows resemble vectors.\n",
    "\n",
    "    Vector Space : a group of objects called vectors, added collectively and multiplied (“scaled”) by numbers.\n",
    "\n",
    "> Imagine for a moment a large play area with plenty of places to park your toy vehicles. Every location has a unique set of rules: the vehicles' arrows can point in any direction from the \"centre spot,\" which is the middle of the play field.\n",
    "Thus, the whole play area including these unique rules resembles a vector space.\n"
   ]
  },
  {
   "cell_type": "markdown",
   "id": "398ef66b",
   "metadata": {},
   "source": [
    "## Matrices\n",
    "    A set of numbers arranged in rows and columns so as to form a rectangular array.\n",
    "> Consider a toy chest that is separated into rows and columns, for instance. You will find a variety of toys in each area of the chest: automobiles are in the first row, dolls are in the second, and stuffed animals are in the third row. Each column denotes a distinct toy category.\n",
    "\n",
    "    In math, this big box with rows and columns full of information is called a matrix."
   ]
  },
  {
   "cell_type": "markdown",
   "id": "06e32980",
   "metadata": {},
   "source": [
    "## Systems of Linear Equations\n",
    "    This involves multiple linear equations with multiple variables.\n",
    "    \n",
    "    Two variable linear equation :\n",
    "    \n",
    "$$2x+3y=7$$ \n",
    "$$4x−2y=10$$\n",
    "\n",
    "    Three variable linear equation :\n",
    "    \n",
    "$$x+y−z=5$$ \n",
    "$$2x−3y+4z=7$$\n",
    "$$3x+2y+z=−2$$\n"
   ]
  },
  {
   "cell_type": "markdown",
   "id": "67a10fb2",
   "metadata": {},
   "source": [
    "## Matrix Decompositions\n",
    "\n",
    "    Refers to the transformation of a given matrix into a given canonical form."
   ]
  },
  {
   "cell_type": "markdown",
   "id": "54c00735",
   "metadata": {},
   "source": [
    "## Eigenvalues and Eigenvectors\n",
    "\n",
    "    Eigenvalues and eigenvectors are only for square matrices. \n",
    "    Eigenvectors are by definition nonzero. \n",
    "    Eigenvalues may be equal to zero. \n",
    "    We do not consider the zero vector to be an eigenvector: \n",
    "    since A 0 = 0 = λ 0 for every scalar λ , the associated eigenvalue would be undefined."
   ]
  }
 ],
 "metadata": {
  "kernelspec": {
   "display_name": "Python 3 (ipykernel)",
   "language": "python",
   "name": "python3"
  },
  "language_info": {
   "codemirror_mode": {
    "name": "ipython",
    "version": 3
   },
   "file_extension": ".py",
   "mimetype": "text/x-python",
   "name": "python",
   "nbconvert_exporter": "python",
   "pygments_lexer": "ipython3",
   "version": "3.11.5"
  },
  "toc": {
   "base_numbering": 1,
   "nav_menu": {},
   "number_sections": true,
   "sideBar": true,
   "skip_h1_title": false,
   "title_cell": "Table of Contents",
   "title_sidebar": "Contents",
   "toc_cell": false,
   "toc_position": {},
   "toc_section_display": true,
   "toc_window_display": false
  },
  "varInspector": {
   "cols": {
    "lenName": 16,
    "lenType": 16,
    "lenVar": 40
   },
   "kernels_config": {
    "python": {
     "delete_cmd_postfix": "",
     "delete_cmd_prefix": "del ",
     "library": "var_list.py",
     "varRefreshCmd": "print(var_dic_list())"
    },
    "r": {
     "delete_cmd_postfix": ") ",
     "delete_cmd_prefix": "rm(",
     "library": "var_list.r",
     "varRefreshCmd": "cat(var_dic_list()) "
    }
   },
   "types_to_exclude": [
    "module",
    "function",
    "builtin_function_or_method",
    "instance",
    "_Feature"
   ],
   "window_display": false
  }
 },
 "nbformat": 4,
 "nbformat_minor": 5
}
