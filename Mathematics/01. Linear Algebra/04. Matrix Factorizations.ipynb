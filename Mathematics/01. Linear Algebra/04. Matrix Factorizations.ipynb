{
 "cells": [
  {
   "cell_type": "markdown",
   "id": "8b0a6232",
   "metadata": {},
   "source": [
    "    Matrix factorizations are essential techniques in linear algebra that represent a matrix as a product of other matrices.\n",
    "    \n",
    "    These factorizations have various applications in numerical algorithms, data analysis, and machine learning. \n",
    "    \n",
    "    Here are a few important matrix factorizations:\n",
    "    \n",
    "### Singular Value Decomposition (SVD):\n",
    "        Definition:\n",
    "            SVD decomposes a matrix A into three matrices \n",
    "    where U and V are orthogonal matrices, and Σ is a diagonal matrix with singular values.\n",
    "    \n",
    "$$ A = U \\Sigma V^T$$"
   ]
  },
  {
   "cell_type": "code",
   "execution_count": 1,
   "id": "cc8e5ea3",
   "metadata": {
    "ExecuteTime": {
     "end_time": "2024-01-19T04:59:48.154712Z",
     "start_time": "2024-01-19T04:59:48.011016Z"
    }
   },
   "outputs": [
    {
     "name": "stdout",
     "output_type": "stream",
     "text": [
      "U matrix:\n",
      " [[-0.21483724  0.88723069  0.40824829]\n",
      " [-0.52058739  0.24964395 -0.81649658]\n",
      " [-0.82633754 -0.38794278  0.40824829]]\n",
      "Sigma matrix:\n",
      " [[1.68481034e+01 0.00000000e+00 0.00000000e+00]\n",
      " [0.00000000e+00 1.06836951e+00 0.00000000e+00]\n",
      " [0.00000000e+00 0.00000000e+00 3.33475287e-16]]\n",
      "Vt matrix:\n",
      " [[-0.47967118 -0.57236779 -0.66506441]\n",
      " [-0.77669099 -0.07568647  0.62531805]\n",
      " [-0.40824829  0.81649658 -0.40824829]]\n"
     ]
    }
   ],
   "source": [
    "import numpy as np\n",
    "\n",
    "# Define a matrix A\n",
    "A = np.array([[1, 2, 3],\n",
    "              [4, 5, 6],\n",
    "              [7, 8, 9]])\n",
    "\n",
    "# Perform SVD\n",
    "U, Sigma, Vt = np.linalg.svd(A)\n",
    "\n",
    "print(\"U matrix:\\n\", U)\n",
    "print(\"Sigma matrix:\\n\", np.diag(Sigma))\n",
    "print(\"Vt matrix:\\n\", Vt)"
   ]
  },
  {
   "cell_type": "markdown",
   "id": "1a21c900",
   "metadata": {},
   "source": [
    "### LU Decomposition\n",
    "\n",
    "    Definition:\n",
    "        LU decomposition factorizes a matrix A into the product of a lower triangular matrix L and an upper triangular matrix U.       \n",
    "$$ A = LU$$"
   ]
  },
  {
   "cell_type": "code",
   "execution_count": 3,
   "id": "4712d23f",
   "metadata": {
    "ExecuteTime": {
     "end_time": "2024-01-19T05:01:59.844290Z",
     "start_time": "2024-01-19T05:01:59.125707Z"
    }
   },
   "outputs": [
    {
     "name": "stdout",
     "output_type": "stream",
     "text": [
      "P matrix (permutation matrix):\n",
      " [[0. 1. 0.]\n",
      " [0. 0. 1.]\n",
      " [1. 0. 0.]]\n",
      "L matrix (lower triangular matrix):\n",
      " [[1.         0.         0.        ]\n",
      " [0.14285714 1.         0.        ]\n",
      " [0.57142857 0.5        1.        ]]\n",
      "U matrix (upper triangular matrix):\n",
      " [[ 7.00000000e+00  8.00000000e+00  9.00000000e+00]\n",
      " [ 0.00000000e+00  8.57142857e-01  1.71428571e+00]\n",
      " [ 0.00000000e+00  0.00000000e+00 -1.58603289e-16]]\n"
     ]
    }
   ],
   "source": [
    "import scipy\n",
    "# Perform LU decomposition\n",
    "P, L, U = scipy.linalg.lu(A)\n",
    "\n",
    "print(\"P matrix (permutation matrix):\\n\", P)\n",
    "print(\"L matrix (lower triangular matrix):\\n\", L)\n",
    "print(\"U matrix (upper triangular matrix):\\n\", U)"
   ]
  },
  {
   "cell_type": "markdown",
   "id": "121cc2cc",
   "metadata": {},
   "source": [
    "### Cholesky Decomposition:\n",
    "\n",
    "    Definition:\n",
    "        Cholesky decomposition factorizes a symmetric positive definite matrix A into the product of a lower triangular matrix L and its transpose L.\n",
    "$$ A = LL^T$$"
   ]
  },
  {
   "cell_type": "code",
   "execution_count": 4,
   "id": "deeacbe0",
   "metadata": {
    "ExecuteTime": {
     "end_time": "2024-01-19T05:03:24.722642Z",
     "start_time": "2024-01-19T05:03:24.709630Z"
    }
   },
   "outputs": [
    {
     "name": "stdout",
     "output_type": "stream",
     "text": [
      "Matrix A is not symmetric positive definite.\n"
     ]
    }
   ],
   "source": [
    "# Check if the matrix A is symmetric positive definite\n",
    "is_symmetric_positive_definite = np.all(np.linalg.eigvals(A) > 0)\n",
    "\n",
    "if is_symmetric_positive_definite:\n",
    "    # Perform Cholesky decomposition\n",
    "    L = np.linalg.cholesky(A)\n",
    "\n",
    "    print(\"L matrix (lower triangular matrix):\\n\", L)\n",
    "else:\n",
    "    print(\"Matrix A is not symmetric positive definite.\")"
   ]
  }
 ],
 "metadata": {
  "kernelspec": {
   "display_name": "Python 3 (ipykernel)",
   "language": "python",
   "name": "python3"
  },
  "language_info": {
   "codemirror_mode": {
    "name": "ipython",
    "version": 3
   },
   "file_extension": ".py",
   "mimetype": "text/x-python",
   "name": "python",
   "nbconvert_exporter": "python",
   "pygments_lexer": "ipython3",
   "version": "3.11.5"
  },
  "toc": {
   "base_numbering": 1,
   "nav_menu": {},
   "number_sections": true,
   "sideBar": true,
   "skip_h1_title": false,
   "title_cell": "Table of Contents",
   "title_sidebar": "Contents",
   "toc_cell": false,
   "toc_position": {},
   "toc_section_display": true,
   "toc_window_display": false
  }
 },
 "nbformat": 4,
 "nbformat_minor": 5
}
