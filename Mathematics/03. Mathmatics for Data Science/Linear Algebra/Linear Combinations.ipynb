{
 "cells": [
  {
   "cell_type": "markdown",
   "id": "5f20e03a",
   "metadata": {},
   "source": [
    "## Vectors & Matrices"
   ]
  },
  {
   "cell_type": "markdown",
   "id": "0e74ce22",
   "metadata": {},
   "source": [
    "    Matrix is a rectangular array of numbers, symbols, points, or characters each belonging to a specific row and column.\n",
    "    \n",
    "    Order : rows ⨯ and columns\n",
    "    Denoted : [P]m⨯n where P -> matrix, m -> rows, n -> columns"
   ]
  },
  {
   "cell_type": "markdown",
   "id": "9c2c7905",
   "metadata": {},
   "source": [
    "### Operation on Matrices"
   ]
  },
  {
   "cell_type": "code",
   "execution_count": 3,
   "id": "42d81790",
   "metadata": {},
   "outputs": [
    {
     "name": "stdout",
     "output_type": "stream",
     "text": [
      "[[ 3  5]\n",
      " [10 12]]\n"
     ]
    }
   ],
   "source": [
    "# Addition of Matrices\n",
    "\n",
    "import numpy as np\n",
    "\n",
    "# Define the two matrices\n",
    "matrix1 = np.array([[1, 2], [4, 5]])\n",
    "matrix2 = np.array([[2, 3], [6, 7]])\n",
    "\n",
    "# Calculate the sum of the matrices\n",
    "result_matrix = matrix1 + matrix2\n",
    "\n",
    "# Print the result\n",
    "print(result_matrix)"
   ]
  },
  {
   "cell_type": "code",
   "execution_count": 4,
   "id": "8e6ee861",
   "metadata": {},
   "outputs": [
    {
     "name": "stdout",
     "output_type": "stream",
     "text": [
      "[[-1 -1]\n",
      " [-2 -2]]\n"
     ]
    }
   ],
   "source": [
    "# Subtraction of Matrices\n",
    "\n",
    "matrix1 = np.array([[1, 2], [4, 5]])\n",
    "matrix2 = np.array([[2, 3], [6, 7]])\n",
    "\n",
    "# Calculate the sum of the matrices\n",
    "result_matrix = matrix1 - matrix2\n",
    "\n",
    "# Print the result\n",
    "print(result_matrix)"
   ]
  },
  {
   "cell_type": "code",
   "execution_count": 5,
   "id": "75f43b81",
   "metadata": {},
   "outputs": [
    {
     "name": "stdout",
     "output_type": "stream",
     "text": [
      "[[2 4]\n",
      " [6 8]]\n"
     ]
    }
   ],
   "source": [
    "# Scalar Multiplication of Matrices\n",
    "\n",
    "# Define a matrix\n",
    "matrix = np.array([[1, 2], [3, 4]])\n",
    "\n",
    "# Define a scalar\n",
    "scalar = 2\n",
    "\n",
    "# Perform scalar multiplication using the * operator\n",
    "result_matrix = scalar * matrix\n",
    "\n",
    "# Print the result\n",
    "print(result_matrix)"
   ]
  },
  {
   "cell_type": "code",
   "execution_count": 8,
   "id": "80be9fc9",
   "metadata": {},
   "outputs": [
    {
     "name": "stdout",
     "output_type": "stream",
     "text": [
      "[[19 22]\n",
      " [43 50]]\n",
      "A @ B : \n",
      " [[19 22]\n",
      " [43 50]]\n"
     ]
    }
   ],
   "source": [
    "# Multiplication of Matrices\n",
    "\n",
    "# Define matrix A\n",
    "A = np.array([[1, 2], [3, 4]])\n",
    "\n",
    "# Define matrix B\n",
    "B = np.array([[5, 6], [7, 8]])\n",
    "\n",
    "# Perform matrix multiplication using np.dot()\n",
    "result_matrix = np.dot(A, B)\n",
    "\n",
    "# Print the result\n",
    "print(result_matrix)\n",
    "\n",
    "print(\"A @ B : \\n\", A @ B)"
   ]
  },
  {
   "cell_type": "markdown",
   "id": "ed266f51",
   "metadata": {},
   "source": [
    "    Properties of Matrix Addition and Multiplication\n",
    "        The properties followed by Multiplication and Addition of Matrices is listed below:\n",
    "\n",
    "        (A + B) = (B + A) (Commutative)\n",
    "        (A + B) + C = A + (B + C) (Associative)\n",
    "        (AB) ≠ (BA) (Not Commutative)\n",
    "        (AB) C = A (BC) (Associative)\n",
    "        (A (B+C)) = (AB + AC) (Distributive)"
   ]
  },
  {
   "cell_type": "code",
   "execution_count": 9,
   "id": "f60fb1f5",
   "metadata": {},
   "outputs": [
    {
     "name": "stdout",
     "output_type": "stream",
     "text": [
      "Before transpose : \n",
      " [[1 2]\n",
      " [3 4]]\n",
      "After transpose : \n",
      " [[1 3]\n",
      " [2 4]]\n"
     ]
    }
   ],
   "source": [
    "# Transpose of Matrix\n",
    "\n",
    "# Define matrix A\n",
    "A = np.array([[1, 2], [3, 4]])\n",
    "\n",
    "print('Before transpose : \\n',A)\n",
    "\n",
    "# Find the transpose of A using the .T attribute\n",
    "A_transpose = A.T\n",
    "\n",
    "print('After transpose : \\n',A_transpose)"
   ]
  },
  {
   "cell_type": "markdown",
   "id": "59d091af",
   "metadata": {},
   "source": [
    "    Properties of the Transpose of a Matrix\n",
    "\n",
    "        The properties of the transpose of a matrix are mentioned below:\n",
    "\n",
    "        (AT)T = A\n",
    "        (A+B)T = AT + BT\n",
    "        (AB)T = BTAT"
   ]
  },
  {
   "cell_type": "code",
   "execution_count": 10,
   "id": "6ff1d608",
   "metadata": {},
   "outputs": [
    {
     "name": "stdout",
     "output_type": "stream",
     "text": [
      "15\n"
     ]
    }
   ],
   "source": [
    "# Trace of Matrix\n",
    "\n",
    "# Define a square matrix A\n",
    "A = np.array([[1, 2, 3],\n",
    "              [4, 5, 6],\n",
    "              [7, 8, 9]])\n",
    "\n",
    "# Calculate the trace of A using np.trace()\n",
    "trace_A = np.trace(A)\n",
    "\n",
    "# Print the result\n",
    "print(trace_A)# 1+5+9 = 15"
   ]
  },
  {
   "cell_type": "markdown",
   "id": "873468cc",
   "metadata": {},
   "source": [
    "    Determinant of a Matrix\n",
    "    \n",
    "    A =  [[a b]\n",
    "          [c d]]\n",
    "\n",
    "    Then, the determinant is of A is |A| = ad – bc"
   ]
  },
  {
   "cell_type": "code",
   "execution_count": 12,
   "id": "bfc6ccd6",
   "metadata": {},
   "outputs": [
    {
     "name": "stdout",
     "output_type": "stream",
     "text": [
      "-2.0000000000000004\n"
     ]
    }
   ],
   "source": [
    "# Define a square matrix A\n",
    "A = np.array([[1, 2],\n",
    "              [3, 4]])\n",
    "\n",
    "# Calculate the determinant of A using np.linalg.det()\n",
    "determinant_A = np.linalg.det(A)\n",
    "\n",
    "# Print the result\n",
    "print(determinant_A)"
   ]
  },
  {
   "cell_type": "markdown",
   "id": "630d5b1c",
   "metadata": {},
   "source": [
    "             [[1, 2, 3],\n",
    "              [4, 5, 6],\n",
    "              [7, 8, 9]]"
   ]
  },
  {
   "cell_type": "code",
   "execution_count": null,
   "id": "29bc88b4",
   "metadata": {},
   "outputs": [],
   "source": []
  },
  {
   "cell_type": "code",
   "execution_count": 14,
   "id": "95a875c6",
   "metadata": {},
   "outputs": [],
   "source": [
    "# Cofactor of Matrix"
   ]
  },
  {
   "cell_type": "code",
   "execution_count": 13,
   "id": "1bfb25a7",
   "metadata": {},
   "outputs": [
    {
     "name": "stdout",
     "output_type": "stream",
     "text": [
      "[[ -3.   6.  -3.]\n",
      " [  6. -12.   6.]\n",
      " [ -3.   6.  -3.]]\n"
     ]
    }
   ],
   "source": [
    "# Adjoint of a Matrix\n",
    "\n",
    "# Define a square matrix A\n",
    "A = np.array([[1, 2, 3],\n",
    "              [4, 5, 6],\n",
    "              [7, 8, 9]])\n",
    "\n",
    "# Calculate the cofactor matrix\n",
    "cofactor_matrix = np.linalg.inv(A).T * np.linalg.det(A)\n",
    "\n",
    "# Find the adjoint by transposing the cofactor matrix\n",
    "adjoint_A = cofactor_matrix.T\n",
    "\n",
    "# Print the result\n",
    "print(adjoint_A)"
   ]
  },
  {
   "cell_type": "markdown",
   "id": "3883a4fd",
   "metadata": {},
   "source": [
    "    Properties of Adjoint of Matrix\n",
    "    The properties of the Adjoint of a matrix are mentioned below:\n",
    "\n",
    "    A(Adj A) = (Adj A) A = |A| In\n",
    "    Adj(AB) = (Adj B) . (Adj A)\n",
    "    |Adj A| = |A|n-1\n",
    "    Adj(kA) = kn-1 Adj(A)\n",
    "    |adj(adj(A))| = |A| ^ (n-1) ^ 2 \n",
    "    adj(adj(A)) = |A|(n-2) × A\n",
    "    If A = [L,M,N] then adj(A) = [MN, LN, LM]\n",
    "    adj(I) = I {where I is Identity Matrix}"
   ]
  },
  {
   "cell_type": "code",
   "execution_count": 15,
   "id": "85e33329",
   "metadata": {},
   "outputs": [
    {
     "name": "stdout",
     "output_type": "stream",
     "text": [
      "[[-24.  18.   5.]\n",
      " [ 20. -15.  -4.]\n",
      " [ -5.   4.   1.]]\n"
     ]
    }
   ],
   "source": [
    "# Inverse of a Matrix\n",
    "\n",
    "# Define a square matrix A\n",
    "A = np.array([[1, 2, 3],\n",
    "              [0, 1, 4],\n",
    "              [5, 6, 0]])\n",
    "\n",
    "# Calculate the inverse of A using np.linalg.inv()\n",
    "inverse_A = np.linalg.inv(A)\n",
    "\n",
    "# Print the result\n",
    "print(inverse_A)"
   ]
  },
  {
   "cell_type": "markdown",
   "id": "856f1b71",
   "metadata": {},
   "source": [
    "    A^-1 = adj(A)/det(A)\n",
    "    \n",
    "    Properties Inverse of Matrix\n",
    "    (A-1)-1 = A \n",
    "    (AB)-1 = B-1A-1 \n",
    "    only a non-singular square matrix can have an inverse. "
   ]
  }
 ],
 "metadata": {
  "kernelspec": {
   "display_name": "Python 3 (ipykernel)",
   "language": "python",
   "name": "python3"
  },
  "language_info": {
   "codemirror_mode": {
    "name": "ipython",
    "version": 3
   },
   "file_extension": ".py",
   "mimetype": "text/x-python",
   "name": "python",
   "nbconvert_exporter": "python",
   "pygments_lexer": "ipython3",
   "version": "3.11.5"
  },
  "toc": {
   "base_numbering": 1,
   "nav_menu": {},
   "number_sections": true,
   "sideBar": true,
   "skip_h1_title": false,
   "title_cell": "Table of Contents",
   "title_sidebar": "Contents",
   "toc_cell": false,
   "toc_position": {},
   "toc_section_display": true,
   "toc_window_display": false
  },
  "varInspector": {
   "cols": {
    "lenName": 16,
    "lenType": 16,
    "lenVar": 40
   },
   "kernels_config": {
    "python": {
     "delete_cmd_postfix": "",
     "delete_cmd_prefix": "del ",
     "library": "var_list.py",
     "varRefreshCmd": "print(var_dic_list())"
    },
    "r": {
     "delete_cmd_postfix": ") ",
     "delete_cmd_prefix": "rm(",
     "library": "var_list.r",
     "varRefreshCmd": "cat(var_dic_list()) "
    }
   },
   "types_to_exclude": [
    "module",
    "function",
    "builtin_function_or_method",
    "instance",
    "_Feature"
   ],
   "window_display": false
  }
 },
 "nbformat": 4,
 "nbformat_minor": 5
}
