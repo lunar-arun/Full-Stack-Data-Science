{
 "cells": [
  {
   "cell_type": "markdown",
   "id": "549bf180",
   "metadata": {},
   "source": [
    "    Inferential statistics is a branch of statistics that enables you to make predictions, inferences, and decisions about populations based on sample data. It involves hypothesis testing, estimating population parameters, and drawing conclusions from data. Python offers various libraries, such as NumPy, SciPy, and statsmodels, to perform inferential statistics. \n",
    "    \n",
    "     Sampling:\n",
    "     \n",
    "        Population: The entire group you are interested in studying.\n",
    "        Sample: A subset of the population used for analysis."
   ]
  },
  {
   "cell_type": "code",
   "execution_count": null,
   "id": "0053b9da",
   "metadata": {},
   "outputs": [],
   "source": []
  },
  {
   "cell_type": "markdown",
   "id": "ddd892f5",
   "metadata": {},
   "source": [
    "    2. Hypothesis Testing:\n",
    "\n",
    "        Null Hypothesis (H0): A statement that there is no effect or difference.\n",
    "        Alternative Hypothesis (Ha or H1): A statement that contradicts the null hypothesis.\n",
    "        Significance Level (Alpha, α): The threshold for determining statistical significance (e.g., 0.05).\n",
    "        p-value: A probability value that quantifies evidence against the null hypothesis."
   ]
  },
  {
   "cell_type": "code",
   "execution_count": null,
   "id": "10fea3af",
   "metadata": {},
   "outputs": [],
   "source": []
  }
 ],
 "metadata": {
  "kernelspec": {
   "display_name": "Python 3 (ipykernel)",
   "language": "python",
   "name": "python3"
  },
  "language_info": {
   "codemirror_mode": {
    "name": "ipython",
    "version": 3
   },
   "file_extension": ".py",
   "mimetype": "text/x-python",
   "name": "python",
   "nbconvert_exporter": "python",
   "pygments_lexer": "ipython3",
   "version": "3.10.9"
  }
 },
 "nbformat": 4,
 "nbformat_minor": 5
}
