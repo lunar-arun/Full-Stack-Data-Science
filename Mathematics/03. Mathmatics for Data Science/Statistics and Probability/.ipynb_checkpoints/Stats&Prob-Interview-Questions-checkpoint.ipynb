{
 "cells": [
  {
   "cell_type": "markdown",
   "id": "c0b6ae1c",
   "metadata": {},
   "source": [
    "    Difference between descriptive and inferential statistics?\n",
    "        \n",
    "        Descriptive Statistics : \n",
    "            describe and summarize data.\n",
    "            understand identify main features of a dataset.\n",
    "            involve techniques like measure of central tendency , measure of dispersion and uses graphical representations\n",
    "            \n",
    "            Objective : describe, present and understand for easier interpretation and draw initial insight.\n",
    "            \n",
    "        Inferential Statistics :\n",
    "            drawing conclusions or making generalizations based on observed data.\n",
    "            include techniques such as hypothesis testing, confidence intervals, and regression analysis.\n",
    "            \n",
    "            Objective : draw meaningful conclusion, make prediction, test hypotheses or \n",
    "            evaluate relationships between variables. "
   ]
  },
  {
   "cell_type": "markdown",
   "id": "898acd22",
   "metadata": {},
   "source": [
    "    what is measure of central tendency and when to use each of them?\n",
    "    \n",
    "        It's statistical measures that indicate where the center, or \"typical\" value, of a data distribution lies.\n",
    "        \n",
    "        Mean : Representation of entire data!\n",
    "        Median : Middle value of ordered data.\n",
    "        Mode : Most repreated value."
   ]
  },
  {
   "cell_type": "markdown",
   "id": "ddeb296a",
   "metadata": {},
   "source": [
    "    What is Population and Sample?\n",
    "        Population : Refers to the total amount in the space.\n",
    "        Sample : Refers to the small part of the popluation, that is used for study.\n",
    "        \n",
    "     Sample size : total amount of things in a sample."
   ]
  },
  {
   "cell_type": "markdown",
   "id": "426d4e32",
   "metadata": {},
   "source": [
    "    what are the measure of dispersion?\n",
    "        Measures of variability or spread, quantify how spread out or scattered the values in a dataset are.\n",
    "        \n",
    "        Range : How much room does a distribution takes. (Max - Min)            \n",
    "        Variance : Speaks about overallspread\n",
    "        Standard Deviation : Speaks about individual spread"
   ]
  },
  {
   "cell_type": "markdown",
   "id": "4750c618",
   "metadata": {},
   "source": [
    "    what is Coefficient of Variation (CV)?\n",
    "        Provides a relative measure of variation, allowing for comparisons between datasets with different units.\n",
    "        \n",
    "        Formula: CV = (Standard Deviation / Mean) × 100%\n",
    "        \n",
    "        Used to : comparing the relative variability of different datasets."
   ]
  },
  {
   "cell_type": "markdown",
   "id": "1ebbc472",
   "metadata": {},
   "source": [
    "    What is Cental Limit Theorem?\n",
    "        In a large random sample from a popluation with replacement of mean and s.d, the distribution of sample mean is normal distributed approximatily."
   ]
  },
  {
   "cell_type": "markdown",
   "id": "eac4e791",
   "metadata": {},
   "source": [
    "    what is bessel's correction?\n",
    "        It's an approach to reduce the bias due to finite sampling."
   ]
  },
  {
   "cell_type": "markdown",
   "id": "1bb71f04",
   "metadata": {},
   "source": [
    "    What is the difference between a parametric and non-parametric statistical test?\n",
    "            \n",
    "            Parametric Tests: \n",
    "                Assume normal probability distribution for population.\n",
    "                Used with continuous data.\n",
    "                estimates of population parameters\n",
    "                \n",
    "                t-test, ANOVA, Pearson correlation\n",
    "                \n",
    "            Non-Parametric Tests:\n",
    "                No assumptions about the underlying population distribution.\n",
    "                Used when dealing with ordinal, categorical, or non-continuous data.\n",
    "                focus on rankings or medians.\n",
    "                \n",
    "                Wilcoxon signed-rank test, Spearman rank correlation."
   ]
  },
  {
   "cell_type": "markdown",
   "id": "ccfb0996",
   "metadata": {},
   "source": [
    "    What is standard deviation and standard error?\n",
    "        \n",
    "        S.D : quantify how much the measurements are spread around the mean.\n",
    "        S.E : Its's the standard deviation of the means.\n",
    "        \n",
    "        Standard Error : Describe the variability across multiple samples of population."
   ]
  },
  {
   "cell_type": "markdown",
   "id": "7e16e596",
   "metadata": {},
   "source": [
    "    what is Five number summary?\n",
    "        Gives information about the location(from median), spread (from quartiles) and \n",
    "        the range(from min and max) of the observations.\n",
    "        \n",
    "        min\n",
    "        lower quartile Q1(25 percentile)\n",
    "        median\n",
    "        upper quartile Q3(75 percentile)\n",
    "        max"
   ]
  },
  {
   "cell_type": "markdown",
   "id": "f43ac04c",
   "metadata": {},
   "source": [
    "    what is skewness and kurtosis?\n",
    "    \n",
    "        Skewness : Talks about the asymmetric nature of the distribution.\n",
    "        \n",
    "        Kurtosis : Talks about the flatness of the bell curve."
   ]
  },
  {
   "cell_type": "markdown",
   "id": "862af6bf",
   "metadata": {},
   "source": [
    "    what are covariance and correlation?\n",
    "        Both are the measure of relationship between two variable.\n",
    "        \n",
    "        Covariance : States the relationship bwteen two variable.\n",
    "        \n",
    "        Correlation : States how much two variable are related."
   ]
  },
  {
   "cell_type": "markdown",
   "id": "6a67e2bb",
   "metadata": {},
   "source": [
    "    What is  a normal distribution. What are its characteristics?\n",
    "        \n",
    "        Describe the tendency for the data to cluster around a central value.\n",
    "        Also known as a Gaussian distribution.\n",
    "        \n",
    "            Characteristics :\n",
    "                Symmetry about mean | Bell-shaped Curved | mean = median = mode | 68-95-99.7 Rule (Empirical Rule)"
   ]
  },
  {
   "cell_type": "markdown",
   "id": "61092547",
   "metadata": {},
   "source": [
    "    what are sampling techniques?\n",
    "        This is used to select subset of data point to manipulate and analyze to find patterns and trends in large data.\n",
    "        \n",
    "        Simple Random Sampling(random selection)\n",
    "            With Repetition\n",
    "            Without Repetition\n",
    "        \n",
    "        Stratified Sampling(Parse population based on certain characteristic)\n",
    "        \n",
    "        Systematic Sampling(selecting in regular interval)"
   ]
  },
  {
   "cell_type": "markdown",
   "id": "a4b174e6",
   "metadata": {},
   "source": [
    "    Difference between Probability and Likelihood?\n",
    "    \n",
    "        Probability : \n",
    "            Measure of the likelihood of an event to occur.\n",
    "            quantifies the chances of future events.\n",
    "            used for predictions and to describe random processes.\n",
    "            \n",
    "        Likelihood : \n",
    "            Refers to the process of determining the best data distribution given a specific situation in the data.\n",
    "            quantifies the agreement between observed data and a model's parameter values.\n",
    "            used estimate model parameters based on how well they explain observed data.\n",
    "            \n",
    "        Probability provides answers in terms of the likelihood of an event occurring, while likelihood provides answers about the likelihood of model parameters given observed data."
   ]
  },
  {
   "cell_type": "markdown",
   "id": "9c7db6c9",
   "metadata": {},
   "source": [
    "    what is trial and event?\n",
    "        Trial : Experiment which is conducted.\n",
    "        Event : Outcomes of the conducted experiment."
   ]
  },
  {
   "cell_type": "markdown",
   "id": "8913b2ea",
   "metadata": {},
   "source": [
    "    What are they of events?\n",
    "        Exhaustive Event\n",
    "        Mutually Exclusive Event\n",
    "        Equally Likely Event\n",
    "        Independent Event\n",
    "        Favourable Event"
   ]
  },
  {
   "cell_type": "markdown",
   "id": "f8c7e9c0",
   "metadata": {},
   "source": [
    "    Hypothesis testing :\n",
    "        Claims whether the sample is drawn from popluation or not!"
   ]
  },
  {
   "cell_type": "markdown",
   "id": "56960d04",
   "metadata": {},
   "source": [
    "    Describe the difference between Type I and Type II errors in hypothesis testing.\n",
    "        what is alpha errors and beta errors\n",
    "        \n",
    "            Type I Error (False Positive) :\n",
    "                Reject the null hypothesis (H0) when it is actually true.\n",
    "                Denoted as α (alpha)\n",
    "                \n",
    "            Type II Error (False Negative):\n",
    "                Fail to reject the null hypothesis (H0) when it is actually false.\n",
    "                Denoted as β (beta)"
   ]
  },
  {
   "cell_type": "markdown",
   "id": "8740e530",
   "metadata": {},
   "source": []
  }
 ],
 "metadata": {
  "kernelspec": {
   "display_name": "Python 3 (ipykernel)",
   "language": "python",
   "name": "python3"
  },
  "language_info": {
   "codemirror_mode": {
    "name": "ipython",
    "version": 3
   },
   "file_extension": ".py",
   "mimetype": "text/x-python",
   "name": "python",
   "nbconvert_exporter": "python",
   "pygments_lexer": "ipython3",
   "version": "3.10.9"
  }
 },
 "nbformat": 4,
 "nbformat_minor": 5
}
