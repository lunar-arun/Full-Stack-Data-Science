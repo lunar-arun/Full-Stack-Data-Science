{
 "cells": [
  {
   "cell_type": "markdown",
   "id": "c0b6ae1c",
   "metadata": {},
   "source": [
    "    Difference between descriptive and inferential statistics?\n",
    "        \n",
    "        Descriptive Statistics : \n",
    "            describe and summarize data.\n",
    "            understand identify main features of a dataset.\n",
    "            involve techniques like measure of central tendency , measure of dispersion and uses graphical representations\n",
    "            \n",
    "            Objective : describe, present and understand for easier interpretation and draw initial insight.\n",
    "            \n",
    "        Inferential Statistics :\n",
    "            drawing conclusions or making generalizations based on observed data.\n",
    "            include techniques such as hypothesis testing, confidence intervals, and regression analysis.\n",
    "            \n",
    "            Objective : draw meaningful conclusion, make prediction, test hypotheses or \n",
    "            evaluate relationships between variables. "
   ]
  },
  {
   "cell_type": "markdown",
   "id": "898acd22",
   "metadata": {},
   "source": [
    "    what is measure of central tendency and when to use each of them?\n",
    "    \n",
    "        It's statistical measures that indicate where the center, or \"typical\" value, of a data distribution lies.\n",
    "        \n",
    "        Mean : Representation of entire data!\n",
    "        Median : Middle value of ordered data.\n",
    "        Mode : Most repreated value."
   ]
  },
  {
   "cell_type": "markdown",
   "id": "ddeb296a",
   "metadata": {},
   "source": [
    "    What is Population and Sample?\n",
    "        Population : Refers to the total amount in the space.\n",
    "        Sample : Refers to the small part of the popluation, that is used for study.\n",
    "        \n",
    "     Sample size : total amount of things in a sample."
   ]
  },
  {
   "cell_type": "markdown",
   "id": "426d4e32",
   "metadata": {},
   "source": [
    "    what are the measure of dispersion?\n",
    "        Measures of variability or spread, quantify how spread out or scattered the values in a dataset are.\n",
    "        \n",
    "        Range : How much room does a distribution takes. (Max - Min)            \n",
    "        Variance : Speaks about overallspread\n",
    "        Standard Deviation : Speaks about individual spread"
   ]
  },
  {
   "cell_type": "markdown",
   "id": "1ebbc472",
   "metadata": {},
   "source": [
    "    What is Cental Limit Theorem?\n",
    "        In a large random sample from a popluation with replacement of mean and s.d, the distribution of sample mean is normal distributed approximatily."
   ]
  },
  {
   "cell_type": "markdown",
   "id": "eac4e791",
   "metadata": {},
   "source": [
    "    what is bessel's correction?\n",
    "        It's an approach to reduce the bias due to finite sampling."
   ]
  },
  {
   "cell_type": "markdown",
   "id": "1bb71f04",
   "metadata": {},
   "source": [
    "    What is the difference between a parametric and non-parametric statistical test?\n",
    "    "
   ]
  },
  {
   "cell_type": "markdown",
   "id": "ccfb0996",
   "metadata": {},
   "source": []
  },
  {
   "cell_type": "markdown",
   "id": "4750c618",
   "metadata": {},
   "source": []
  },
  {
   "cell_type": "markdown",
   "id": "7e16e596",
   "metadata": {},
   "source": []
  },
  {
   "cell_type": "markdown",
   "id": "f43ac04c",
   "metadata": {},
   "source": []
  },
  {
   "cell_type": "markdown",
   "id": "862af6bf",
   "metadata": {},
   "source": []
  },
  {
   "cell_type": "markdown",
   "id": "6a67e2bb",
   "metadata": {},
   "source": []
  },
  {
   "cell_type": "markdown",
   "id": "61092547",
   "metadata": {},
   "source": []
  },
  {
   "cell_type": "markdown",
   "id": "f8c7e9c0",
   "metadata": {},
   "source": []
  }
 ],
 "metadata": {
  "kernelspec": {
   "display_name": "Python 3 (ipykernel)",
   "language": "python",
   "name": "python3"
  },
  "language_info": {
   "codemirror_mode": {
    "name": "ipython",
    "version": 3
   },
   "file_extension": ".py",
   "mimetype": "text/x-python",
   "name": "python",
   "nbconvert_exporter": "python",
   "pygments_lexer": "ipython3",
   "version": "3.10.9"
  }
 },
 "nbformat": 4,
 "nbformat_minor": 5
}
