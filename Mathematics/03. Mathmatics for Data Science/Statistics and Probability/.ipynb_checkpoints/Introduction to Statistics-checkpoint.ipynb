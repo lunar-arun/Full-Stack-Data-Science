{
 "cells": [
  {
   "cell_type": "markdown",
   "id": "ff473ab7",
   "metadata": {},
   "source": [
    "# Basic Concept"
   ]
  },
  {
   "cell_type": "markdown",
   "id": "4dbff8c8",
   "metadata": {},
   "source": [
    "    Statistics : It's a branch of mathematics and a scientific discipline that deals with the collection, analysis, interpretation, presentation, and organization of data.\n",
    "                 A science dealing with the collection,analysis, interpretation, and presentation of numerical data.\n",
    "\n",
    "    Two branch of Statistics [Descriptive Statistic] [Inferential Statistics]\n",
    "    \n",
    "    Understanding\n",
    "        Population : a collection of persons, objects, or items of interest.\n",
    "            Gather of data from the whole population for a given measurement of interest, it's also called census.\n",
    "            \n",
    "        Sample : a portion from the whole population.\n",
    "        \n",
    "        \n",
    "            Descriptive Statistics:\n",
    "                Using data gathered on a group to describe or reach conclusions about that same group.\n",
    "                \n",
    "                Measures of Central Tendency:\n",
    "        \n",
    "                    Mean (average)\n",
    "                    Median (middle value)\n",
    "                    Mode (most frequent value)\n",
    "            \n",
    "                Measures of Dispersion:\n",
    "        \n",
    "                    Range (difference between the maximum and minimum values)\n",
    "                    Variance\n",
    "                    Standard Deviation\n",
    "                    Interquartile Range (IQR)\n",
    "            \n",
    "                Frequency Distributions and Histograms\n",
    "                \n",
    "               \n",
    "            Inferential Statistics:\n",
    "                Researcher gathers data from a sample and uses the statistics generated to reach conclusions about the population from which the sample was taken.\n",
    "                \n",
    "                Parameter : a descriptive measure of the population.\n",
    "                \n",
    "                Statistic : a descriptive measure of a sample.\n",
    "                \n",
    "                Importance of parameter and statistic is only in the use of inferential statistics."
   ]
  },
  {
   "cell_type": "markdown",
   "id": "1611ae64",
   "metadata": {},
   "source": [
    "# Data Measurement"
   ]
  },
  {
   "cell_type": "markdown",
   "id": "d090dae2",
   "metadata": {},
   "source": [
    "    Data are observations or measurements (unprocessed or processed) represented as text, numbers, or multimedia.\n",
    "\n",
    "    A dataset is a structured collection of data generally associated with a unique body of work.\n",
    "\n",
    "    A database is an organized collection of data stored as multiple datasets.\n",
    "    \n",
    "    \n",
    "    Four levels of data measurement as follow.\n",
    "        1. Nominal\n",
    "        2. Ordinal\n",
    "        3. Interval\n",
    "        4. Ratio\n",
    "        \n",
    "        \n",
    "    Nominal Level : [lowest level of data measurement].[used only to classify or categorize]\n",
    "    \n",
    "    Ordinal Level : [used to rank or order objects]\n",
    "        Satisfaction or Agreement:\n",
    "        [Very Dissatisfied, Dissatisfied, Neutral, Satisfied, Very Satisfied]\n",
    "        [Strongly Disagree, Disagree, Neutral, Agree, Strongly Agree]\n",
    "        [-2, -1, 0, 1, 2]\n",
    "    \n",
    "    Interval Level : \n",
    "    \n",
    "    Ration Level : "
   ]
  },
  {
   "cell_type": "markdown",
   "id": "677e5ed1",
   "metadata": {},
   "source": [
    "    Statistical techniques [parametric statistics].[nonparametric statistics]\n",
    "    \n",
    "        Parametric statistics : require that data be interval or ratio.\n",
    "        \n",
    "        Nonparametric statistics : require that data be nominal or ordinal."
   ]
  },
  {
   "cell_type": "markdown",
   "id": "0411f023",
   "metadata": {},
   "source": [
    "# Charts and Graphs"
   ]
  },
  {
   "cell_type": "markdown",
   "id": "e5092055",
   "metadata": {},
   "source": [
    "    Frequency Distributions\n",
    "        A summary of data presented in the form of class intervals and frequencies.\n",
    "        \n",
    "            Range : difference between the largest and smallest numbers.\n",
    "        \n",
    "        Converting ungrouped data to group data with specified bin-size.\n",
    "            \n",
    "            Ungrouped Data : Raw data, or data that have not been summarized in any way.\n",
    "            \n",
    "            Grouped Data : Data that have been organized into a frequency distribution."
   ]
  },
  {
   "cell_type": "code",
   "execution_count": 1,
   "id": "29a59988",
   "metadata": {
    "ExecuteTime": {
     "end_time": "2023-11-11T05:38:06.786126Z",
     "start_time": "2023-11-11T05:38:06.149652Z"
    }
   },
   "outputs": [
    {
     "data": {
      "text/html": [
       "<div>\n",
       "<style scoped>\n",
       "    .dataframe tbody tr th:only-of-type {\n",
       "        vertical-align: middle;\n",
       "    }\n",
       "\n",
       "    .dataframe tbody tr th {\n",
       "        vertical-align: top;\n",
       "    }\n",
       "\n",
       "    .dataframe thead th {\n",
       "        text-align: right;\n",
       "    }\n",
       "</style>\n",
       "<table border=\"1\" class=\"dataframe\">\n",
       "  <thead>\n",
       "    <tr style=\"text-align: right;\">\n",
       "      <th></th>\n",
       "      <th>Bin Edges</th>\n",
       "      <th>Frequency</th>\n",
       "    </tr>\n",
       "  </thead>\n",
       "  <tbody>\n",
       "    <tr>\n",
       "      <th>0</th>\n",
       "      <td>65.0 - 73.25</td>\n",
       "      <td>2</td>\n",
       "    </tr>\n",
       "    <tr>\n",
       "      <th>1</th>\n",
       "      <td>73.25 - 81.5</td>\n",
       "      <td>3</td>\n",
       "    </tr>\n",
       "    <tr>\n",
       "      <th>2</th>\n",
       "      <td>81.5 - 89.75</td>\n",
       "      <td>3</td>\n",
       "    </tr>\n",
       "    <tr>\n",
       "      <th>3</th>\n",
       "      <td>89.75 - 98.0</td>\n",
       "      <td>3</td>\n",
       "    </tr>\n",
       "  </tbody>\n",
       "</table>\n",
       "</div>"
      ],
      "text/plain": [
       "      Bin Edges  Frequency\n",
       "0  65.0 - 73.25          2\n",
       "1  73.25 - 81.5          3\n",
       "2  81.5 - 89.75          3\n",
       "3  89.75 - 98.0          3"
      ]
     },
     "execution_count": 1,
     "metadata": {},
     "output_type": "execute_result"
    }
   ],
   "source": [
    "import numpy as np\n",
    "import pandas as pd\n",
    "\n",
    "# Ungrouped data (individual exam scores)\n",
    "exam_scores = [65, 72, 75, 78, 80, 82, 85, 88, 90, 95, 98]\n",
    "\n",
    "# Determine the range of the data\n",
    "data_range = np.ptp(exam_scores)\n",
    "\n",
    "# Decide on the number of bins (intervals) for the grouped data\n",
    "num_bins = 4\n",
    "\n",
    "# Calculate the bin width\n",
    "bin_width = data_range / num_bins\n",
    "\n",
    "# Define the bin edges\n",
    "bin_edges = [min(exam_scores) + i * bin_width for i in range(num_bins + 1)]\n",
    "\n",
    "# Create a histogram to get the frequency distribution\n",
    "hist, _ = np.histogram(exam_scores, bins=bin_edges)\n",
    "\n",
    "# Create a DataFrame to display the grouped data\n",
    "grouped_data = pd.DataFrame({\n",
    "    'Bin Edges': [f'{bin_edges[i]} - {bin_edges[i+1]}' for i in range(num_bins)],\n",
    "    'Frequency': hist\n",
    "})\n",
    "\n",
    "grouped_data"
   ]
  },
  {
   "cell_type": "markdown",
   "id": "59c3673a",
   "metadata": {},
   "source": [
    "    Class midpoint : midpoint of each class interval.\n",
    "    \n",
    "    Relative frequency : proportion of the total frequency that is in any given class interval in a frequency distribution.\n",
    "    \n",
    "    Cumulative frequency : running total of frequencies through the classes of a frequency distribution."
   ]
  },
  {
   "cell_type": "code",
   "execution_count": 2,
   "id": "d642b9f3",
   "metadata": {
    "ExecuteTime": {
     "end_time": "2023-11-11T05:38:06.800085Z",
     "start_time": "2023-11-11T05:38:06.787120Z"
    },
    "scrolled": true
   },
   "outputs": [
    {
     "name": "stdout",
     "output_type": "stream",
     "text": [
      "Grouped Data:\n"
     ]
    },
    {
     "data": {
      "text/html": [
       "<div>\n",
       "<style scoped>\n",
       "    .dataframe tbody tr th:only-of-type {\n",
       "        vertical-align: middle;\n",
       "    }\n",
       "\n",
       "    .dataframe tbody tr th {\n",
       "        vertical-align: top;\n",
       "    }\n",
       "\n",
       "    .dataframe thead th {\n",
       "        text-align: right;\n",
       "    }\n",
       "</style>\n",
       "<table border=\"1\" class=\"dataframe\">\n",
       "  <thead>\n",
       "    <tr style=\"text-align: right;\">\n",
       "      <th></th>\n",
       "      <th>Bin Edges</th>\n",
       "      <th>Frequency</th>\n",
       "      <th>Class Midpoint</th>\n",
       "      <th>Relative Frequency</th>\n",
       "      <th>Cumulative Frequency</th>\n",
       "    </tr>\n",
       "  </thead>\n",
       "  <tbody>\n",
       "    <tr>\n",
       "      <th>0</th>\n",
       "      <td>65.0 - 73.25</td>\n",
       "      <td>2</td>\n",
       "      <td>69.125</td>\n",
       "      <td>0.181818</td>\n",
       "      <td>2</td>\n",
       "    </tr>\n",
       "    <tr>\n",
       "      <th>1</th>\n",
       "      <td>73.25 - 81.5</td>\n",
       "      <td>3</td>\n",
       "      <td>77.375</td>\n",
       "      <td>0.272727</td>\n",
       "      <td>5</td>\n",
       "    </tr>\n",
       "    <tr>\n",
       "      <th>2</th>\n",
       "      <td>81.5 - 89.75</td>\n",
       "      <td>3</td>\n",
       "      <td>85.625</td>\n",
       "      <td>0.272727</td>\n",
       "      <td>8</td>\n",
       "    </tr>\n",
       "    <tr>\n",
       "      <th>3</th>\n",
       "      <td>89.75 - 98.0</td>\n",
       "      <td>3</td>\n",
       "      <td>93.875</td>\n",
       "      <td>0.272727</td>\n",
       "      <td>11</td>\n",
       "    </tr>\n",
       "  </tbody>\n",
       "</table>\n",
       "</div>"
      ],
      "text/plain": [
       "      Bin Edges  Frequency  Class Midpoint  Relative Frequency  \\\n",
       "0  65.0 - 73.25          2          69.125            0.181818   \n",
       "1  73.25 - 81.5          3          77.375            0.272727   \n",
       "2  81.5 - 89.75          3          85.625            0.272727   \n",
       "3  89.75 - 98.0          3          93.875            0.272727   \n",
       "\n",
       "   Cumulative Frequency  \n",
       "0                     2  \n",
       "1                     5  \n",
       "2                     8  \n",
       "3                    11  "
      ]
     },
     "execution_count": 2,
     "metadata": {},
     "output_type": "execute_result"
    }
   ],
   "source": [
    "# Calculate class midpoints\n",
    "class_midpoints = [(bin_edges[i] + bin_edges[i+1]) / 2 for i in range(num_bins)]\n",
    "grouped_data['Class Midpoint']= class_midpoints\n",
    "\n",
    "# Calculate relative frequencies\n",
    "total_samples = len(exam_scores)\n",
    "relative_frequencies = hist / total_samples\n",
    "grouped_data['Relative Frequency'] = relative_frequencies\n",
    "\n",
    "# Calculate cumulative frequencies\n",
    "cumulative_frequencies = np.cumsum(hist)\n",
    "grouped_data['Cumulative Frequency'] = cumulative_frequencies\n",
    "\n",
    "print(\"Grouped Data:\")\n",
    "grouped_data"
   ]
  },
  {
   "cell_type": "markdown",
   "id": "ad88ee51",
   "metadata": {},
   "source": [
    "    Question : The following data are the average weekly mortgage interest rates for a 40-week period.\n",
    "    \n",
    "        7.29 7.23 7.11 6.78 7.47\n",
    "        6.69 6.77 6.57 6.80 6.88\n",
    "        6.98 7.16 7.30 7.24 7.16\n",
    "        7.03 6.90 7.16 7.40 7.05\n",
    "        7.28 7.31 6.87 7.68 7.03\n",
    "        7.17 6.78 7.08 7.12 7.31\n",
    "        7.40 6.35 6.96 7.29 7.16\n",
    "        6.97 6.96 7.02 7.13 6.84\n",
    "        \n",
    "    Construct a frequency distribution for these data. Calculate and display the class midpoints, relative frequencies, and cumulative frequencies for this frequency distribution."
   ]
  },
  {
   "cell_type": "markdown",
   "id": "7933f685",
   "metadata": {},
   "source": [
    "    Range 7.68-6.35 = 1.33\n",
    "    Taking 7 classes.\n",
    "\n",
    "$$ Class Width = \\frac{Range}{No. of Classes} = \\frac{1.33}{7} = 0.19 $$"
   ]
  },
  {
   "cell_type": "code",
   "execution_count": 3,
   "id": "6e407bf9",
   "metadata": {
    "ExecuteTime": {
     "end_time": "2023-11-11T05:38:06.818073Z",
     "start_time": "2023-11-11T05:38:06.802083Z"
    }
   },
   "outputs": [
    {
     "name": "stdout",
     "output_type": "stream",
     "text": [
      "Grouped Data:\n"
     ]
    },
    {
     "data": {
      "text/html": [
       "<div>\n",
       "<style scoped>\n",
       "    .dataframe tbody tr th:only-of-type {\n",
       "        vertical-align: middle;\n",
       "    }\n",
       "\n",
       "    .dataframe tbody tr th {\n",
       "        vertical-align: top;\n",
       "    }\n",
       "\n",
       "    .dataframe thead th {\n",
       "        text-align: right;\n",
       "    }\n",
       "</style>\n",
       "<table border=\"1\" class=\"dataframe\">\n",
       "  <thead>\n",
       "    <tr style=\"text-align: right;\">\n",
       "      <th></th>\n",
       "      <th>Bin Edges</th>\n",
       "      <th>Class Midpoint</th>\n",
       "      <th>Frequency</th>\n",
       "      <th>Relative Frequency</th>\n",
       "      <th>Cumulative Frequency</th>\n",
       "    </tr>\n",
       "  </thead>\n",
       "  <tbody>\n",
       "    <tr>\n",
       "      <th>0</th>\n",
       "      <td>6.35 - 6.54</td>\n",
       "      <td>6.445</td>\n",
       "      <td>1</td>\n",
       "      <td>0.025</td>\n",
       "      <td>1</td>\n",
       "    </tr>\n",
       "    <tr>\n",
       "      <th>1</th>\n",
       "      <td>6.54 - 6.73</td>\n",
       "      <td>6.635</td>\n",
       "      <td>2</td>\n",
       "      <td>0.050</td>\n",
       "      <td>3</td>\n",
       "    </tr>\n",
       "    <tr>\n",
       "      <th>2</th>\n",
       "      <td>6.73 - 6.92</td>\n",
       "      <td>6.825</td>\n",
       "      <td>8</td>\n",
       "      <td>0.200</td>\n",
       "      <td>11</td>\n",
       "    </tr>\n",
       "    <tr>\n",
       "      <th>3</th>\n",
       "      <td>6.92 - 7.11</td>\n",
       "      <td>7.015</td>\n",
       "      <td>9</td>\n",
       "      <td>0.225</td>\n",
       "      <td>20</td>\n",
       "    </tr>\n",
       "    <tr>\n",
       "      <th>4</th>\n",
       "      <td>7.11 - 7.3</td>\n",
       "      <td>7.205</td>\n",
       "      <td>13</td>\n",
       "      <td>0.325</td>\n",
       "      <td>33</td>\n",
       "    </tr>\n",
       "    <tr>\n",
       "      <th>5</th>\n",
       "      <td>7.3 - 7.49</td>\n",
       "      <td>7.395</td>\n",
       "      <td>6</td>\n",
       "      <td>0.150</td>\n",
       "      <td>39</td>\n",
       "    </tr>\n",
       "    <tr>\n",
       "      <th>6</th>\n",
       "      <td>7.49 - 7.68</td>\n",
       "      <td>7.585</td>\n",
       "      <td>1</td>\n",
       "      <td>0.025</td>\n",
       "      <td>40</td>\n",
       "    </tr>\n",
       "  </tbody>\n",
       "</table>\n",
       "</div>"
      ],
      "text/plain": [
       "     Bin Edges  Class Midpoint  Frequency  Relative Frequency  \\\n",
       "0  6.35 - 6.54           6.445          1               0.025   \n",
       "1  6.54 - 6.73           6.635          2               0.050   \n",
       "2  6.73 - 6.92           6.825          8               0.200   \n",
       "3  6.92 - 7.11           7.015          9               0.225   \n",
       "4   7.11 - 7.3           7.205         13               0.325   \n",
       "5   7.3 - 7.49           7.395          6               0.150   \n",
       "6  7.49 - 7.68           7.585          1               0.025   \n",
       "\n",
       "   Cumulative Frequency  \n",
       "0                     1  \n",
       "1                     3  \n",
       "2                    11  \n",
       "3                    20  \n",
       "4                    33  \n",
       "5                    39  \n",
       "6                    40  "
      ]
     },
     "execution_count": 3,
     "metadata": {},
     "output_type": "execute_result"
    }
   ],
   "source": [
    "import numpy as np\n",
    "import pandas as pd\n",
    "\n",
    "# Ungrouped data\n",
    "data = [\n",
    "    7.29, 7.23, 7.11, 6.78, 7.47,\n",
    "    6.69, 6.77, 6.57, 6.80, 6.88,\n",
    "    6.98, 7.16, 7.30, 7.24, 7.16,\n",
    "    7.03, 6.90, 7.16, 7.40, 7.05,\n",
    "    7.28, 7.31, 6.87, 7.68, 7.03,\n",
    "    7.17, 6.78, 7.08, 7.12, 7.31,\n",
    "    7.40, 6.35, 6.96, 7.29, 7.16,\n",
    "    6.97, 6.96, 7.02, 7.13, 6.84\n",
    "]\n",
    "\n",
    "# Decide on the number of bins (intervals) for the grouped data\n",
    "num_bins = 7\n",
    "\n",
    "# Calculate the bin width\n",
    "bin_width = (max(data) - min(data)) / num_bins\n",
    "\n",
    "# Define the bin edges\n",
    "bin_edges = [round(min(data) + i * bin_width, 2) for i in range(num_bins + 1)]\n",
    "\n",
    "# Create a histogram to get the frequency distribution\n",
    "hist, _ = np.histogram(data, bins=bin_edges)\n",
    "\n",
    "# Calculate class midpoints\n",
    "class_midpoints = [(bin_edges[i] + bin_edges[i+1]) / 2 for i in range(num_bins)]\n",
    "\n",
    "# Calculate relative frequencies\n",
    "total_samples = len(data)\n",
    "relative_frequencies = hist / total_samples\n",
    "\n",
    "# Calculate cumulative frequencies\n",
    "cumulative_frequencies = np.cumsum(hist)\n",
    "\n",
    "# Create a DataFrame to display the results\n",
    "grouped_data = pd.DataFrame({\n",
    "    'Bin Edges': [f'{bin_edges[i]} - {bin_edges[i+1]}' for i in range(num_bins)],\n",
    "    'Class Midpoint': class_midpoints,\n",
    "    'Frequency': hist,\n",
    "    'Relative Frequency': relative_frequencies,\n",
    "    'Cumulative Frequency': cumulative_frequencies\n",
    "})\n",
    "\n",
    "print(\"Grouped Data:\")\n",
    "grouped_data"
   ]
  },
  {
   "cell_type": "markdown",
   "id": "7110ca09",
   "metadata": {},
   "source": [
    "    Histograms : \n",
    "        A series of contiguous bars or rectangles that represent the frequency of data in given class intervals."
   ]
  },
  {
   "cell_type": "code",
   "execution_count": null,
   "id": "6f01ed79",
   "metadata": {},
   "outputs": [],
   "source": []
  },
  {
   "cell_type": "markdown",
   "id": "fa68e3b0",
   "metadata": {},
   "source": [
    "    Pie Chart : \n",
    "        A circular depiction of data where the area of the whole pie represents 100% of the data and slices of the pie represent a percentage breakdown of the sublevels."
   ]
  },
  {
   "cell_type": "code",
   "execution_count": null,
   "id": "ab057803",
   "metadata": {},
   "outputs": [],
   "source": []
  },
  {
   "cell_type": "markdown",
   "id": "b430a937",
   "metadata": {},
   "source": [
    "     Bar Graphs : \n",
    "         A bar graph or chart contains two or more categories along one axis and a series of bars, one for each category, along the other axis."
   ]
  },
  {
   "cell_type": "code",
   "execution_count": null,
   "id": "43cbf424",
   "metadata": {},
   "outputs": [],
   "source": []
  },
  {
   "cell_type": "code",
   "execution_count": null,
   "id": "75105b16",
   "metadata": {},
   "outputs": [],
   "source": []
  },
  {
   "cell_type": "code",
   "execution_count": null,
   "id": "ef49f5e5",
   "metadata": {},
   "outputs": [],
   "source": []
  },
  {
   "cell_type": "code",
   "execution_count": null,
   "id": "f61ec7f6",
   "metadata": {},
   "outputs": [],
   "source": []
  },
  {
   "cell_type": "markdown",
   "id": "0991fe19",
   "metadata": {},
   "source": [
    "    Statistics : It's a branch of mathematics and a scientific discipline that deals with the collection, analysis, interpretation, presentation, and organization of data.\n",
    "                 A science dealing with the collection,analysis, interpretation, and presentation of numerical data.\n",
    "\n",
    "    Two branch of Statistics [Descriptive Statistic] [Inferential Statistics]\n",
    "    \n",
    "    Understanding\n",
    "        Population : a collection of persons, objects, or items of interest.\n",
    "            Gather of data from the whole population for a given measurement of interest, it's also called census.\n",
    "    \n",
    "        1. Descriptive Statistics:\n",
    "\n",
    "            Measures of Central Tendency:\n",
    "            \n",
    "                Mean (average)\n",
    "                Median (middle value)\n",
    "                Mode (most frequent value)\n",
    "                \n",
    "            Measures of Dispersion:\n",
    "            \n",
    "                Range (difference between the maximum and minimum values)\n",
    "                Variance\n",
    "                Standard Deviation\n",
    "                Interquartile Range (IQR)\n",
    "                \n",
    "            Frequency Distributions and Histograms\n",
    "                \n",
    "            Summary Statistics: Providing an overview of data, including minimum, maximum, and quartile values.\n",
    "            \n",
    "        2. Inferential Statistics:\n",
    "\n",
    "            Probability: Foundations of statistical reasoning, including concepts like events, sample spaces, and probability distributions.\n",
    "            Sampling Methods: Techniques for selecting representative samples from populations.\n",
    "            Hypothesis Testing: Procedures for testing hypotheses and making decisions based on sample data.\n",
    "            Confidence Intervals: Estimating population parameters with a certain level of confidence.\n",
    "            Regression Analysis: Modeling relationships between variables and making predictions.\n",
    "            Analysis of Variance (ANOVA): Comparing means between multiple groups or treatments.\n",
    "            Chi-Square Tests: Analyzing categorical data for independence and goodness-of-fit.\n",
    "            Non-parametric Statistics: Analyzing data that does not meet the assumptions of traditional parametric tests.\n",
    "        \n",
    "        3. Probability Distributions:\n",
    "\n",
    "        Discrete Distributions:\n",
    "            Binomial Distribution\n",
    "            Poisson Distribution\n",
    "            Bernoulli Distribution\n",
    "        Continuous Distributions:\n",
    "            Normal Distribution\n",
    "            Exponential Distribution\n",
    "            Uniform Distribution\n",
    "            \n",
    "        4. Statistical Methods:\n",
    "\n",
    "            Correlation and Covariance: Measuring relationships between variables.\n",
    "            Time Series Analysis: Analyzing data collected over time, such as stock prices or weather patterns.\n",
    "            Multivariate Analysis: Dealing with datasets involving multiple variables.\n",
    "            Bayesian Statistics: Incorporating prior knowledge and updating beliefs with new data.\n",
    "            Machine Learning and Statistics: Integrating statistical methods into machine learning algorithms."
   ]
  }
 ],
 "metadata": {
  "kernelspec": {
   "display_name": "Python 3 (ipykernel)",
   "language": "python",
   "name": "python3"
  },
  "language_info": {
   "codemirror_mode": {
    "name": "ipython",
    "version": 3
   },
   "file_extension": ".py",
   "mimetype": "text/x-python",
   "name": "python",
   "nbconvert_exporter": "python",
   "pygments_lexer": "ipython3",
   "version": "3.11.5"
  },
  "toc": {
   "base_numbering": 1,
   "nav_menu": {},
   "number_sections": true,
   "sideBar": true,
   "skip_h1_title": false,
   "title_cell": "Table of Contents",
   "title_sidebar": "Contents",
   "toc_cell": false,
   "toc_position": {},
   "toc_section_display": true,
   "toc_window_display": false
  },
  "varInspector": {
   "cols": {
    "lenName": 16,
    "lenType": 16,
    "lenVar": 40
   },
   "kernels_config": {
    "python": {
     "delete_cmd_postfix": "",
     "delete_cmd_prefix": "del ",
     "library": "var_list.py",
     "varRefreshCmd": "print(var_dic_list())"
    },
    "r": {
     "delete_cmd_postfix": ") ",
     "delete_cmd_prefix": "rm(",
     "library": "var_list.r",
     "varRefreshCmd": "cat(var_dic_list()) "
    }
   },
   "types_to_exclude": [
    "module",
    "function",
    "builtin_function_or_method",
    "instance",
    "_Feature"
   ],
   "window_display": false
  }
 },
 "nbformat": 4,
 "nbformat_minor": 5
}
