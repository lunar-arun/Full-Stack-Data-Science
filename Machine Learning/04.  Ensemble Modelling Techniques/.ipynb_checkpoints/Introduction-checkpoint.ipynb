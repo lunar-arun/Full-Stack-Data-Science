{
 "cells": [
  {
   "cell_type": "markdown",
   "id": "ec3e8e44",
   "metadata": {},
   "source": [
    "    Ensemble learning is a technique that combines multiple machine learning algorithms to produce one optimal predictive model.\n",
    "        TYPES OF ENSEMBLE MODELING TECHNIQUES\n",
    "            Bagging (with reduced variance)\n",
    "                 Uses samples to get an estimate by aggregating the scores over many samples. \n",
    "                 It's effective when you have limited data.\n",
    "            Boosting (with reduced bias)\n",
    "                Boosting involves sequentially adding models to the ensemble where \n",
    "                subsequent models correct the performance of prior models.\n",
    "            Stacking (with improved predictions)\n",
    "                Combines multiple machine learning algorithms via meta learning. \n",
    "            Blending"
   ]
  },
  {
   "cell_type": "code",
   "execution_count": null,
   "id": "36cc5854",
   "metadata": {},
   "outputs": [],
   "source": []
  }
 ],
 "metadata": {
  "kernelspec": {
   "display_name": "Python 3 (ipykernel)",
   "language": "python",
   "name": "python3"
  },
  "language_info": {
   "codemirror_mode": {
    "name": "ipython",
    "version": 3
   },
   "file_extension": ".py",
   "mimetype": "text/x-python",
   "name": "python",
   "nbconvert_exporter": "python",
   "pygments_lexer": "ipython3",
   "version": "3.10.9"
  }
 },
 "nbformat": 4,
 "nbformat_minor": 5
}
