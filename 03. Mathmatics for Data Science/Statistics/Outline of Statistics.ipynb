{
 "cells": [
  {
   "cell_type": "markdown",
   "id": "d4f607f6",
   "metadata": {},
   "source": [
    "    Statistics : It's a branch of mathematics and a scientific discipline that deals with the collection, analysis, interpretation, presentation, and organization of data.\n",
    "\n",
    "    Two branch of Statistics\n",
    "        1. Descriptive Statistics:\n",
    "\n",
    "            Measures of Central Tendency:\n",
    "            \n",
    "                Mean (average)\n",
    "                Median (middle value)\n",
    "                Mode (most frequent value)\n",
    "                \n",
    "            Measures of Dispersion:\n",
    "            \n",
    "                Range (difference between the maximum and minimum values)\n",
    "                Variance\n",
    "                Standard Deviation\n",
    "                Interquartile Range (IQR)\n",
    "                Frequency Distributions and Histograms\n",
    "                \n",
    "    Summary Statistics: Providing an overview of data, including minimum, maximum, and quartile values.\n",
    "        2. Inferential Statistics:\n",
    "\n",
    "            Probability: Foundations of statistical reasoning, including concepts like events, sample spaces, and probability distributions.\n",
    "            Sampling Methods: Techniques for selecting representative samples from populations.\n",
    "            Hypothesis Testing: Procedures for testing hypotheses and making decisions based on sample data.\n",
    "            Confidence Intervals: Estimating population parameters with a certain level of confidence.\n",
    "            Regression Analysis: Modeling relationships between variables and making predictions.\n",
    "            Analysis of Variance (ANOVA): Comparing means between multiple groups or treatments.\n",
    "            Chi-Square Tests: Analyzing categorical data for independence and goodness-of-fit.\n",
    "            Non-parametric Statistics: Analyzing data that does not meet the assumptions of traditional parametric tests.\n",
    "        \n",
    "        3. Probability Distributions:\n",
    "\n",
    "        Discrete Distributions:\n",
    "            Binomial Distribution\n",
    "            Poisson Distribution\n",
    "            Bernoulli Distribution\n",
    "        Continuous Distributions:\n",
    "            Normal Distribution\n",
    "            Exponential Distribution\n",
    "            Uniform Distribution\n",
    "            \n",
    "        4. Statistical Methods:\n",
    "\n",
    "            Correlation and Covariance: Measuring relationships between variables.\n",
    "            Time Series Analysis: Analyzing data collected over time, such as stock prices or weather patterns.\n",
    "            Multivariate Analysis: Dealing with datasets involving multiple variables.\n",
    "            Bayesian Statistics: Incorporating prior knowledge and updating beliefs with new data.\n",
    "            Machine Learning and Statistics: Integrating statistical methods into machine learning algorithms."
   ]
  },
  {
   "cell_type": "markdown",
   "id": "6e02eca0",
   "metadata": {},
   "source": []
  },
  {
   "cell_type": "markdown",
   "id": "609e848b",
   "metadata": {},
   "source": []
  },
  {
   "cell_type": "markdown",
   "id": "3d51e3bd",
   "metadata": {},
   "source": []
  },
  {
   "cell_type": "markdown",
   "id": "f0b68e4f",
   "metadata": {},
   "source": []
  },
  {
   "cell_type": "markdown",
   "id": "ea9a668f",
   "metadata": {},
   "source": []
  },
  {
   "cell_type": "markdown",
   "id": "37a58793",
   "metadata": {},
   "source": []
  },
  {
   "cell_type": "markdown",
   "id": "aba6b4ad",
   "metadata": {},
   "source": []
  }
 ],
 "metadata": {
  "kernelspec": {
   "display_name": "Python 3 (ipykernel)",
   "language": "python",
   "name": "python3"
  },
  "language_info": {
   "codemirror_mode": {
    "name": "ipython",
    "version": 3
   },
   "file_extension": ".py",
   "mimetype": "text/x-python",
   "name": "python",
   "nbconvert_exporter": "python",
   "pygments_lexer": "ipython3",
   "version": "3.10.9"
  }
 },
 "nbformat": 4,
 "nbformat_minor": 5
}
