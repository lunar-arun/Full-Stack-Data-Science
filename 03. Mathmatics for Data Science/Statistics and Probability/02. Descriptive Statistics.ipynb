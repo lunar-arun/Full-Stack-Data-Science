{
 "cells": [
  {
   "cell_type": "markdown",
   "id": "66051ef1",
   "metadata": {},
   "source": [
    "    Descriptive statistics is a branch of statistics that involves the use of various numerical and graphical techniques to summarize and describe the main features of a dataset. It provides a concise and informative summary of the data, helping you understand its central tendencies, variability, and distribution.\n",
    "    \n",
    "    1. Measure of Central Tendency : "
   ]
  },
  {
   "cell_type": "markdown",
   "id": "8600113d",
   "metadata": {},
   "source": [
    "    Mean (Average): The arithmetic mean is calculated by summing all data points and dividing by the total number of data points."
   ]
  },
  {
   "cell_type": "code",
   "execution_count": 1,
   "id": "50a0da95",
   "metadata": {},
   "outputs": [
    {
     "name": "stdout",
     "output_type": "stream",
     "text": [
      "Mean: 30.0\n"
     ]
    }
   ],
   "source": [
    "import numpy as np\n",
    "\n",
    "data = np.array([10, 20, 30, 40, 50])\n",
    "mean = np.mean(data)\n",
    "print(\"Mean:\", mean)"
   ]
  },
  {
   "cell_type": "markdown",
   "id": "00a4ce52",
   "metadata": {},
   "source": [
    "    Median (Middle Value): The median is the middle value when the data is sorted. If there is an even number of data points, it's the average of the two middle values."
   ]
  },
  {
   "cell_type": "code",
   "execution_count": 2,
   "id": "a3c71d96",
   "metadata": {},
   "outputs": [
    {
     "name": "stdout",
     "output_type": "stream",
     "text": [
      "Median: 30.0\n"
     ]
    }
   ],
   "source": [
    "import numpy as np\n",
    "\n",
    "data = np.array([10, 20, 30, 40, 50])\n",
    "median = np.median(data)\n",
    "print(\"Median:\", median)"
   ]
  },
  {
   "cell_type": "markdown",
   "id": "e8dd7bf7",
   "metadata": {},
   "source": [
    "    Mode (Most Frequent Value): The mode is the value that appears most frequently in the dataset."
   ]
  },
  {
   "cell_type": "code",
   "execution_count": 4,
   "id": "7f412f24",
   "metadata": {},
   "outputs": [
    {
     "name": "stdout",
     "output_type": "stream",
     "text": [
      "Mode: 30\n"
     ]
    }
   ],
   "source": [
    "from scipy import stats\n",
    "import warnings\n",
    "warnings.filterwarnings('ignore')\n",
    "\n",
    "data = [10, 20, 30, 30, 40, 50, 50]\n",
    "mode = stats.mode(data)\n",
    "print(\"Mode:\", mode.mode[0])"
   ]
  },
  {
   "cell_type": "markdown",
   "id": "e044e96c",
   "metadata": {},
   "source": [
    "    2. Measures of Dispersion:\n",
    "    Range: The range is the difference between the maximum and minimum values in the dataset."
   ]
  },
  {
   "cell_type": "code",
   "execution_count": 5,
   "id": "332a4d7d",
   "metadata": {},
   "outputs": [
    {
     "name": "stdout",
     "output_type": "stream",
     "text": [
      "Range: 40\n"
     ]
    }
   ],
   "source": [
    "import numpy as np\n",
    "\n",
    "data = np.array([10, 20, 30, 40, 50])\n",
    "data_range = np.ptp(data)\n",
    "print(\"Range:\", data_range)"
   ]
  },
  {
   "cell_type": "markdown",
   "id": "53a5aa5b",
   "metadata": {},
   "source": [
    "    Variance: Variance measures how data points deviate from the mean. It's the average of the squared differences from the mean."
   ]
  },
  {
   "cell_type": "code",
   "execution_count": 6,
   "id": "4417d692",
   "metadata": {},
   "outputs": [
    {
     "name": "stdout",
     "output_type": "stream",
     "text": [
      "Variance: 200.0\n"
     ]
    }
   ],
   "source": [
    "import numpy as np\n",
    "\n",
    "data = np.array([10, 20, 30, 40, 50])\n",
    "variance = np.var(data)\n",
    "print(\"Variance:\", variance)"
   ]
  },
  {
   "cell_type": "markdown",
   "id": "58538d75",
   "metadata": {},
   "source": [
    "    Standard Deviation: The standard deviation is the square root of the variance. It represents the average distance between data points and the mean."
   ]
  },
  {
   "cell_type": "code",
   "execution_count": 7,
   "id": "22cc80ed",
   "metadata": {},
   "outputs": [
    {
     "name": "stdout",
     "output_type": "stream",
     "text": [
      "Standard Deviation: 14.142135623730951\n"
     ]
    }
   ],
   "source": [
    "import numpy as np\n",
    "\n",
    "data = np.array([10, 20, 30, 40, 50])\n",
    "std_deviation = np.std(data)\n",
    "print(\"Standard Deviation:\", std_deviation)"
   ]
  },
  {
   "cell_type": "markdown",
   "id": "3e4a3508",
   "metadata": {},
   "source": [
    "    3. Frequency Distributions and Histograms:\n",
    "    A frequency distribution is a table that shows how often each value in a dataset appears. A histogram is a graphical representation of this distribution."
   ]
  },
  {
   "cell_type": "code",
   "execution_count": 8,
   "id": "7c08b2a6",
   "metadata": {},
   "outputs": [
    {
     "data": {
      "image/png": "[encoded data removed]",
      "text/plain": [
       "<Figure size 640x480 with 1 Axes>"
      ]
     },
     "metadata": {},
     "output_type": "display_data"
    }
   ],
   "source": [
    "import matplotlib.pyplot as plt\n",
    "\n",
    "data = np.array([10, 20, 30, 30, 40, 50, 50])\n",
    "plt.hist(data, bins=5, edgecolor='k')\n",
    "plt.xlabel('Value')\n",
    "plt.ylabel('Frequency')\n",
    "plt.title('Histogram')\n",
    "plt.show()"
   ]
  },
  {
   "cell_type": "markdown",
   "id": "99bd5c9c",
   "metadata": {},
   "source": [
    "    4. Summary Statistics:\n",
    "\n",
    "    Summary statistics include minimum, maximum, quartiles (25th and 75th percentiles), and the interquartile range (IQR)."
   ]
  },
  {
   "cell_type": "code",
   "execution_count": 9,
   "id": "f57a18eb",
   "metadata": {},
   "outputs": [
    {
     "name": "stdout",
     "output_type": "stream",
     "text": [
      "Minimum: 10\n",
      "Maximum: 50\n",
      "25th Percentile (Q1): 20.0\n",
      "75th Percentile (Q3): 40.0\n",
      "Interquartile Range (IQR): 20.0\n"
     ]
    }
   ],
   "source": [
    "import numpy as np\n",
    "\n",
    "data = np.array([10, 20, 30, 40, 50])\n",
    "min_val = np.min(data)\n",
    "max_val = np.max(data)\n",
    "quartiles = np.percentile(data, [25, 75])\n",
    "iqr = quartiles[1] - quartiles[0]\n",
    "\n",
    "print(\"Minimum:\", min_val)\n",
    "print(\"Maximum:\", max_val)\n",
    "print(\"25th Percentile (Q1):\", quartiles[0])\n",
    "print(\"75th Percentile (Q3):\", quartiles[1])\n",
    "print(\"Interquartile Range (IQR):\", iqr)"
   ]
  },
  {
   "cell_type": "code",
   "execution_count": null,
   "id": "312a6b84",
   "metadata": {},
   "outputs": [],
   "source": []
  }
 ],
 "metadata": {
  "kernelspec": {
   "display_name": "Python 3 (ipykernel)",
   "language": "python",
   "name": "python3"
  },
  "language_info": {
   "codemirror_mode": {
    "name": "ipython",
    "version": 3
   },
   "file_extension": ".py",
   "mimetype": "text/x-python",
   "name": "python",
   "nbconvert_exporter": "python",
   "pygments_lexer": "ipython3",
   "version": "3.10.9"
  }
 },
 "nbformat": 4,
 "nbformat_minor": 5
}
